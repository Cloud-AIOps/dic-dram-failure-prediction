{
 "cells": [
  {
   "cell_type": "code",
   "execution_count": 3,
   "id": "40afb901-7506-40f6-9565-ceebd836d61f",
   "metadata": {
    "tags": []
   },
   "outputs": [],
   "source": [
    "import os\n",
    "import json\n",
    "import datetime\n",
    "import logging\n",
    "import warnings\n",
    "\n",
    "import pandas as pd\n",
    "import numpy as np\n",
    "from tqdm import tqdm\n",
    "# import cudf\n",
    "from numba import cuda\n",
    "from collections import Counter\n",
    "# import cupy as cp\n",
    "\n",
    "from sklearn.metrics import accuracy_score, precision_score, recall_score\n",
    "import config as CONFIG\n",
    "import utils\n",
    "\n",
    "warnings.filterwarnings(\"ignore\")\n",
    "logging.basicConfig(level=logging.INFO, format=\"%(asctime)s - %(levelname)s - %(message)s\")"
   ]
  },
  {
   "cell_type": "code",
   "execution_count": 33,
   "id": "aa11b505-2219-4cfc-a509-59b93f2ffa2b",
   "metadata": {
    "tags": []
   },
   "outputs": [
    {
     "name": "stderr",
     "output_type": "stream",
     "text": [
      "100%|████████████████████████████████████████████████████████████████████████████████████████| 30/30 [01:05<00:00,  2.17s/it]\n"
     ]
    }
   ],
   "source": [
    "\n",
    "for i in tqdm(range(30)):\n",
    "    if i == 22:\n",
    "        continue\n",
    "    mcelog = pd.read_csv(os.path.join(CONFIG.PATH_PROCESSED, f\"mcelog_{i}.csv\"))\n",
    "    uce = mcelog[mcelog[\"failed_time\"]!=\"2023-01-01 00:00:00\"]\n",
    "    uce.to_csv(os.path.join(CONFIG.PATH_PROCESSED, f\"uce_{i}.csv\"))"
   ]
  },
  {
   "cell_type": "code",
   "execution_count": 5,
   "id": "d9b36209-203f-44d5-8b32-86145cf0b0ab",
   "metadata": {
    "tags": []
   },
   "outputs": [
    {
     "data": {
      "text/plain": [
       "30502"
      ]
     },
     "execution_count": 5,
     "metadata": {},
     "output_type": "execute_result"
    }
   ],
   "source": [
    "inventory = pd.read_csv(os.path.join(CONFIG.PATH_RAW, \"ali/inventory.csv\"))\n",
    "sms = inventory[\"server_manufacturer\"].drop_duplicates().to_list()\n",
    "dms = inventory[\"DRAM_model\"].drop_duplicates().to_list()\n",
    "dns = inventory[\"DIMM_number\"].drop_duplicates().to_list()\n",
    "sid = inventory[\"sid\"].drop_duplicates().to_list()\n",
    "dms\n",
    "\n",
    "len(sid)"
   ]
  },
  {
   "cell_type": "code",
   "execution_count": 8,
   "id": "eb750696-024b-4480-8c7c-ee4304688669",
   "metadata": {
    "tags": []
   },
   "outputs": [
    {
     "data": {
      "text/plain": [
       "30502"
      ]
     },
     "execution_count": 8,
     "metadata": {},
     "output_type": "execute_result"
    }
   ],
   "source": [
    "mcelog = pd.read_csv(os.path.join(CONFIG.PATH_RAW, \"ali/mcelog.csv\"))\n",
    "\n",
    "sid = mcelog[\"sid\"].drop_duplicates().to_list()\n",
    "\n",
    "len(sid)"
   ]
  },
  {
   "cell_type": "code",
   "execution_count": 9,
   "id": "ddd75be7-7bd3-4bff-9dde-804132bc49e5",
   "metadata": {
    "tags": []
   },
   "outputs": [
    {
     "data": {
      "text/plain": [
       "75214692"
      ]
     },
     "execution_count": 9,
     "metadata": {},
     "output_type": "execute_result"
    }
   ],
   "source": [
    "len(mcelog)"
   ]
  },
  {
   "cell_type": "code",
   "execution_count": 7,
   "id": "8a2a4bb6-2a75-4919-a706-8fb45b1fc11a",
   "metadata": {
    "tags": []
   },
   "outputs": [
    {
     "data": {
      "text/plain": [
       "3017"
      ]
     },
     "execution_count": 7,
     "metadata": {},
     "output_type": "execute_result"
    }
   ],
   "source": [
    "tourble = pd.read_csv(os.path.join(CONFIG.PATH_RAW, \"ali/trouble_tickets.csv\"))\n",
    "\n",
    "sid = tourble[\"sid\"].drop_duplicates().to_list()\n",
    "\n",
    "len(sid)"
   ]
  },
  {
   "cell_type": "code",
   "execution_count": 184,
   "id": "e6b4cf3c-f1a5-468e-bfc7-558f22ad0cd2",
   "metadata": {
    "tags": []
   },
   "outputs": [
    {
     "name": "stderr",
     "output_type": "stream",
     "text": [
      "100%|████████████████████████████████████████████████████████████████████████████████████████| 29/29 [03:08<00:00,  6.48s/it]"
     ]
    },
    {
     "name": "stdout",
     "output_type": "stream",
     "text": [
      "{'M2_C1': 4648119, 'M2_A2': 4932162, 'M2_C2': 439458, 'M2_B1': 2787994, 'M2_A1': 4887160, 'M2_B2': 16722, 'M2_B3': 178630, 'M1_C1': 1646525, 'M1_A2': 1984258, 'M1_C2': 548454, 'M1_B1': 1302117, 'M1_A1': 1599472, 'M1_B2': 2122, 'M1_B3': 86563, 'M3_C1': 796594, 'M3_A2': 998428, 'M3_C2': 78156, 'M3_B1': 5398943, 'M3_A1': 4291891, 'M3_B2': 6968, 'M3_B3': 58242, 'M4_C1': 3706825, 'M4_A2': 0, 'M4_C2': 0, 'M4_B1': 96842, 'M4_A1': 82, 'M4_B2': 0, 'M4_B3': 0}\n"
     ]
    },
    {
     "name": "stderr",
     "output_type": "stream",
     "text": [
      "\n"
     ]
    }
   ],
   "source": [
    "\n",
    "d = {}\n",
    "for i in tqdm(range(29)):\n",
    "    if i == 22:\n",
    "        continue\n",
    "    mcelog = pd.read_csv(os.path.join(CONFIG.PATH_PROCESSED, f\"mcelog_{i}.csv\"))\n",
    "    mcelog = cudf.DataFrame(mcelog)\n",
    "    for sm in sms:\n",
    "        for dm in dms:\n",
    "            k = f\"{sm}_{dm}\"\n",
    "            if k in d.keys():\n",
    "                d[k] = d[k] + len(mcelog[(mcelog[\"server_manufacturer\"]==sm)&(mcelog[\"DRAM_model\"]==dm)])\n",
    "            else:\n",
    "                d[k] = len(mcelog[(mcelog[\"server_manufacturer\"]==sm)&(mcelog[\"DRAM_model\"]==dm)])\n",
    "print(d)"
   ]
  },
  {
   "cell_type": "code",
   "execution_count": 42,
   "id": "ed8ad507-332b-4a5b-aad6-5f9e9cd9e871",
   "metadata": {
    "tags": []
   },
   "outputs": [
    {
     "name": "stdout",
     "output_type": "stream",
     "text": [
      "  Group1 Group2  Value\n",
      "0      A      X     50\n",
      "1      A      Y     40\n",
      "2      B      X     30\n"
     ]
    }
   ],
   "source": [
    "import pandas as pd\n",
    "\n",
    "# 创建示例 DataFrame\n",
    "data = {'Group1': ['A', 'A', 'B', 'A', 'A'],\n",
    "        'Group2': ['X', 'Y', 'X', 'Y', 'X'],\n",
    "        'Value': [10, 20, 30, 40, 50]}\n",
    "df = pd.DataFrame(data)\n",
    "\n",
    "# 使用 groupby 对 'Group1' 和 'Group2' 列进行分组，并计算 'Value' 列的最大值\n",
    "result = df.groupby(['Group1', 'Group2'])['Value'].max().reset_index()\n",
    "\n",
    "print(result)\n"
   ]
  },
  {
   "cell_type": "code",
   "execution_count": 57,
   "id": "6158a773-9a14-4118-b5b9-72adcb0cc3ce",
   "metadata": {
    "tags": []
   },
   "outputs": [
    {
     "name": "stderr",
     "output_type": "stream",
     "text": [
      "100%|████████████████████████████████████████████████████████████████████████████████████████| 30/30 [01:09<00:00,  2.32s/it]"
     ]
    },
    {
     "name": "stdout",
     "output_type": "stream",
     "text": [
      "  server_manufacturer   col\n",
      "0                  M1  1016\n",
      "1                  M2  1016\n",
      "2                  M4  1016\n",
      "3                  M3  1016\n"
     ]
    },
    {
     "name": "stderr",
     "output_type": "stream",
     "text": [
      "\n"
     ]
    }
   ],
   "source": [
    "grouped_list = []\n",
    "for i in tqdm(range(30)):\n",
    "    if i == 22:\n",
    "        continue\n",
    "    mcelog = pd.read_csv(os.path.join(CONFIG.PATH_PROCESSED, f\"mcelog_{i}.csv\"))\n",
    "    mcelog_cudf = cudf.DataFrame(mcelog)\n",
    "    mcelog_cudf = mcelog_cudf[[\"row\", \"col\", \"server_manufacturer\", \"DRAM_model\", \"DIMM_number\"]]\n",
    "\n",
    "    grouped_one = mcelog_cudf.groupby(['server_manufacturer', 'DRAM_model',\"DIMM_number\"])['col'].max().reset_index()\n",
    "    # grouped_one = mcelog_cudf.groupby(['server_manufacturer', 'DRAM_model',\"DIMM_number\"])['col'].max().reset_index()\n",
    "    grouped_list.append(grouped_one)\n",
    "grouped = cudf.concat(grouped_list, axis=0)\n",
    "grouped = grouped.groupby(['server_manufacturer'])['col'].max().reset_index()\n",
    "print(grouped)"
   ]
  },
  {
   "cell_type": "code",
   "execution_count": 56,
   "id": "489c6c76-1b29-40cf-886e-b27053e7dc1f",
   "metadata": {
    "tags": []
   },
   "outputs": [
    {
     "data": {
      "text/html": [
       "<div>\n",
       "<style scoped>\n",
       "    .dataframe tbody tr th:only-of-type {\n",
       "        vertical-align: middle;\n",
       "    }\n",
       "\n",
       "    .dataframe tbody tr th {\n",
       "        vertical-align: top;\n",
       "    }\n",
       "\n",
       "    .dataframe thead th {\n",
       "        text-align: right;\n",
       "    }\n",
       "</style>\n",
       "<table border=\"1\" class=\"dataframe\">\n",
       "  <thead>\n",
       "    <tr style=\"text-align: right;\">\n",
       "      <th></th>\n",
       "      <th>server_manufacturer</th>\n",
       "      <th>row</th>\n",
       "    </tr>\n",
       "  </thead>\n",
       "  <tbody>\n",
       "    <tr>\n",
       "      <th>0</th>\n",
       "      <td>M4</td>\n",
       "      <td>131071</td>\n",
       "    </tr>\n",
       "    <tr>\n",
       "      <th>1</th>\n",
       "      <td>M2</td>\n",
       "      <td>131071</td>\n",
       "    </tr>\n",
       "    <tr>\n",
       "      <th>2</th>\n",
       "      <td>M1</td>\n",
       "      <td>131071</td>\n",
       "    </tr>\n",
       "    <tr>\n",
       "      <th>3</th>\n",
       "      <td>M3</td>\n",
       "      <td>131071</td>\n",
       "    </tr>\n",
       "  </tbody>\n",
       "</table>\n",
       "</div>"
      ],
      "text/plain": [
       "  server_manufacturer     row\n",
       "0                  M4  131071\n",
       "1                  M2  131071\n",
       "2                  M1  131071\n",
       "3                  M3  131071"
      ]
     },
     "execution_count": 56,
     "metadata": {},
     "output_type": "execute_result"
    }
   ],
   "source": [
    "grouped_test = grouped.groupby(['server_manufacturer'])['row'].max().reset_index()\n",
    "grouped_test"
   ]
  },
  {
   "cell_type": "code",
   "execution_count": 11,
   "id": "2d7504e0-fe88-4695-b3b4-b31fcbe288f5",
   "metadata": {
    "tags": []
   },
   "outputs": [
    {
     "data": {
      "image/png": "[encoded data removed]",
      "text/plain": [
       "<Figure size 1000x600 with 1 Axes>"
      ]
     },
     "metadata": {},
     "output_type": "display_data"
    }
   ],
   "source": [
    "import matplotlib.pyplot as plt\n",
    "\n",
    "# 假设你有32个参数组合的性能数据，这里使用随机数据代替\n",
    "param_combinations = list(range(1, 33))\n",
    "accuracy = [0.75, 0.78, 0.81, 0.79, 0.82, 0.85, 0.86, 0.84, 0.81, 0.79, 0.83, 0.88, 0.89, 0.87, 0.86, 0.85, 0.84, 0.82, 0.81, 0.79, 0.76, 0.74, 0.77, 0.79, 0.80, 0.78, 0.77, 0.76, 0.74, 0.75, 0.76, 0.77]  # 32个性能指标值\n",
    "\n",
    "# 绘制折线图\n",
    "plt.figure(figsize=(10, 6))\n",
    "plt.plot(param_combinations, accuracy, marker='o', linestyle='-')\n",
    "plt.xlabel('Parameter Combinations')\n",
    "plt.ylabel('Accuracy')\n",
    "plt.title('Model Performance for Different Parameter Combinations')\n",
    "plt.grid(True)\n",
    "\n",
    "# 添加标签\n",
    "for i, acc in enumerate(accuracy):\n",
    "    plt.annotate(f'{acc:.2f}', (param_combinations[i], accuracy[i]), textcoords=\"offset points\", xytext=(0, 5), ha='center')\n",
    "\n",
    "plt.show()\n"
   ]
  },
  {
   "cell_type": "code",
   "execution_count": 8,
   "id": "50a8bf4f-2945-4c9d-bd42-7cc04d196b28",
   "metadata": {
    "tags": []
   },
   "outputs": [
    {
     "data": {
      "text/html": [
       "<div>\n",
       "<style scoped>\n",
       "    .dataframe tbody tr th:only-of-type {\n",
       "        vertical-align: middle;\n",
       "    }\n",
       "\n",
       "    .dataframe tbody tr th {\n",
       "        vertical-align: top;\n",
       "    }\n",
       "\n",
       "    .dataframe thead th {\n",
       "        text-align: right;\n",
       "    }\n",
       "</style>\n",
       "<table border=\"1\" class=\"dataframe\">\n",
       "  <thead>\n",
       "    <tr style=\"text-align: right;\">\n",
       "      <th></th>\n",
       "      <th>Unnamed: 0.1</th>\n",
       "      <th>Unnamed: 0</th>\n",
       "      <th>sid</th>\n",
       "      <th>memoryid</th>\n",
       "      <th>rankid</th>\n",
       "      <th>bankid</th>\n",
       "      <th>row</th>\n",
       "      <th>col</th>\n",
       "      <th>error_type</th>\n",
       "      <th>error_time</th>\n",
       "      <th>server_manufacturer</th>\n",
       "      <th>DRAM_model</th>\n",
       "      <th>DIMM_number</th>\n",
       "      <th>failure_type</th>\n",
       "      <th>failed_time</th>\n",
       "    </tr>\n",
       "  </thead>\n",
       "  <tbody>\n",
       "    <tr>\n",
       "      <th>0</th>\n",
       "      <td>38983971</td>\n",
       "      <td>38983971</td>\n",
       "      <td>Server_30255</td>\n",
       "      <td>22</td>\n",
       "      <td>0</td>\n",
       "      <td>9</td>\n",
       "      <td>41976</td>\n",
       "      <td>744</td>\n",
       "      <td>2</td>\n",
       "      <td>2019-10-23 17:19:02</td>\n",
       "      <td>M4</td>\n",
       "      <td>B1</td>\n",
       "      <td>12</td>\n",
       "      <td>NaN</td>\n",
       "      <td>2023-01-01 00:00:00</td>\n",
       "    </tr>\n",
       "    <tr>\n",
       "      <th>1</th>\n",
       "      <td>38983972</td>\n",
       "      <td>38983972</td>\n",
       "      <td>Server_30255</td>\n",
       "      <td>22</td>\n",
       "      <td>0</td>\n",
       "      <td>9</td>\n",
       "      <td>41976</td>\n",
       "      <td>744</td>\n",
       "      <td>2</td>\n",
       "      <td>2020-01-01 01:16:50</td>\n",
       "      <td>M4</td>\n",
       "      <td>B1</td>\n",
       "      <td>12</td>\n",
       "      <td>NaN</td>\n",
       "      <td>2023-01-01 00:00:00</td>\n",
       "    </tr>\n",
       "    <tr>\n",
       "      <th>2</th>\n",
       "      <td>38983973</td>\n",
       "      <td>38983973</td>\n",
       "      <td>Server_30255</td>\n",
       "      <td>22</td>\n",
       "      <td>0</td>\n",
       "      <td>9</td>\n",
       "      <td>41976</td>\n",
       "      <td>744</td>\n",
       "      <td>2</td>\n",
       "      <td>2020-01-02 01:03:05</td>\n",
       "      <td>M4</td>\n",
       "      <td>B1</td>\n",
       "      <td>12</td>\n",
       "      <td>NaN</td>\n",
       "      <td>2023-01-01 00:00:00</td>\n",
       "    </tr>\n",
       "    <tr>\n",
       "      <th>3</th>\n",
       "      <td>38983974</td>\n",
       "      <td>38983974</td>\n",
       "      <td>Server_30255</td>\n",
       "      <td>22</td>\n",
       "      <td>0</td>\n",
       "      <td>9</td>\n",
       "      <td>41976</td>\n",
       "      <td>744</td>\n",
       "      <td>2</td>\n",
       "      <td>2020-01-05 00:21:51</td>\n",
       "      <td>M4</td>\n",
       "      <td>B1</td>\n",
       "      <td>12</td>\n",
       "      <td>NaN</td>\n",
       "      <td>2023-01-01 00:00:00</td>\n",
       "    </tr>\n",
       "    <tr>\n",
       "      <th>4</th>\n",
       "      <td>38983975</td>\n",
       "      <td>38983975</td>\n",
       "      <td>Server_30255</td>\n",
       "      <td>22</td>\n",
       "      <td>0</td>\n",
       "      <td>9</td>\n",
       "      <td>41976</td>\n",
       "      <td>744</td>\n",
       "      <td>2</td>\n",
       "      <td>2020-01-06 23:54:22</td>\n",
       "      <td>M4</td>\n",
       "      <td>B1</td>\n",
       "      <td>12</td>\n",
       "      <td>NaN</td>\n",
       "      <td>2023-01-01 00:00:00</td>\n",
       "    </tr>\n",
       "  </tbody>\n",
       "</table>\n",
       "</div>"
      ],
      "text/plain": [
       "   Unnamed: 0.1  Unnamed: 0           sid  memoryid  rankid  bankid    row  \\\n",
       "0      38983971    38983971  Server_30255        22       0       9  41976   \n",
       "1      38983972    38983972  Server_30255        22       0       9  41976   \n",
       "2      38983973    38983973  Server_30255        22       0       9  41976   \n",
       "3      38983974    38983974  Server_30255        22       0       9  41976   \n",
       "4      38983975    38983975  Server_30255        22       0       9  41976   \n",
       "\n",
       "   col  error_type           error_time server_manufacturer DRAM_model  \\\n",
       "0  744           2  2019-10-23 17:19:02                  M4         B1   \n",
       "1  744           2  2020-01-01 01:16:50                  M4         B1   \n",
       "2  744           2  2020-01-02 01:03:05                  M4         B1   \n",
       "3  744           2  2020-01-05 00:21:51                  M4         B1   \n",
       "4  744           2  2020-01-06 23:54:22                  M4         B1   \n",
       "\n",
       "   DIMM_number  failure_type          failed_time  \n",
       "0           12           NaN  2023-01-01 00:00:00  \n",
       "1           12           NaN  2023-01-01 00:00:00  \n",
       "2           12           NaN  2023-01-01 00:00:00  \n",
       "3           12           NaN  2023-01-01 00:00:00  \n",
       "4           12           NaN  2023-01-01 00:00:00  "
      ]
     },
     "execution_count": 8,
     "metadata": {},
     "output_type": "execute_result"
    }
   ],
   "source": [
    "mcelog.head()"
   ]
  },
  {
   "cell_type": "code",
   "execution_count": 63,
   "id": "243b72f0-d662-4df1-90e6-39c2ee60b3d2",
   "metadata": {
    "tags": []
   },
   "outputs": [
    {
     "name": "stdout",
     "output_type": "stream",
     "text": [
      "    numbers  n_values\n",
      "0         1         0\n",
      "1         2         1\n",
      "2         3         1\n",
      "3         4         2\n",
      "4         5         2\n",
      "5         6         2\n",
      "6         7         2\n",
      "7         8         3\n",
      "8         9         3\n",
      "9        10         3\n",
      "10   131071        16\n",
      "11     1016         9\n",
      "ddd\n"
     ]
    }
   ],
   "source": [
    "import cudf\n",
    "\n",
    "# 创建一个示例的 cudf DataFrame\n",
    "data = {'numbers': [1, 2, 3, 4, 5, 6, 7, 8, 9, 10, 131071, 1016]}\n",
    "df = cudf.DataFrame(data)\n",
    "\n",
    "# 计算每个值在 2^N 和 2^(N+1) 之间的 N\n",
    "def calculate_n(x):\n",
    "    n = 0\n",
    "    while x >= 2 ** (n + 1):\n",
    "        n += 1\n",
    "    width = 2 ** (n+1)//(n+1)\n",
    "    return n\n",
    "\n",
    "df['n_values'] = df['numbers'].apply(calculate_n)\n",
    "\n",
    "print(df)\n",
    "\n",
    "if df[\"numbers\"].sum() > 10:\n",
    "    print(\"ddd\")"
   ]
  },
  {
   "cell_type": "code",
   "execution_count": 13,
   "id": "e377313d-8456-4f7b-9665-06ba6399a94b",
   "metadata": {
    "tags": []
   },
   "outputs": [
    {
     "ename": "FileNotFoundError",
     "evalue": "[Errno 2] No such file or directory: '../data/processed/feats_64x32_with_times_multichannles.npy'",
     "output_type": "error",
     "traceback": [
      "\u001b[0;31m---------------------------------------------------------------------------\u001b[0m",
      "\u001b[0;31mFileNotFoundError\u001b[0m                         Traceback (most recent call last)",
      "Cell \u001b[0;32mIn[13], line 1\u001b[0m\n\u001b[0;32m----> 1\u001b[0m feats \u001b[38;5;241m=\u001b[39m np\u001b[38;5;241m.\u001b[39mload(os\u001b[38;5;241m.\u001b[39mpath\u001b[38;5;241m.\u001b[39mjoin(CONFIG\u001b[38;5;241m.\u001b[39mPATH_PROCESSED, \u001b[38;5;124mf\u001b[39m\u001b[38;5;124m\"\u001b[39m\u001b[38;5;124mfeats_64x32_with_times_multichannles.npy\u001b[39m\u001b[38;5;124m\"\u001b[39m))\u001b[38;5;241m.\u001b[39mastype(np\u001b[38;5;241m.\u001b[39mfloat32)\n",
      "File \u001b[0;32m~/anaconda3/lib/python3.11/site-packages/numpy/lib/npyio.py:405\u001b[0m, in \u001b[0;36mload\u001b[0;34m(file, mmap_mode, allow_pickle, fix_imports, encoding, max_header_size)\u001b[0m\n\u001b[1;32m    403\u001b[0m     own_fid \u001b[38;5;241m=\u001b[39m \u001b[38;5;28;01mFalse\u001b[39;00m\n\u001b[1;32m    404\u001b[0m \u001b[38;5;28;01melse\u001b[39;00m:\n\u001b[0;32m--> 405\u001b[0m     fid \u001b[38;5;241m=\u001b[39m stack\u001b[38;5;241m.\u001b[39menter_context(\u001b[38;5;28mopen\u001b[39m(os_fspath(file), \u001b[38;5;124m\"\u001b[39m\u001b[38;5;124mrb\u001b[39m\u001b[38;5;124m\"\u001b[39m))\n\u001b[1;32m    406\u001b[0m     own_fid \u001b[38;5;241m=\u001b[39m \u001b[38;5;28;01mTrue\u001b[39;00m\n\u001b[1;32m    408\u001b[0m \u001b[38;5;66;03m# Code to distinguish from NumPy binary files and pickles.\u001b[39;00m\n",
      "\u001b[0;31mFileNotFoundError\u001b[0m: [Errno 2] No such file or directory: '../data/processed/feats_64x32_with_times_multichannles.npy'"
     ]
    }
   ],
   "source": [
    "feats = np.load(os.path.join(CONFIG.PATH_PROCESSED, f\"feats_64x32_with_times_multichannles.npy\")).astype(np.float32)"
   ]
  },
  {
   "cell_type": "code",
   "execution_count": 61,
   "id": "6a8eb436-0119-4629-a8ad-3f6318c79bec",
   "metadata": {
    "tags": []
   },
   "outputs": [
    {
     "data": {
      "text/plain": [
       "7710.117647058823"
      ]
     },
     "execution_count": 61,
     "metadata": {},
     "output_type": "execute_result"
    }
   ],
   "source": [
    "2 ** 17 / 17"
   ]
  },
  {
   "cell_type": "code",
   "execution_count": 331,
   "id": "4e29a4fa-850a-45cd-ae48-eeac648d02bf",
   "metadata": {
    "tags": []
   },
   "outputs": [],
   "source": [
    "mcelog = pd.read_csv(os.path.join(CONFIG.PATH_PROCESSED, f\"mcelog_6.csv\"))\n",
    "df_cudf = cudf.DataFrame(mcelog)"
   ]
  },
  {
   "cell_type": "code",
   "execution_count": 318,
   "id": "5278c630-12eb-4550-ad1c-71b3afd85b8e",
   "metadata": {
    "tags": []
   },
   "outputs": [],
   "source": [
    "\n",
    "def check_one(df_cudf):\n",
    "    tps = []\n",
    "    fps = []\n",
    "    fns = []\n",
    "    \n",
    "    \n",
    "    hosts = df_cudf[\"sid\"].drop_duplicates().to_arrow().to_pylist()\n",
    "    logging.info(f\"hosts: {len(hosts)}\")\n",
    "\n",
    "    reals = []\n",
    "    preds = []\n",
    "    max_row = 131072\n",
    "    max_col = 1024\n",
    "    row_block = 32\n",
    "    col_block = 16\n",
    "    row_section_size = max_row // row_block\n",
    "    col_section_size = max_col // col_block\n",
    "    \n",
    "    for host in tqdm(hosts):\n",
    "        ret_d = {}\n",
    "        host_cudf = df_cudf[df_cudf[\"sid\"]==host]\n",
    "        host_cudf = host_cudf.fillna(-1)\n",
    "        if host_cudf[\"failure_type\"].sum() < 0:\n",
    "            real = 0\n",
    "            reals.append(0)\n",
    "        else:\n",
    "            real = 1\n",
    "            reals.append(1)\n",
    "        host_cudf[\"row_max\"] = host_cudf[\"row\"].max()\n",
    "        host_cudf[\"row_min\"] = host_cudf[\"row\"].min()\n",
    "        host_cudf[\"row_gap\"] = host_cudf[\"row_max\"] - host_cudf[\"row_min\"]\n",
    "        host_cudf[\"col_max\"] = host_cudf[\"col\"].max()\n",
    "        host_cudf[\"col_min\"] = host_cudf[\"col\"].min()\n",
    "        host_cudf[\"col_gap\"] = host_cudf[\"col_max\"] - host_cudf[\"col_min\"]\n",
    "        \n",
    "        host_cudf[\"row_section\"] = host_cudf[\"row\"] // row_section_size\n",
    "        host_cudf[\"col_section\"] = host_cudf[\"col\"] // col_section_size\n",
    "        \n",
    "        # uce\n",
    "        # # rule 1\n",
    "        # host_cudf_grouped = host_cudf.groupby([\"memoryid\",\"rankid\",\"bankid\",\"row_section\"]).agg({\"col_section\": [\"max\", \"min\"]})\n",
    "        # host_cudf_grouped.columns = [\"max\", \"min\"]\n",
    "        # host_cudf_grouped = host_cudf_grouped.reset_index()\n",
    "        # host_cudf_grouped[\"col_gap\"] = host_cudf_grouped[\"max\"] - host_cudf_grouped[\"min\"]\n",
    "        # host_cudf_grouped = host_cudf_grouped[(host_cudf_grouped[\"col_gap\"]>= (col_block / 2))]\n",
    "        # ret_d[\"uce_rule_1\"] = int(len(host_cudf_grouped)>0)\n",
    "        # # rule 2\n",
    "        # host_cudf_grouped = host_cudf.groupby([\"memoryid\",\"rankid\",\"bankid\",\"col_section\"]).agg({\"row_section\": [\"max\", \"min\"]})\n",
    "        # host_cudf_grouped.columns = [\"max\", \"min\"]\n",
    "        # host_cudf_grouped = host_cudf_grouped.reset_index()\n",
    "        # host_cudf_grouped[\"row_gap\"] = host_cudf_grouped[\"max\"] - host_cudf_grouped[\"min\"]\n",
    "        # host_cudf_grouped = host_cudf_grouped[(host_cudf_grouped[\"row_gap\"]>= (row_block / 2))]\n",
    "        # ret_d[\"uce_rule_2\"] = int(len(host_cudf_grouped)>0)\n",
    "        # rule 3\n",
    "        ret_d[\"uce_rule_3\"] = int(len(host_cudf[(host_cudf[\"col_section\"]==15)&(host_cudf[\"row_section\"]>=30)])>0)\n",
    "        # rule 4\n",
    "        ret_d[\"uce_rule_4\"] = int(len(host_cudf[(host_cudf[\"row_section\"]>=30)&(host_cudf[\"row_section\"]>=14)])>0)\n",
    "        \n",
    "        # not uce\n",
    "        # # rule 1\n",
    "        # ret_d[\"non_uce_rule_1\"] = ((host_cudf[\"row_section\"].max() - host_cudf[\"row_section\"].min()) ==0).astype(int)\n",
    "        # # rule 2\n",
    "        # ret_d[\"non_uce_rule_2\"] = (host_cudf[\"col\"] <= (max_col / 2)).all().astype(int)\n",
    "        # # rule 3\n",
    "        # row_sections = host_cudf[\"row_section\"].drop_duplicates().to_arrow().to_pylist()\n",
    "        # flag = 1\n",
    "        # for i in range(len(row_sections) - 1):\n",
    "        #     flag = flag & int((row_sections[i+1] - row_sections[i]) > 1)\n",
    "        # ret_d[\"non_uce_rule_2\"] = flag\n",
    "        \n",
    "        # force uce\n",
    "        # host_cudf[\"col_border\"] = (host_cudf[\"col_section\"] == ).astype(int\n",
    "        \n",
    "                    \n",
    "        pred = 0\n",
    "        for k, v in ret_d.items():\n",
    "            if \"non_uce\" not in k:\n",
    "                pred = pred or v\n",
    "            else:\n",
    "                if v == 1:\n",
    "                    pred = 0\n",
    "                    break\n",
    "        # pred = (pred + 1) % 2\n",
    "        if host == \"Server_3837\":\n",
    "            logging.info(f\"{pred}\")\n",
    "        preds.append(pred)\n",
    "        \n",
    "        if real==0 and pred == 1:\n",
    "            fps.append(host)\n",
    "        if real==1 and pred == 0:\n",
    "            fns.append(host)\n",
    "        if real==0 and pred == 1:\n",
    "            fps.append(host)\n",
    "        if real==1 and pred == 1:\n",
    "            tps.append(host)\n",
    "            \n",
    "    # print(fps)\n",
    "    # print(fns)\n",
    "    # print(reals)\n",
    "    precision = precision_score(reals, preds)\n",
    "    recall = recall_score(reals, preds)\n",
    "\n",
    "    print(\"precision {}\".format(precision))\n",
    "    print(\"recall {}\".format(recall))\n",
    "    return reals, preds, fps, fns, tps"
   ]
  },
  {
   "cell_type": "code",
   "execution_count": 319,
   "id": "0a396a31-991c-453f-a567-c6c32cb31a3e",
   "metadata": {
    "tags": []
   },
   "outputs": [
    {
     "name": "stderr",
     "output_type": "stream",
     "text": [
      "2023-09-06 10:47:33,916 - INFO - hosts: 1906\n",
      "100%|████████████████████████████████████████████████████████████████████████████████████| 1906/1906 [01:07<00:00, 28.34it/s]"
     ]
    },
    {
     "name": "stdout",
     "output_type": "stream",
     "text": [
      "precision 0.057692307692307696\n",
      "recall 0.3\n"
     ]
    },
    {
     "name": "stderr",
     "output_type": "stream",
     "text": [
      "\n"
     ]
    }
   ],
   "source": [
    "reals, preds, fps, fns, tps = check_one(df_cudf)"
   ]
  },
  {
   "cell_type": "code",
   "execution_count": null,
   "id": "102dc56e-3464-4ee8-a8d1-781fb0c5c77a",
   "metadata": {},
   "outputs": [],
   "source": []
  },
  {
   "cell_type": "code",
   "execution_count": 313,
   "id": "cf893223-299a-40dc-b09f-422de740ff56",
   "metadata": {
    "tags": []
   },
   "outputs": [],
   "source": [
    "hosts = df_cudf[\"sid\"].drop_duplicates().to_arrow().to_pylist()\n",
    "\n",
    "max_row = 131072\n",
    "max_col = 1024\n",
    "\n",
    "row_block = 32\n",
    "col_block = 16\n",
    "\n",
    "row_section_size = max_row // row_block\n",
    "col_section_size = max_col // col_block\n",
    "\n",
    "cursor_fp_num = 20\n",
    "cursor_fn_num = 20\n",
    "cursor_fp = 0\n",
    "cursor_fn = 0\n",
    "for host in hosts:\n",
    "    if host in tps or host in fps or host in fns:\n",
    "        tmp = df_cudf[df_cudf[\"sid\"]==host][[\"sid\", \"memoryid\",\"rankid\",\"bankid\", \"row\", \"col\", \"error_time\",\"failed_time\"]]\n",
    "        tmp = tmp.sort_values([\"sid\", \"memoryid\",\"rankid\",\"bankid\", \"row\"])\n",
    "        tmp[\"row_section\"] = tmp[\"row\"] // row_section_size\n",
    "        tmp[\"col_section\"] = tmp[\"col\"] // col_section_size\n",
    "        tmp[\"col_border\"] = int(len(tmp[(tmp[\"col_section\"]==15)&(tmp[\"row_section\"]>=30)])>0)\n",
    "        if host in tps:\n",
    "            tmp.to_csv(f\"tp_one_{host}.csv\")\n",
    "        if host in fps and cursor_fp < cursor_fp_num:\n",
    "            tmp.to_csv(f\"fp_one_{host}.csv\")\n",
    "            cursor_fp += 1\n",
    "        if host in fns and cursor_fn < cursor_fn_num:\n",
    "            tmp.to_csv(f\"fn_one_{host}.csv\")\n",
    "            cursor_fn += 1"
   ]
  },
  {
   "cell_type": "markdown",
   "id": "a55642a5-e927-4b4c-b02d-748c2c175748",
   "metadata": {
    "tags": []
   },
   "source": [
    "## CNN"
   ]
  },
  {
   "cell_type": "code",
   "execution_count": 330,
   "id": "699d339d-ae54-49b6-a48c-4f5035f4b40d",
   "metadata": {
    "tags": []
   },
   "outputs": [
    {
     "data": {
      "text/plain": [
       "array([[0., 0.],\n",
       "       [0., 1.]])"
      ]
     },
     "execution_count": 330,
     "metadata": {},
     "output_type": "execute_result"
    }
   ],
   "source": [
    "import numpy as np\n",
    "\n",
    "a = np.zeros([2,2])\n",
    "\n",
    "a[1,1] = 1\n",
    "\n",
    "a"
   ]
  },
  {
   "cell_type": "code",
   "execution_count": 334,
   "id": "f98a372c-bbd1-423f-bf0a-4e420158ab89",
   "metadata": {
    "tags": []
   },
   "outputs": [],
   "source": [
    "mcelog = pd.read_csv(os.path.join(CONFIG.PATH_PROCESSED, f\"mcelog_6.csv\"))\n",
    "df_cudf = cudf.DataFrame(mcelog)\n",
    "df = pd.DataFrame(mcelog)"
   ]
  },
  {
   "cell_type": "code",
   "execution_count": 374,
   "id": "733aeacd-9409-4c43-8e17-6aafb32a4585",
   "metadata": {
    "tags": []
   },
   "outputs": [
    {
     "name": "stderr",
     "output_type": "stream",
     "text": [
      "100%|████████████████████████████████████████████████████████████████████████████████████| 1906/1906 [05:46<00:00,  5.49it/s]\n"
     ]
    }
   ],
   "source": [
    "data = []\n",
    "labels = []\n",
    "\n",
    "max_row = 131072\n",
    "max_col = 1024\n",
    "row_block = 32\n",
    "col_block = 16\n",
    "row_section_size = max_row // row_block\n",
    "col_section_size = max_col // col_block\n",
    "\n",
    "hosts = df[\"sid\"].drop_duplicates().to_list()\n",
    "\n",
    "for host in tqdm(hosts):\n",
    "    \n",
    "    host_matrix = np.zeros([row_block, col_block])\n",
    "    \n",
    "    host_df = df[df[\"sid\"]==host]\n",
    "    host_df = host_df.fillna(-1)\n",
    "    if host_df[\"failure_type\"].sum() < 0:\n",
    "        labels.append(0)\n",
    "    else:\n",
    "        labels.append(1)\n",
    "\n",
    "    host_df[\"row_section\"] = host_df[\"row\"] // row_section_size\n",
    "    host_df[\"col_section\"] = host_df[\"col\"] // col_section_size\n",
    "    \n",
    "    host_df_simple = host_df[[\"row_section\", \"col_section\"]].drop_duplicates()\n",
    "    \n",
    "    for _, row in host_df_simple.iterrows():\n",
    "        host_matrix[int(row[\"row_section\"]), int(row[\"col_section\"])] = 1\n",
    "        \n",
    "    # np.savetxt(\"one.txt\", host_matrix, fmt=\"%d\", delimiter=\"\\t\")\n",
    "        \n",
    "    data.append(host_matrix)\n",
    "    \n",
    "    # # print(data)\n",
    "    # print(host_df)\n",
    "    # print(labels)\n",
    "    # if 1 in labels:\n",
    "    #     print(labels)\n",
    "    #     break"
   ]
  },
  {
   "cell_type": "code",
   "execution_count": 375,
   "id": "364ba771-230f-45d8-bb4a-2d0226f02d79",
   "metadata": {
    "tags": []
   },
   "outputs": [],
   "source": [
    "data_\n",
    "data_0906 = data\n",
    "labels_0906 = labels\n"
   ]
  },
  {
   "cell_type": "code",
   "execution_count": 376,
   "id": "0189f8c8-ac8b-4579-add4-0dfc41081efe",
   "metadata": {
    "tags": []
   },
   "outputs": [],
   "source": [
    "alldata = [torch.tensor(matrix, dtype=torch.float32) for matrix in data]\n",
    "alllabels = torch.tensor(labels, dtype=torch.long)"
   ]
  },
  {
   "cell_type": "code",
   "execution_count": 377,
   "id": "b737231f-3956-4eb4-99d9-843c6e609396",
   "metadata": {},
   "outputs": [
    {
     "name": "stdout",
     "output_type": "stream",
     "text": [
      "1906\n",
      "1906\n",
      "Epoch 1/10, Loss: 0.12285896251366163\n",
      "Epoch 2/10, Loss: 0.07264579604379832\n",
      "Epoch 3/10, Loss: 0.06518378579057753\n",
      "Epoch 4/10, Loss: 0.059615418097625175\n",
      "Epoch 5/10, Loss: 0.05593374476302415\n",
      "Epoch 6/10, Loss: 0.05001118544411535\n",
      "Epoch 7/10, Loss: 0.041362975747324525\n",
      "Epoch 8/10, Loss: 0.034361539831540236\n",
      "Epoch 9/10, Loss: 0.029613858313920598\n",
      "Epoch 10/10, Loss: 0.024444700191573552\n",
      "Finished Training\n",
      "Precision: 1.0\n",
      "Recall: 0.6153846153846154\n"
     ]
    }
   ],
   "source": [
    "import torch\n",
    "import torch.nn as nn\n",
    "import torch.optim as optim\n",
    "import numpy as np\n",
    "from torch.utils.data import DataLoader, TensorDataset\n",
    "from torch.utils.data import Dataset, DataLoader\n",
    "from sklearn.metrics import precision_score, recall_score\n",
    "\n",
    "\n",
    "# # 示例数据：假设有3个矩阵，每个矩阵为16x32，每个矩阵中的值是0或1，每个矩阵有一个标签（0或1）\n",
    "# # 请根据您的实际数据替换这些示例数据\n",
    "# num_matrices = 3\n",
    "# matrix_size = (16, 32)\n",
    "# data = [np.random.randint(0, 2, matrix_size) for _ in range(num_matrices)]\n",
    "# labels = [0, 1, 0]  # 示例标签\n",
    "\n",
    "# # 数据预处理：将数据转换为PyTorch张量\n",
    "# data = [torch.tensor(matrix, dtype=torch.float32) for matrix in data]\n",
    "# labels = torch.tensor(labels, dtype=torch.long)\n",
    "\n",
    "\n",
    "# class CNNModel(nn.Module):\n",
    "#     def __init__(self):\n",
    "#         super(CNNModel, self).__init__()\n",
    "#         self.conv1 = nn.Conv2d(1, 16, kernel_size=3, padding=1)\n",
    "#         self.conv2 = nn.Conv2d(16, 32, kernel_size=3, padding=1)\n",
    "#         self.fc1 = nn.Linear(32 * 8 * 4, 128)\n",
    "#         self.fc2 = nn.Linear(128, 2)  # 2表示二分类任务\n",
    "\n",
    "#     def forward(self, x):\n",
    "#         x = torch.relu(self.conv1(x))\n",
    "#         x = torch.relu(self.conv2(x))\n",
    "#         x = x.view(x.size(0), -1)\n",
    "#         x = torch.relu(self.fc1(x))\n",
    "#         x = self.fc2(x)\n",
    "#         return x\n",
    "\n",
    "X = torch.tensor(data, dtype=torch.float32)\n",
    "y = torch.tensor(labels, dtype=torch.long)  # 通常标签为整数\n",
    "\n",
    "print(len(X))\n",
    "print(len(y))\n",
    "\n",
    "import torch.nn as nn\n",
    "import torch.nn.functional as F\n",
    "\n",
    "class CNNModel(nn.Module):\n",
    "    def __init__(self):\n",
    "        super(CNNModel, self).__init__()\n",
    "        self.conv1 = nn.Conv2d(1, 16, kernel_size=3, padding=1)\n",
    "        self.pool = nn.MaxPool2d(kernel_size=2, stride=2)\n",
    "        self.fc1 = nn.Linear(16 * 16 * 8, 64)  # 32x16矩阵通过1次池化后变成16x8\n",
    "        self.fc2 = nn.Linear(64, 2)  # 2个类别\n",
    "\n",
    "    def forward(self, x):\n",
    "        x = self.pool(F.relu(self.conv1(x)))\n",
    "        x = x.view(-1, 16 * 16 * 8)\n",
    "        x = F.relu(self.fc1(x))\n",
    "        x = self.fc2(x)\n",
    "        return x\n",
    "\n",
    "# 创建自定义数据集\n",
    "class CustomDataset(Dataset):\n",
    "    def __init__(self, X, y):\n",
    "        self.X = X\n",
    "        self.y = y\n",
    "\n",
    "    def __len__(self):\n",
    "        return len(self.X)\n",
    "\n",
    "    def __getitem__(self, idx):\n",
    "        return self.X[idx], self.y[idx]\n",
    "\n",
    "# 创建数据加载器\n",
    "dataset = CustomDataset(X, y)\n",
    "batch_size = 32\n",
    "data_loader = DataLoader(dataset, batch_size=batch_size, shuffle=True)\n",
    "\n",
    "    \n",
    "# 创建模型实例\n",
    "model = CNNModel()\n",
    "\n",
    "criterion = nn.CrossEntropyLoss()  # 交叉熵损失函数适用于分类问题\n",
    "optimizer = optim.Adam(model.parameters(), lr=0.001)  # 使用Adam优化器\n",
    "\n",
    "num_epochs = 10\n",
    "for epoch in range(num_epochs):\n",
    "    running_loss = 0.0\n",
    "    for _inputs, _labels in data_loader:\n",
    "        optimizer.zero_grad()\n",
    "        outputs = model(_inputs.unsqueeze(1))  # 在通道维度上增加1\n",
    "        loss = criterion(outputs, _labels)\n",
    "        loss.backward()\n",
    "        optimizer.step()\n",
    "        running_loss += loss.item()\n",
    "    print(f'Epoch {epoch + 1}/{num_epochs}, Loss: {running_loss / len(data_loader)}')\n",
    "\n",
    "print('Finished Training')\n",
    "\n",
    "\n",
    "model.eval()\n",
    "correct = 0\n",
    "total = 0\n",
    "\n",
    "predictions = []\n",
    "true_labels = []\n",
    "\n",
    "with torch.no_grad():\n",
    "    for _inputs, _labels in data_loader:\n",
    "        outputs = model(_inputs.unsqueeze(1))\n",
    "        _, predicted = torch.max(outputs.data, 1)\n",
    "        predictions.extend(predicted.tolist())\n",
    "        true_labels.extend(_labels.tolist())\n",
    "\n",
    "precision = precision_score(true_labels, predictions)\n",
    "recall = recall_score(true_labels, predictions)\n",
    "\n",
    "print(f'Precision: {precision}')\n",
    "print(f'Recall: {recall}')"
   ]
  },
  {
   "cell_type": "code",
   "execution_count": null,
   "id": "0df315aa-2daf-4224-9144-f23cdeb0eae0",
   "metadata": {},
   "outputs": [],
   "source": [
    "data = []\n",
    "labels = []\n",
    "\n",
    "max_row = 131072\n",
    "max_col = 1024\n",
    "row_block = 32\n",
    "col_block = 16\n",
    "row_section_size = max_row // row_block\n",
    "col_section_size = max_col // col_block\n",
    "\n",
    "hosts = df[\"sid\"].drop_duplicates().to_list()\n",
    "\n",
    "for host in tqdm(hosts):\n",
    "    \n",
    "    host_matrix = np.zeros([row_block, col_block])\n",
    "    \n",
    "    host_df = df[df[\"sid\"]==host]\n",
    "    host_df = host_df.fillna(-1)\n",
    "    if host_df[\"failure_type\"].sum() < 0:\n",
    "        labels.append(0)\n",
    "    else:\n",
    "        labels.append(1)\n",
    "\n",
    "    host_df[\"row_section\"] = host_df[\"row\"] // row_section_size\n",
    "    host_df[\"col_section\"] = host_df[\"col\"] // col_section_size\n",
    "    \n",
    "    host_df_simple = host_df[[\"row_section\", \"col_section\"]].drop_duplicates()\n",
    "    \n",
    "    for _, row in host_df_simple.iterrows():\n",
    "        host_matrix[int(row[\"row_section\"]), int(row[\"col_section\"])] = 1\n",
    "        \n",
    "    # np.savetxt(\"one.txt\", host_matrix, fmt=\"%d\", delimiter=\"\\t\")\n",
    "        \n",
    "    data.append(host_matrix)\n",
    "    \n",
    "    # # print(data)\n",
    "    # print(host_df)\n",
    "    # print(labels)\n",
    "    # if 1 in labels:\n",
    "    #     print(labels)\n",
    "    #     break"
   ]
  },
  {
   "cell_type": "code",
   "execution_count": 285,
   "id": "f38f4032-c2ce-4f94-bad0-d9f74e0413a5",
   "metadata": {},
   "outputs": [
    {
     "data": {
      "text/plain": [
       "1"
      ]
     },
     "execution_count": 285,
     "metadata": {},
     "output_type": "execute_result"
    }
   ],
   "source": [
    "1 or 5"
   ]
  },
  {
   "cell_type": "code",
   "execution_count": null,
   "id": "03ae1022-75b1-4850-9ce8-b27dfdc89e41",
   "metadata": {},
   "outputs": [],
   "source": []
  },
  {
   "cell_type": "code",
   "execution_count": 308,
   "id": "47f250f8-6e5d-4a6c-b7a4-e560195ebecd",
   "metadata": {
    "tags": []
   },
   "outputs": [
    {
     "name": "stderr",
     "output_type": "stream",
     "text": [
      "2023-09-06 09:26:38,087 - INFO - hosts: 1906\n",
      "100%|████████████████████████████████████████████████████████████████████████████████████| 1906/1906 [01:55<00:00, 16.47it/s]\n"
     ]
    },
    {
     "name": "stdout",
     "output_type": "stream",
     "text": [
      "precision 0.14594594594594595\n",
      "recall 0.7788461538461539\n"
     ]
    },
    {
     "name": "stderr",
     "output_type": "stream",
     "text": [
      "2023-09-06 09:28:37,449 - INFO - hosts: 1906\n",
      "100%|████████████████████████████████████████████████████████████████████████████████████| 1906/1906 [01:52<00:00, 16.93it/s]\n"
     ]
    },
    {
     "name": "stdout",
     "output_type": "stream",
     "text": [
      "precision 0.05653710247349823\n",
      "recall 0.7619047619047619\n"
     ]
    },
    {
     "name": "stderr",
     "output_type": "stream",
     "text": [
      "2023-09-06 09:30:39,541 - INFO - hosts: 1906\n",
      "  1%|█                                                                                     | 24/1906 [00:01<01:57, 16.02it/s]2023-09-06 09:30:41,094 - INFO - 0\n",
      "100%|████████████████████████████████████████████████████████████████████████████████████| 1906/1906 [02:01<00:00, 15.73it/s]\n"
     ]
    },
    {
     "name": "stdout",
     "output_type": "stream",
     "text": [
      "precision 0.031914893617021274\n",
      "recall 0.42857142857142855\n"
     ]
    },
    {
     "name": "stderr",
     "output_type": "stream",
     "text": [
      "2023-09-06 09:32:53,687 - INFO - hosts: 1906\n",
      " 11%|█████████▋                                                                           | 218/1906 [00:13<01:46, 15.90it/s]\n"
     ]
    },
    {
     "ename": "KeyboardInterrupt",
     "evalue": "",
     "output_type": "error",
     "traceback": [
      "\u001b[0;31m---------------------------------------------------------------------------\u001b[0m",
      "\u001b[0;31mKeyboardInterrupt\u001b[0m                         Traceback (most recent call last)",
      "Cell \u001b[0;32mIn[308], line 8\u001b[0m\n\u001b[1;32m      6\u001b[0m mcelog1 \u001b[38;5;241m=\u001b[39m pd\u001b[38;5;241m.\u001b[39mread_csv(os\u001b[38;5;241m.\u001b[39mpath\u001b[38;5;241m.\u001b[39mjoin(CONFIG\u001b[38;5;241m.\u001b[39mPATH_PROCESSED, \u001b[38;5;124mf\u001b[39m\u001b[38;5;124m\"\u001b[39m\u001b[38;5;124mmcelog_\u001b[39m\u001b[38;5;132;01m{\u001b[39;00mi\u001b[38;5;132;01m}\u001b[39;00m\u001b[38;5;124m.csv\u001b[39m\u001b[38;5;124m\"\u001b[39m))\n\u001b[1;32m      7\u001b[0m df_cudf \u001b[38;5;241m=\u001b[39m cudf\u001b[38;5;241m.\u001b[39mDataFrame(mcelog1)\n\u001b[0;32m----> 8\u001b[0m reals, preds, fpss, fnss \u001b[38;5;241m=\u001b[39m \u001b[43mcheck_one\u001b[49m\u001b[43m(\u001b[49m\u001b[43mdf_cudf\u001b[49m\u001b[43m)\u001b[49m\n\u001b[1;32m      9\u001b[0m reals_list\u001b[38;5;241m.\u001b[39mextend(reals)\n\u001b[1;32m     10\u001b[0m preds_list\u001b[38;5;241m.\u001b[39mextend(preds)\n",
      "Cell \u001b[0;32mIn[305], line 41\u001b[0m, in \u001b[0;36mcheck_one\u001b[0;34m(df_cudf)\u001b[0m\n\u001b[1;32m     38\u001b[0m \u001b[38;5;66;03m# uce\u001b[39;00m\n\u001b[1;32m     39\u001b[0m \u001b[38;5;66;03m# rule 1\u001b[39;00m\n\u001b[1;32m     40\u001b[0m host_cudf_grouped \u001b[38;5;241m=\u001b[39m host_cudf\u001b[38;5;241m.\u001b[39mgroupby([\u001b[38;5;124m\"\u001b[39m\u001b[38;5;124mmemoryid\u001b[39m\u001b[38;5;124m\"\u001b[39m,\u001b[38;5;124m\"\u001b[39m\u001b[38;5;124mrankid\u001b[39m\u001b[38;5;124m\"\u001b[39m,\u001b[38;5;124m\"\u001b[39m\u001b[38;5;124mbankid\u001b[39m\u001b[38;5;124m\"\u001b[39m,\u001b[38;5;124m\"\u001b[39m\u001b[38;5;124mrow_section\u001b[39m\u001b[38;5;124m\"\u001b[39m])\u001b[38;5;241m.\u001b[39magg({\u001b[38;5;124m\"\u001b[39m\u001b[38;5;124mcol_section\u001b[39m\u001b[38;5;124m\"\u001b[39m: [\u001b[38;5;124m\"\u001b[39m\u001b[38;5;124mmax\u001b[39m\u001b[38;5;124m\"\u001b[39m, \u001b[38;5;124m\"\u001b[39m\u001b[38;5;124mmin\u001b[39m\u001b[38;5;124m\"\u001b[39m]})\n\u001b[0;32m---> 41\u001b[0m \u001b[43mhost_cudf_grouped\u001b[49m\u001b[38;5;241;43m.\u001b[39;49m\u001b[43mcolumns\u001b[49m \u001b[38;5;241m=\u001b[39m [\u001b[38;5;124m\"\u001b[39m\u001b[38;5;124mmax\u001b[39m\u001b[38;5;124m\"\u001b[39m, \u001b[38;5;124m\"\u001b[39m\u001b[38;5;124mmin\u001b[39m\u001b[38;5;124m\"\u001b[39m]\n\u001b[1;32m     42\u001b[0m host_cudf_grouped \u001b[38;5;241m=\u001b[39m host_cudf_grouped\u001b[38;5;241m.\u001b[39mreset_index()\n\u001b[1;32m     43\u001b[0m host_cudf_grouped[\u001b[38;5;124m\"\u001b[39m\u001b[38;5;124mcol_gap\u001b[39m\u001b[38;5;124m\"\u001b[39m] \u001b[38;5;241m=\u001b[39m host_cudf_grouped[\u001b[38;5;124m\"\u001b[39m\u001b[38;5;124mmax\u001b[39m\u001b[38;5;124m\"\u001b[39m] \u001b[38;5;241m-\u001b[39m host_cudf_grouped[\u001b[38;5;124m\"\u001b[39m\u001b[38;5;124mmin\u001b[39m\u001b[38;5;124m\"\u001b[39m]\n",
      "File \u001b[0;32m/opt/conda/lib/python3.10/site-packages/cudf/core/dataframe.py:1069\u001b[0m, in \u001b[0;36mDataFrame.__setattr__\u001b[0;34m(self, key, col)\u001b[0m\n\u001b[1;32m   1063\u001b[0m \u001b[38;5;28;01mdef\u001b[39;00m \u001b[38;5;21m__setattr__\u001b[39m(\u001b[38;5;28mself\u001b[39m, key, col):\n\u001b[1;32m   1064\u001b[0m     \u001b[38;5;28;01mtry\u001b[39;00m:\n\u001b[1;32m   1065\u001b[0m         \u001b[38;5;66;03m# Preexisting attributes may be set. We cannot rely on checking the\u001b[39;00m\n\u001b[1;32m   1066\u001b[0m         \u001b[38;5;66;03m# `_PROTECTED_KEYS` because we must also allow for settable\u001b[39;00m\n\u001b[1;32m   1067\u001b[0m         \u001b[38;5;66;03m# properties, and we must call object.__getattribute__ to bypass\u001b[39;00m\n\u001b[1;32m   1068\u001b[0m         \u001b[38;5;66;03m# the `__getitem__` behavior inherited from `GetAttrGetItemMixin`.\u001b[39;00m\n\u001b[0;32m-> 1069\u001b[0m         \u001b[38;5;28;43mobject\u001b[39;49m\u001b[38;5;241;43m.\u001b[39;49m\u001b[38;5;21;43m__getattribute__\u001b[39;49m\u001b[43m(\u001b[49m\u001b[38;5;28;43mself\u001b[39;49m\u001b[43m,\u001b[49m\u001b[43m \u001b[49m\u001b[43mkey\u001b[49m\u001b[43m)\u001b[49m\n\u001b[1;32m   1070\u001b[0m     \u001b[38;5;28;01mexcept\u001b[39;00m \u001b[38;5;167;01mAttributeError\u001b[39;00m:\n\u001b[1;32m   1071\u001b[0m         \u001b[38;5;28;01mif\u001b[39;00m key \u001b[38;5;129;01mnot\u001b[39;00m \u001b[38;5;129;01min\u001b[39;00m \u001b[38;5;28mself\u001b[39m\u001b[38;5;241m.\u001b[39m_PROTECTED_KEYS:\n",
      "File \u001b[0;32m/opt/conda/lib/python3.10/site-packages/nvtx/nvtx.py:101\u001b[0m, in \u001b[0;36mannotate.__call__.<locals>.inner\u001b[0;34m(*args, **kwargs)\u001b[0m\n\u001b[1;32m     98\u001b[0m \u001b[38;5;129m@wraps\u001b[39m(func)\n\u001b[1;32m     99\u001b[0m \u001b[38;5;28;01mdef\u001b[39;00m \u001b[38;5;21minner\u001b[39m(\u001b[38;5;241m*\u001b[39margs, \u001b[38;5;241m*\u001b[39m\u001b[38;5;241m*\u001b[39mkwargs):\n\u001b[1;32m    100\u001b[0m     libnvtx_push_range(\u001b[38;5;28mself\u001b[39m\u001b[38;5;241m.\u001b[39mattributes, \u001b[38;5;28mself\u001b[39m\u001b[38;5;241m.\u001b[39mdomain\u001b[38;5;241m.\u001b[39mhandle)\n\u001b[0;32m--> 101\u001b[0m     result \u001b[38;5;241m=\u001b[39m \u001b[43mfunc\u001b[49m\u001b[43m(\u001b[49m\u001b[38;5;241;43m*\u001b[39;49m\u001b[43margs\u001b[49m\u001b[43m,\u001b[49m\u001b[43m \u001b[49m\u001b[38;5;241;43m*\u001b[39;49m\u001b[38;5;241;43m*\u001b[39;49m\u001b[43mkwargs\u001b[49m\u001b[43m)\u001b[49m\n\u001b[1;32m    102\u001b[0m     libnvtx_pop_range(\u001b[38;5;28mself\u001b[39m\u001b[38;5;241m.\u001b[39mdomain\u001b[38;5;241m.\u001b[39mhandle)\n\u001b[1;32m    103\u001b[0m     \u001b[38;5;28;01mreturn\u001b[39;00m result\n",
      "File \u001b[0;32m/opt/conda/lib/python3.10/site-packages/cudf/core/dataframe.py:2354\u001b[0m, in \u001b[0;36mDataFrame.columns\u001b[0;34m(self)\u001b[0m\n\u001b[1;32m   2345\u001b[0m \u001b[38;5;129m@property\u001b[39m  \u001b[38;5;66;03m# type: ignore\u001b[39;00m\n\u001b[1;32m   2346\u001b[0m \u001b[38;5;129m@_external_only_api\u001b[39m(\n\u001b[1;32m   2347\u001b[0m     \u001b[38;5;124m\"\u001b[39m\u001b[38;5;124mUse _column_names instead, or _data.to_pandas_index() if a pandas \u001b[39m\u001b[38;5;124m\"\u001b[39m\n\u001b[0;32m   (...)\u001b[0m\n\u001b[1;32m   2351\u001b[0m \u001b[38;5;129m@_cudf_nvtx_annotate\u001b[39m\n\u001b[1;32m   2352\u001b[0m \u001b[38;5;28;01mdef\u001b[39;00m \u001b[38;5;21mcolumns\u001b[39m(\u001b[38;5;28mself\u001b[39m):\n\u001b[1;32m   2353\u001b[0m \u001b[38;5;250m    \u001b[39m\u001b[38;5;124;03m\"\"\"Returns a tuple of columns\"\"\"\u001b[39;00m\n\u001b[0;32m-> 2354\u001b[0m     \u001b[38;5;28;01mreturn\u001b[39;00m \u001b[38;5;28;43mself\u001b[39;49m\u001b[38;5;241;43m.\u001b[39;49m\u001b[43m_data\u001b[49m\u001b[38;5;241;43m.\u001b[39;49m\u001b[43mto_pandas_index\u001b[49m\u001b[43m(\u001b[49m\u001b[43m)\u001b[49m\n",
      "File \u001b[0;32m/opt/conda/lib/python3.10/site-packages/cudf/core/column_accessor.py:266\u001b[0m, in \u001b[0;36mColumnAccessor.to_pandas_index\u001b[0;34m(self)\u001b[0m\n\u001b[1;32m    263\u001b[0m         \u001b[38;5;28;01massert\u001b[39;00m Version(pd\u001b[38;5;241m.\u001b[39m__version__) \u001b[38;5;241m<\u001b[39m Version(\u001b[38;5;124m\"\u001b[39m\u001b[38;5;124m2.0.0\u001b[39m\u001b[38;5;124m\"\u001b[39m)\n\u001b[1;32m    264\u001b[0m         warnings\u001b[38;5;241m.\u001b[39msimplefilter(\u001b[38;5;124m\"\u001b[39m\u001b[38;5;124mignore\u001b[39m\u001b[38;5;124m\"\u001b[39m)\n\u001b[1;32m    265\u001b[0m         result \u001b[38;5;241m=\u001b[39m pd\u001b[38;5;241m.\u001b[39mMultiIndex\u001b[38;5;241m.\u001b[39mfrom_frame(\n\u001b[0;32m--> 266\u001b[0m             \u001b[43mpd\u001b[49m\u001b[38;5;241;43m.\u001b[39;49m\u001b[43mDataFrame\u001b[49m\u001b[43m(\u001b[49m\n\u001b[1;32m    267\u001b[0m \u001b[43m                \u001b[49m\u001b[38;5;28;43mself\u001b[39;49m\u001b[38;5;241;43m.\u001b[39;49m\u001b[43mnames\u001b[49m\u001b[43m,\u001b[49m\u001b[43m \u001b[49m\u001b[43mcolumns\u001b[49m\u001b[38;5;241;43m=\u001b[39;49m\u001b[38;5;28;43mself\u001b[39;49m\u001b[38;5;241;43m.\u001b[39;49m\u001b[43mlevel_names\u001b[49m\u001b[43m,\u001b[49m\u001b[43m \u001b[49m\u001b[43mdtype\u001b[49m\u001b[38;5;241;43m=\u001b[39;49m\u001b[38;5;124;43m\"\u001b[39;49m\u001b[38;5;124;43mobject\u001b[39;49m\u001b[38;5;124;43m\"\u001b[39;49m\n\u001b[1;32m    268\u001b[0m \u001b[43m            \u001b[49m\u001b[43m)\u001b[49m,\n\u001b[1;32m    269\u001b[0m         )\n\u001b[1;32m    270\u001b[0m \u001b[38;5;28;01melse\u001b[39;00m:\n\u001b[1;32m    271\u001b[0m     result \u001b[38;5;241m=\u001b[39m pd\u001b[38;5;241m.\u001b[39mIndex(\u001b[38;5;28mself\u001b[39m\u001b[38;5;241m.\u001b[39mnames, name\u001b[38;5;241m=\u001b[39m\u001b[38;5;28mself\u001b[39m\u001b[38;5;241m.\u001b[39mname, tupleize_cols\u001b[38;5;241m=\u001b[39m\u001b[38;5;28;01mFalse\u001b[39;00m)\n",
      "File \u001b[0;32m/opt/conda/lib/python3.10/site-packages/pandas/core/frame.py:745\u001b[0m, in \u001b[0;36mDataFrame.__init__\u001b[0;34m(self, data, index, columns, dtype, copy)\u001b[0m\n\u001b[1;32m    742\u001b[0m \u001b[38;5;28;01mif\u001b[39;00m \u001b[38;5;129;01mnot\u001b[39;00m \u001b[38;5;28misinstance\u001b[39m(data, np\u001b[38;5;241m.\u001b[39mndarray) \u001b[38;5;129;01mand\u001b[39;00m treat_as_nested(data):\n\u001b[1;32m    743\u001b[0m     \u001b[38;5;66;03m# exclude ndarray as we may have cast it a few lines above\u001b[39;00m\n\u001b[1;32m    744\u001b[0m     \u001b[38;5;28;01mif\u001b[39;00m columns \u001b[38;5;129;01mis\u001b[39;00m \u001b[38;5;129;01mnot\u001b[39;00m \u001b[38;5;28;01mNone\u001b[39;00m:\n\u001b[0;32m--> 745\u001b[0m         columns \u001b[38;5;241m=\u001b[39m \u001b[43mensure_index\u001b[49m\u001b[43m(\u001b[49m\u001b[43mcolumns\u001b[49m\u001b[43m)\u001b[49m\n\u001b[1;32m    746\u001b[0m     arrays, columns, index \u001b[38;5;241m=\u001b[39m nested_data_to_arrays(\n\u001b[1;32m    747\u001b[0m         \u001b[38;5;66;03m# error: Argument 3 to \"nested_data_to_arrays\" has incompatible\u001b[39;00m\n\u001b[1;32m    748\u001b[0m         \u001b[38;5;66;03m# type \"Optional[Collection[Any]]\"; expected \"Optional[Index]\"\u001b[39;00m\n\u001b[0;32m   (...)\u001b[0m\n\u001b[1;32m    752\u001b[0m         dtype,\n\u001b[1;32m    753\u001b[0m     )\n\u001b[1;32m    754\u001b[0m     mgr \u001b[38;5;241m=\u001b[39m arrays_to_mgr(\n\u001b[1;32m    755\u001b[0m         arrays,\n\u001b[1;32m    756\u001b[0m         columns,\n\u001b[0;32m   (...)\u001b[0m\n\u001b[1;32m    759\u001b[0m         typ\u001b[38;5;241m=\u001b[39mmanager,\n\u001b[1;32m    760\u001b[0m     )\n",
      "File \u001b[0;32m/opt/conda/lib/python3.10/site-packages/pandas/core/indexes/base.py:7333\u001b[0m, in \u001b[0;36mensure_index\u001b[0;34m(index_like, copy)\u001b[0m\n\u001b[1;32m   7331\u001b[0m         \u001b[38;5;28;01mreturn\u001b[39;00m Index\u001b[38;5;241m.\u001b[39m_with_infer(index_like, copy\u001b[38;5;241m=\u001b[39mcopy, tupleize_cols\u001b[38;5;241m=\u001b[39m\u001b[38;5;28;01mFalse\u001b[39;00m)\n\u001b[1;32m   7332\u001b[0m \u001b[38;5;28;01melse\u001b[39;00m:\n\u001b[0;32m-> 7333\u001b[0m     \u001b[38;5;28;01mreturn\u001b[39;00m \u001b[43mIndex\u001b[49m\u001b[38;5;241;43m.\u001b[39;49m\u001b[43m_with_infer\u001b[49m\u001b[43m(\u001b[49m\u001b[43mindex_like\u001b[49m\u001b[43m,\u001b[49m\u001b[43m \u001b[49m\u001b[43mcopy\u001b[49m\u001b[38;5;241;43m=\u001b[39;49m\u001b[43mcopy\u001b[49m\u001b[43m)\u001b[49m\n",
      "File \u001b[0;32m/opt/conda/lib/python3.10/site-packages/pandas/core/indexes/base.py:716\u001b[0m, in \u001b[0;36mIndex._with_infer\u001b[0;34m(cls, *args, **kwargs)\u001b[0m\n\u001b[1;32m    714\u001b[0m \u001b[38;5;28;01mwith\u001b[39;00m warnings\u001b[38;5;241m.\u001b[39mcatch_warnings():\n\u001b[1;32m    715\u001b[0m     warnings\u001b[38;5;241m.\u001b[39mfilterwarnings(\u001b[38;5;124m\"\u001b[39m\u001b[38;5;124mignore\u001b[39m\u001b[38;5;124m\"\u001b[39m, \u001b[38;5;124m\"\u001b[39m\u001b[38;5;124m.*the Index constructor\u001b[39m\u001b[38;5;124m\"\u001b[39m, \u001b[38;5;167;01mFutureWarning\u001b[39;00m)\n\u001b[0;32m--> 716\u001b[0m     result \u001b[38;5;241m=\u001b[39m \u001b[38;5;28;43mcls\u001b[39;49m\u001b[43m(\u001b[49m\u001b[38;5;241;43m*\u001b[39;49m\u001b[43margs\u001b[49m\u001b[43m,\u001b[49m\u001b[43m \u001b[49m\u001b[38;5;241;43m*\u001b[39;49m\u001b[38;5;241;43m*\u001b[39;49m\u001b[43mkwargs\u001b[49m\u001b[43m)\u001b[49m\n\u001b[1;32m    718\u001b[0m \u001b[38;5;28;01mif\u001b[39;00m result\u001b[38;5;241m.\u001b[39mdtype \u001b[38;5;241m==\u001b[39m _dtype_obj \u001b[38;5;129;01mand\u001b[39;00m \u001b[38;5;129;01mnot\u001b[39;00m result\u001b[38;5;241m.\u001b[39m_is_multi:\n\u001b[1;32m    719\u001b[0m     \u001b[38;5;66;03m# error: Argument 1 to \"maybe_convert_objects\" has incompatible type\u001b[39;00m\n\u001b[1;32m    720\u001b[0m     \u001b[38;5;66;03m# \"Union[ExtensionArray, ndarray[Any, Any]]\"; expected\u001b[39;00m\n\u001b[1;32m    721\u001b[0m     \u001b[38;5;66;03m# \"ndarray[Any, Any]\"\u001b[39;00m\n\u001b[1;32m    722\u001b[0m     values \u001b[38;5;241m=\u001b[39m lib\u001b[38;5;241m.\u001b[39mmaybe_convert_objects(result\u001b[38;5;241m.\u001b[39m_values)  \u001b[38;5;66;03m# type: ignore[arg-type]\u001b[39;00m\n",
      "File \u001b[0;32m/opt/conda/lib/python3.10/site-packages/pandas/core/indexes/base.py:568\u001b[0m, in \u001b[0;36mIndex.__new__\u001b[0;34m(cls, data, dtype, copy, name, tupleize_cols, **kwargs)\u001b[0m\n\u001b[1;32m    565\u001b[0m subarr \u001b[38;5;241m=\u001b[39m com\u001b[38;5;241m.\u001b[39masarray_tuplesafe(data, dtype\u001b[38;5;241m=\u001b[39m_dtype_obj)\n\u001b[1;32m    566\u001b[0m \u001b[38;5;28;01mif\u001b[39;00m dtype \u001b[38;5;129;01mis\u001b[39;00m \u001b[38;5;28;01mNone\u001b[39;00m:\n\u001b[1;32m    567\u001b[0m     \u001b[38;5;66;03m# with e.g. a list [1, 2, 3] casting to numeric is _not_ deprecated\u001b[39;00m\n\u001b[0;32m--> 568\u001b[0m     subarr \u001b[38;5;241m=\u001b[39m \u001b[43m_maybe_cast_data_without_dtype\u001b[49m\u001b[43m(\u001b[49m\n\u001b[1;32m    569\u001b[0m \u001b[43m        \u001b[49m\u001b[43msubarr\u001b[49m\u001b[43m,\u001b[49m\u001b[43m \u001b[49m\u001b[43mcast_numeric_deprecated\u001b[49m\u001b[38;5;241;43m=\u001b[39;49m\u001b[38;5;28;43;01mFalse\u001b[39;49;00m\n\u001b[1;32m    570\u001b[0m \u001b[43m    \u001b[49m\u001b[43m)\u001b[49m\n\u001b[1;32m    571\u001b[0m     dtype \u001b[38;5;241m=\u001b[39m subarr\u001b[38;5;241m.\u001b[39mdtype\n\u001b[1;32m    572\u001b[0m \u001b[38;5;28;01mreturn\u001b[39;00m Index(subarr, dtype\u001b[38;5;241m=\u001b[39mdtype, copy\u001b[38;5;241m=\u001b[39mcopy, name\u001b[38;5;241m=\u001b[39mname, \u001b[38;5;241m*\u001b[39m\u001b[38;5;241m*\u001b[39mkwargs)\n",
      "File \u001b[0;32m/opt/conda/lib/python3.10/site-packages/pandas/core/indexes/base.py:7414\u001b[0m, in \u001b[0;36m_maybe_cast_data_without_dtype\u001b[0;34m(subarr, cast_numeric_deprecated)\u001b[0m\n\u001b[1;32m   7396\u001b[0m \u001b[38;5;28;01mdef\u001b[39;00m \u001b[38;5;21m_maybe_cast_data_without_dtype\u001b[39m(\n\u001b[1;32m   7397\u001b[0m     subarr: np\u001b[38;5;241m.\u001b[39mndarray, cast_numeric_deprecated: \u001b[38;5;28mbool\u001b[39m \u001b[38;5;241m=\u001b[39m \u001b[38;5;28;01mTrue\u001b[39;00m\n\u001b[1;32m   7398\u001b[0m ) \u001b[38;5;241m-\u001b[39m\u001b[38;5;241m>\u001b[39m ArrayLike:\n\u001b[1;32m   7399\u001b[0m \u001b[38;5;250m    \u001b[39m\u001b[38;5;124;03m\"\"\"\u001b[39;00m\n\u001b[1;32m   7400\u001b[0m \u001b[38;5;124;03m    If we have an arraylike input but no passed dtype, try to infer\u001b[39;00m\n\u001b[1;32m   7401\u001b[0m \u001b[38;5;124;03m    a supported dtype.\u001b[39;00m\n\u001b[0;32m   (...)\u001b[0m\n\u001b[1;32m   7411\u001b[0m \u001b[38;5;124;03m    np.ndarray or ExtensionArray\u001b[39;00m\n\u001b[1;32m   7412\u001b[0m \u001b[38;5;124;03m    \"\"\"\u001b[39;00m\n\u001b[0;32m-> 7414\u001b[0m     result \u001b[38;5;241m=\u001b[39m \u001b[43mlib\u001b[49m\u001b[38;5;241;43m.\u001b[39;49m\u001b[43mmaybe_convert_objects\u001b[49m\u001b[43m(\u001b[49m\n\u001b[1;32m   7415\u001b[0m \u001b[43m        \u001b[49m\u001b[43msubarr\u001b[49m\u001b[43m,\u001b[49m\n\u001b[1;32m   7416\u001b[0m \u001b[43m        \u001b[49m\u001b[43mconvert_datetime\u001b[49m\u001b[38;5;241;43m=\u001b[39;49m\u001b[38;5;28;43;01mTrue\u001b[39;49;00m\u001b[43m,\u001b[49m\n\u001b[1;32m   7417\u001b[0m \u001b[43m        \u001b[49m\u001b[43mconvert_timedelta\u001b[49m\u001b[38;5;241;43m=\u001b[39;49m\u001b[38;5;28;43;01mTrue\u001b[39;49;00m\u001b[43m,\u001b[49m\n\u001b[1;32m   7418\u001b[0m \u001b[43m        \u001b[49m\u001b[43mconvert_period\u001b[49m\u001b[38;5;241;43m=\u001b[39;49m\u001b[38;5;28;43;01mTrue\u001b[39;49;00m\u001b[43m,\u001b[49m\n\u001b[1;32m   7419\u001b[0m \u001b[43m        \u001b[49m\u001b[43mconvert_interval\u001b[49m\u001b[38;5;241;43m=\u001b[39;49m\u001b[38;5;28;43;01mTrue\u001b[39;49;00m\u001b[43m,\u001b[49m\n\u001b[1;32m   7420\u001b[0m \u001b[43m        \u001b[49m\u001b[43mdtype_if_all_nat\u001b[49m\u001b[38;5;241;43m=\u001b[39;49m\u001b[43mnp\u001b[49m\u001b[38;5;241;43m.\u001b[39;49m\u001b[43mdtype\u001b[49m\u001b[43m(\u001b[49m\u001b[38;5;124;43m\"\u001b[39;49m\u001b[38;5;124;43mdatetime64[ns]\u001b[39;49m\u001b[38;5;124;43m\"\u001b[39;49m\u001b[43m)\u001b[49m\u001b[43m,\u001b[49m\n\u001b[1;32m   7421\u001b[0m \u001b[43m    \u001b[49m\u001b[43m)\u001b[49m\n\u001b[1;32m   7422\u001b[0m     \u001b[38;5;28;01mif\u001b[39;00m result\u001b[38;5;241m.\u001b[39mdtype\u001b[38;5;241m.\u001b[39mkind \u001b[38;5;129;01min\u001b[39;00m [\u001b[38;5;124m\"\u001b[39m\u001b[38;5;124mi\u001b[39m\u001b[38;5;124m\"\u001b[39m, \u001b[38;5;124m\"\u001b[39m\u001b[38;5;124mu\u001b[39m\u001b[38;5;124m\"\u001b[39m, \u001b[38;5;124m\"\u001b[39m\u001b[38;5;124mf\u001b[39m\u001b[38;5;124m\"\u001b[39m]:\n\u001b[1;32m   7423\u001b[0m         \u001b[38;5;28;01mif\u001b[39;00m \u001b[38;5;129;01mnot\u001b[39;00m cast_numeric_deprecated:\n\u001b[1;32m   7424\u001b[0m             \u001b[38;5;66;03m# i.e. we started with a list, not an ndarray[object]\u001b[39;00m\n",
      "File \u001b[0;32m/opt/conda/lib/python3.10/site-packages/pandas/_libs/lib.pyx:2515\u001b[0m, in \u001b[0;36mpandas._libs.lib.maybe_convert_objects\u001b[0;34m()\u001b[0m\n",
      "File \u001b[0;32m/opt/conda/lib/python3.10/site-packages/numpy/core/numeric.py:290\u001b[0m, in \u001b[0;36mfull\u001b[0;34m(shape, fill_value, dtype, order, like)\u001b[0m\n\u001b[1;32m    286\u001b[0m \u001b[38;5;28;01mdef\u001b[39;00m \u001b[38;5;21m_full_dispatcher\u001b[39m(shape, fill_value, dtype\u001b[38;5;241m=\u001b[39m\u001b[38;5;28;01mNone\u001b[39;00m, order\u001b[38;5;241m=\u001b[39m\u001b[38;5;28;01mNone\u001b[39;00m, \u001b[38;5;241m*\u001b[39m, like\u001b[38;5;241m=\u001b[39m\u001b[38;5;28;01mNone\u001b[39;00m):\n\u001b[1;32m    287\u001b[0m     \u001b[38;5;28;01mreturn\u001b[39;00m(like,)\n\u001b[0;32m--> 290\u001b[0m \u001b[38;5;129m@set_array_function_like_doc\u001b[39m\n\u001b[1;32m    291\u001b[0m \u001b[38;5;129m@set_module\u001b[39m(\u001b[38;5;124m'\u001b[39m\u001b[38;5;124mnumpy\u001b[39m\u001b[38;5;124m'\u001b[39m)\n\u001b[1;32m    292\u001b[0m \u001b[38;5;28;01mdef\u001b[39;00m \u001b[38;5;21mfull\u001b[39m(shape, fill_value, dtype\u001b[38;5;241m=\u001b[39m\u001b[38;5;28;01mNone\u001b[39;00m, order\u001b[38;5;241m=\u001b[39m\u001b[38;5;124m'\u001b[39m\u001b[38;5;124mC\u001b[39m\u001b[38;5;124m'\u001b[39m, \u001b[38;5;241m*\u001b[39m, like\u001b[38;5;241m=\u001b[39m\u001b[38;5;28;01mNone\u001b[39;00m):\n\u001b[1;32m    293\u001b[0m \u001b[38;5;250m    \u001b[39m\u001b[38;5;124;03m\"\"\"\u001b[39;00m\n\u001b[1;32m    294\u001b[0m \u001b[38;5;124;03m    Return a new array of given shape and type, filled with `fill_value`.\u001b[39;00m\n\u001b[1;32m    295\u001b[0m \n\u001b[0;32m   (...)\u001b[0m\n\u001b[1;32m    336\u001b[0m \n\u001b[1;32m    337\u001b[0m \u001b[38;5;124;03m    \"\"\"\u001b[39;00m\n\u001b[1;32m    338\u001b[0m     \u001b[38;5;28;01mif\u001b[39;00m like \u001b[38;5;129;01mis\u001b[39;00m \u001b[38;5;129;01mnot\u001b[39;00m \u001b[38;5;28;01mNone\u001b[39;00m:\n",
      "\u001b[0;31mKeyboardInterrupt\u001b[0m: "
     ]
    }
   ],
   "source": [
    "reals_list = []\n",
    "preds_list = []\n",
    "for i in range(29):\n",
    "    if i == 22:\n",
    "        continue\n",
    "    mcelog1 = pd.read_csv(os.path.join(CONFIG.PATH_PROCESSED, f\"mcelog_{i}.csv\"))\n",
    "    df_cudf = cudf.DataFrame(mcelog1)\n",
    "    reals, preds, fpss, fnss = check_one(df_cudf)\n",
    "    reals_list.extend(reals)\n",
    "    preds_list.extend(preds)\n",
    "precision = precision_score(reals_list, preds_list)\n",
    "recall = recall_score(reals_list, preds_list)\n",
    "\n",
    "print(\"precision {}\".format(precision))\n",
    "print(\"recall {}\".format(recall))\n"
   ]
  },
  {
   "cell_type": "code",
   "execution_count": 138,
   "id": "136253de-149d-4173-9953-c46fb2423a4d",
   "metadata": {
    "tags": []
   },
   "outputs": [
    {
     "data": {
      "text/html": [
       "<div>\n",
       "<style scoped>\n",
       "    .dataframe tbody tr th:only-of-type {\n",
       "        vertical-align: middle;\n",
       "    }\n",
       "\n",
       "    .dataframe tbody tr th {\n",
       "        vertical-align: top;\n",
       "    }\n",
       "\n",
       "    .dataframe thead th {\n",
       "        text-align: right;\n",
       "    }\n",
       "</style>\n",
       "<table border=\"1\" class=\"dataframe\">\n",
       "  <thead>\n",
       "    <tr style=\"text-align: right;\">\n",
       "      <th></th>\n",
       "      <th>Unnamed: 0</th>\n",
       "      <th>sid</th>\n",
       "      <th>memoryid</th>\n",
       "      <th>rankid</th>\n",
       "      <th>bankid</th>\n",
       "      <th>row</th>\n",
       "      <th>col</th>\n",
       "      <th>error_type</th>\n",
       "      <th>error_time</th>\n",
       "      <th>server_manufacturer</th>\n",
       "      <th>DRAM_model</th>\n",
       "      <th>DIMM_number</th>\n",
       "      <th>failure_type</th>\n",
       "      <th>failed_time</th>\n",
       "    </tr>\n",
       "  </thead>\n",
       "  <tbody>\n",
       "    <tr>\n",
       "      <th>97915</th>\n",
       "      <td>97915</td>\n",
       "      <td>Server_139</td>\n",
       "      <td>22</td>\n",
       "      <td>0</td>\n",
       "      <td>3</td>\n",
       "      <td>0</td>\n",
       "      <td>1016</td>\n",
       "      <td>1</td>\n",
       "      <td>2019-12-23 08:10:51</td>\n",
       "      <td>M2</td>\n",
       "      <td>B1</td>\n",
       "      <td>12</td>\n",
       "      <td>&lt;NA&gt;</td>\n",
       "      <td>2023-01-01 00:00:00</td>\n",
       "    </tr>\n",
       "    <tr>\n",
       "      <th>97952</th>\n",
       "      <td>97952</td>\n",
       "      <td>Server_139</td>\n",
       "      <td>22</td>\n",
       "      <td>0</td>\n",
       "      <td>3</td>\n",
       "      <td>1</td>\n",
       "      <td>1016</td>\n",
       "      <td>1</td>\n",
       "      <td>2019-12-23 08:30:43</td>\n",
       "      <td>M2</td>\n",
       "      <td>B1</td>\n",
       "      <td>12</td>\n",
       "      <td>&lt;NA&gt;</td>\n",
       "      <td>2023-01-01 00:00:00</td>\n",
       "    </tr>\n",
       "    <tr>\n",
       "      <th>97993</th>\n",
       "      <td>97993</td>\n",
       "      <td>Server_139</td>\n",
       "      <td>22</td>\n",
       "      <td>0</td>\n",
       "      <td>3</td>\n",
       "      <td>2</td>\n",
       "      <td>1016</td>\n",
       "      <td>1</td>\n",
       "      <td>2019-12-23 09:02:34</td>\n",
       "      <td>M2</td>\n",
       "      <td>B1</td>\n",
       "      <td>12</td>\n",
       "      <td>&lt;NA&gt;</td>\n",
       "      <td>2023-01-01 00:00:00</td>\n",
       "    </tr>\n",
       "    <tr>\n",
       "      <th>97772</th>\n",
       "      <td>97772</td>\n",
       "      <td>Server_139</td>\n",
       "      <td>22</td>\n",
       "      <td>0</td>\n",
       "      <td>3</td>\n",
       "      <td>3</td>\n",
       "      <td>1016</td>\n",
       "      <td>1</td>\n",
       "      <td>2019-12-23 07:31:53</td>\n",
       "      <td>M2</td>\n",
       "      <td>B1</td>\n",
       "      <td>12</td>\n",
       "      <td>&lt;NA&gt;</td>\n",
       "      <td>2023-01-01 00:00:00</td>\n",
       "    </tr>\n",
       "    <tr>\n",
       "      <th>98030</th>\n",
       "      <td>98030</td>\n",
       "      <td>Server_139</td>\n",
       "      <td>22</td>\n",
       "      <td>0</td>\n",
       "      <td>3</td>\n",
       "      <td>5</td>\n",
       "      <td>1016</td>\n",
       "      <td>1</td>\n",
       "      <td>2019-12-23 09:36:51</td>\n",
       "      <td>M2</td>\n",
       "      <td>B1</td>\n",
       "      <td>12</td>\n",
       "      <td>&lt;NA&gt;</td>\n",
       "      <td>2023-01-01 00:00:00</td>\n",
       "    </tr>\n",
       "    <tr>\n",
       "      <th>...</th>\n",
       "      <td>...</td>\n",
       "      <td>...</td>\n",
       "      <td>...</td>\n",
       "      <td>...</td>\n",
       "      <td>...</td>\n",
       "      <td>...</td>\n",
       "      <td>...</td>\n",
       "      <td>...</td>\n",
       "      <td>...</td>\n",
       "      <td>...</td>\n",
       "      <td>...</td>\n",
       "      <td>...</td>\n",
       "      <td>...</td>\n",
       "      <td>...</td>\n",
       "    </tr>\n",
       "    <tr>\n",
       "      <th>97919</th>\n",
       "      <td>97919</td>\n",
       "      <td>Server_139</td>\n",
       "      <td>22</td>\n",
       "      <td>0</td>\n",
       "      <td>3</td>\n",
       "      <td>67561</td>\n",
       "      <td>1016</td>\n",
       "      <td>1</td>\n",
       "      <td>2019-12-23 08:12:59</td>\n",
       "      <td>M2</td>\n",
       "      <td>B1</td>\n",
       "      <td>12</td>\n",
       "      <td>&lt;NA&gt;</td>\n",
       "      <td>2023-01-01 00:00:00</td>\n",
       "    </tr>\n",
       "    <tr>\n",
       "      <th>97921</th>\n",
       "      <td>97921</td>\n",
       "      <td>Server_139</td>\n",
       "      <td>22</td>\n",
       "      <td>0</td>\n",
       "      <td>3</td>\n",
       "      <td>67562</td>\n",
       "      <td>1016</td>\n",
       "      <td>1</td>\n",
       "      <td>2019-12-23 08:12:59</td>\n",
       "      <td>M2</td>\n",
       "      <td>B1</td>\n",
       "      <td>12</td>\n",
       "      <td>&lt;NA&gt;</td>\n",
       "      <td>2023-01-01 00:00:00</td>\n",
       "    </tr>\n",
       "    <tr>\n",
       "      <th>97920</th>\n",
       "      <td>97920</td>\n",
       "      <td>Server_139</td>\n",
       "      <td>22</td>\n",
       "      <td>0</td>\n",
       "      <td>3</td>\n",
       "      <td>67563</td>\n",
       "      <td>1016</td>\n",
       "      <td>1</td>\n",
       "      <td>2019-12-23 08:12:59</td>\n",
       "      <td>M2</td>\n",
       "      <td>B1</td>\n",
       "      <td>12</td>\n",
       "      <td>&lt;NA&gt;</td>\n",
       "      <td>2023-01-01 00:00:00</td>\n",
       "    </tr>\n",
       "    <tr>\n",
       "      <th>97922</th>\n",
       "      <td>97922</td>\n",
       "      <td>Server_139</td>\n",
       "      <td>22</td>\n",
       "      <td>0</td>\n",
       "      <td>3</td>\n",
       "      <td>67564</td>\n",
       "      <td>1016</td>\n",
       "      <td>1</td>\n",
       "      <td>2019-12-23 08:12:59</td>\n",
       "      <td>M2</td>\n",
       "      <td>B1</td>\n",
       "      <td>12</td>\n",
       "      <td>&lt;NA&gt;</td>\n",
       "      <td>2023-01-01 00:00:00</td>\n",
       "    </tr>\n",
       "    <tr>\n",
       "      <th>97817</th>\n",
       "      <td>97817</td>\n",
       "      <td>Server_139</td>\n",
       "      <td>22</td>\n",
       "      <td>0</td>\n",
       "      <td>3</td>\n",
       "      <td>67567</td>\n",
       "      <td>1016</td>\n",
       "      <td>1</td>\n",
       "      <td>2019-12-23 07:32:31</td>\n",
       "      <td>M2</td>\n",
       "      <td>B1</td>\n",
       "      <td>12</td>\n",
       "      <td>&lt;NA&gt;</td>\n",
       "      <td>2023-01-01 00:00:00</td>\n",
       "    </tr>\n",
       "  </tbody>\n",
       "</table>\n",
       "<p>394 rows × 14 columns</p>\n",
       "</div>"
      ],
      "text/plain": [
       "       Unnamed: 0         sid  memoryid  rankid  bankid    row   col  \\\n",
       "97915       97915  Server_139        22       0       3      0  1016   \n",
       "97952       97952  Server_139        22       0       3      1  1016   \n",
       "97993       97993  Server_139        22       0       3      2  1016   \n",
       "97772       97772  Server_139        22       0       3      3  1016   \n",
       "98030       98030  Server_139        22       0       3      5  1016   \n",
       "...           ...         ...       ...     ...     ...    ...   ...   \n",
       "97919       97919  Server_139        22       0       3  67561  1016   \n",
       "97921       97921  Server_139        22       0       3  67562  1016   \n",
       "97920       97920  Server_139        22       0       3  67563  1016   \n",
       "97922       97922  Server_139        22       0       3  67564  1016   \n",
       "97817       97817  Server_139        22       0       3  67567  1016   \n",
       "\n",
       "       error_type           error_time server_manufacturer DRAM_model  \\\n",
       "97915           1  2019-12-23 08:10:51                  M2         B1   \n",
       "97952           1  2019-12-23 08:30:43                  M2         B1   \n",
       "97993           1  2019-12-23 09:02:34                  M2         B1   \n",
       "97772           1  2019-12-23 07:31:53                  M2         B1   \n",
       "98030           1  2019-12-23 09:36:51                  M2         B1   \n",
       "...           ...                  ...                 ...        ...   \n",
       "97919           1  2019-12-23 08:12:59                  M2         B1   \n",
       "97921           1  2019-12-23 08:12:59                  M2         B1   \n",
       "97920           1  2019-12-23 08:12:59                  M2         B1   \n",
       "97922           1  2019-12-23 08:12:59                  M2         B1   \n",
       "97817           1  2019-12-23 07:32:31                  M2         B1   \n",
       "\n",
       "       DIMM_number failure_type          failed_time  \n",
       "97915           12         <NA>  2023-01-01 00:00:00  \n",
       "97952           12         <NA>  2023-01-01 00:00:00  \n",
       "97993           12         <NA>  2023-01-01 00:00:00  \n",
       "97772           12         <NA>  2023-01-01 00:00:00  \n",
       "98030           12         <NA>  2023-01-01 00:00:00  \n",
       "...            ...          ...                  ...  \n",
       "97919           12         <NA>  2023-01-01 00:00:00  \n",
       "97921           12         <NA>  2023-01-01 00:00:00  \n",
       "97920           12         <NA>  2023-01-01 00:00:00  \n",
       "97922           12         <NA>  2023-01-01 00:00:00  \n",
       "97817           12         <NA>  2023-01-01 00:00:00  \n",
       "\n",
       "[394 rows x 14 columns]"
      ]
     },
     "execution_count": 138,
     "metadata": {},
     "output_type": "execute_result"
    }
   ],
   "source": [
    "host_cudf = df_cudf[df_cudf[\"sid\"]==\"Server_139\"].sort_values([\"row\"], ascending=True)\n",
    "host_cudf\n",
    "# host_cudf[\"grouped\"] = host_cudf[\"memoryid\"] + host_cudf[\"rankid\"] + host_cudf[\"bankid\"] + host_cudf[\"col\"]\n",
    "# host_cudf_grouped = host_cudf.groupby(\"grouped\").agg({\"row\": [\"max\", \"min\"]})\n",
    "# host_cudf_grouped.columns = [\"max\", \"min\"]\n",
    "# host_cudf_grouped[\"col_gap\"] = host_cudf_grouped[\"max\"] - host_cudf_grouped[\"min\"]\n",
    "# host_cudf_grouped = host_cudf_grouped.reset_index()\n",
    "# host_cudf_grouped"
   ]
  },
  {
   "cell_type": "code",
   "execution_count": 78,
   "id": "ab364240-87da-4174-9a98-bfc5613ebf2e",
   "metadata": {
    "tags": []
   },
   "outputs": [
    {
     "name": "stdout",
     "output_type": "stream",
     "text": [
      "------\n",
      "  AB_group  max  min  差值\n",
      "0       X1   50   10  40\n",
      "1       X2   20   20   0\n",
      "2       Y1   30   30   0\n",
      "3       Y2   40   40   0\n",
      "1\n"
     ]
    }
   ],
   "source": [
    "import pandas as pd\n",
    "\n",
    "# 创建示例DataFrame\n",
    "data = {'A': ['X', 'X', 'Y', 'Y', 'X'],\n",
    "        'B': ['1', '2', '1', '2', '1'],\n",
    "        'd': [1,2,3,4,5],\n",
    "        'C': [10, 20, 30, 40, 50]}\n",
    "df = pd.DataFrame(data)\n",
    "\n",
    "# 将A和B列组合成一个新的列以进行分组\n",
    "df['AB_group'] = df['A'] + df['B']\n",
    "\n",
    "# 使用groupby按AB_group分组，然后计算C列的最大值和最小值\n",
    "result = df.groupby('AB_group')['C'].agg([max, min]).reset_index()\n",
    "\n",
    "# 计算最大值和最小值的差值\n",
    "result['差值'] = result['max'] - result['min']\n",
    "\n",
    "if (result['差值']>40).any():\n",
    "    print(\"ff\")\n",
    "else:\n",
    "    print(\"------\")\n",
    "\n",
    "print(result)\n",
    "\n",
    "print((result['差值']>20).any().astype(int))"
   ]
  },
  {
   "cell_type": "code",
   "execution_count": 203,
   "id": "c56ad506-81fb-4e3d-8bd4-8855b1602c91",
   "metadata": {},
   "outputs": [
    {
     "name": "stdout",
     "output_type": "stream",
     "text": [
      "  column1 max min\n",
      "0       X   2   1\n",
      "1       Y   2   1\n"
     ]
    }
   ],
   "source": [
    "import cudf\n",
    "\n",
    "# 创建一个示例DataFrame，假设有两列：'column1'和'column2'\n",
    "# data = {'column1': [1, 1, 2, 2, 3, 3],\n",
    "#         'column2': [10, 20, 15, 25, 30, 40]}\n",
    "data = {'column1': ['X', 'X', 'Y', 'Y', 'X'],\n",
    "        'column2': ['1', '2', '1', '2', '1'],\n",
    "        'd': [1,1,1,1,1],\n",
    "        'C': [10, 20, 30, 40, 50]}\n",
    "df = cudf.DataFrame(data)\n",
    "# 使用groupby根据'column1'进行分组，并计算第二列的最大值和最小值\n",
    "grouped = df.groupby('column1').agg({'column2': ['max', 'min']})\n",
    "\n",
    "# 重命名列\n",
    "grouped.columns = ['max', 'min']\n",
    "\n",
    "# 重置索引以将'column1'作为列而不是索引\n",
    "grouped = grouped.reset_index()\n",
    "\n",
    "# 打印结果\n",
    "print(grouped)\n"
   ]
  },
  {
   "cell_type": "code",
   "execution_count": 209,
   "id": "43d3634a-02f1-41f9-abb2-b9e4dc1b6551",
   "metadata": {
    "tags": []
   },
   "outputs": [
    {
     "name": "stdout",
     "output_type": "stream",
     "text": [
      "  column1  d max min\n",
      "0       X  1   2   1\n",
      "1       Y  1   2   1\n"
     ]
    }
   ],
   "source": [
    "import cudf\n",
    "\n",
    "# 创建一个示例DataFrame，假设有两列：'column1'和'column2'\n",
    "# data = {'column1': [1, 1, 2, 2, 3, 3],\n",
    "#         'column2': [10, 20, 15, 25, 30, 40]}\n",
    "data = {'column1': ['X', 'X', 'Y', 'Y', 'X'],\n",
    "        'column2': ['1', '2', '1', '2', '1'],\n",
    "        'd': [1,1,1,1,1],\n",
    "        'C': [10, 20, 30, 40, 50]}\n",
    "df = pd.DataFrame(data)\n",
    "# 使用groupby根据'column1'进行分组，并计算第二列的最大值和最小值\n",
    "grouped = df.groupby(['column1','d']).agg({'column2': ['max', 'min']})\n",
    "\n",
    "# 重命名列\n",
    "grouped.columns = ['max', 'min']\n",
    "\n",
    "# 重置索引以将'column1'作为列而不是索引\n",
    "grouped = grouped.reset_index()\n",
    "\n",
    "# 打印结果\n",
    "print(grouped)\n"
   ]
  },
  {
   "cell_type": "code",
   "execution_count": 196,
   "id": "6dd04119-04ca-4ca5-94dc-eec648964ff3",
   "metadata": {},
   "outputs": [
    {
     "data": {
      "text/plain": [
       "1"
      ]
     },
     "execution_count": 196,
     "metadata": {},
     "output_type": "execute_result"
    }
   ],
   "source": [
    "data = {'column1': [1, 1, 2, 2, 3, 3],\n",
    "        'column2': [10, 20, 15, 25, 30, 40]}\n",
    "\n",
    "df = cudf.DataFrame(data)\n",
    "\n",
    "((df[\"column2\"].max() - df[\"column2\"].min())<50).astype(int)"
   ]
  },
  {
   "cell_type": "code",
   "execution_count": null,
   "id": "1bc9796c-3091-4d72-9fed-0588f4e6cc13",
   "metadata": {},
   "outputs": [],
   "source": [
    "data = {'column1': [1, 1, 2, 2, 3, 3],\n",
    "        'column2': [10, 20, 15, 25, 30, 40]}\n",
    "\n",
    "df = cudf.DataFrame(data)\n",
    "\n",
    "df = df"
   ]
  },
  {
   "cell_type": "code",
   "execution_count": 378,
   "id": "3396181c-6b29-407b-8b7c-f6939a372b9e",
   "metadata": {
    "tags": []
   },
   "outputs": [
    {
     "data": {
      "text/plain": [
       "True"
      ]
     },
     "execution_count": 378,
     "metadata": {},
     "output_type": "execute_result"
    }
   ],
   "source": [
    "import torch\n",
    "\n",
    "torch.cuda.is_available()"
   ]
  },
  {
   "cell_type": "code",
   "execution_count": null,
   "id": "db6499d6-4c9e-47d1-b230-783e610e9e6d",
   "metadata": {},
   "outputs": [],
   "source": []
  }
 ],
 "metadata": {
  "kernelspec": {
   "display_name": "Python 3 (ipykernel)",
   "language": "python",
   "name": "python3"
  },
  "language_info": {
   "codemirror_mode": {
    "name": "ipython",
    "version": 3
   },
   "file_extension": ".py",
   "mimetype": "text/x-python",
   "name": "python",
   "nbconvert_exporter": "python",
   "pygments_lexer": "ipython3",
   "version": "3.11.3"
  },
  "toc-autonumbering": true
 },
 "nbformat": 4,
 "nbformat_minor": 5
}
