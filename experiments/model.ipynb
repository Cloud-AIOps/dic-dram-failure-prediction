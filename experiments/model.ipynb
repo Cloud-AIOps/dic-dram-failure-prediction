{
 "cells": [
  {
   "cell_type": "code",
   "execution_count": 82,
   "id": "591c939e-89e1-4686-880d-c962713a5a02",
   "metadata": {
    "tags": []
   },
   "outputs": [],
   "source": [
    "import os\n",
    "import json\n",
    "import datetime\n",
    "import logging\n",
    "import warnings\n",
    "\n",
    "import pandas as pd\n",
    "import numpy as np\n",
    "from tqdm import tqdm\n",
    "import cudf\n",
    "from numba import cuda\n",
    "from collections import Counter\n",
    "import cupy as cp\n",
    "\n",
    "\n",
    "import config as CONFIG\n",
    "import utils\n",
    "\n",
    "warnings.filterwarnings(\"ignore\")\n",
    "logging.basicConfig(level=logging.INFO, format=\"%(asctime)s - %(levelname)s - %(message)s\")"
   ]
  },
  {
   "cell_type": "markdown",
   "id": "c1165528-835a-4589-beec-bd6a9af82442",
   "metadata": {},
   "source": [
    "# load data"
   ]
  },
  {
   "cell_type": "code",
   "execution_count": 4,
   "id": "c56310a7-acc8-4477-920c-fe61cb842d6a",
   "metadata": {
    "tags": []
   },
   "outputs": [],
   "source": [
    "mcelog = pd.read_csv(os.path.join(CONFIG.PATH_RAW, \"ali/mcelog.csv\"))\n",
    "failure = pd.read_csv(os.path.join(CONFIG.PATH_RAW, \"ali/trouble_tickets.csv\"))\n",
    "inventory = pd.read_csv(os.path.join(CONFIG.PATH_RAW, \"ali/inventory.csv\"))"
   ]
  },
  {
   "cell_type": "code",
   "execution_count": 70,
   "id": "76a6fde8-2c54-46e0-96c3-443e30cb3025",
   "metadata": {
    "tags": []
   },
   "outputs": [
    {
     "ename": "NameError",
     "evalue": "name 'mcelog' is not defined",
     "output_type": "error",
     "traceback": [
      "\u001b[0;31m---------------------------------------------------------------------------\u001b[0m",
      "\u001b[0;31mNameError\u001b[0m                                 Traceback (most recent call last)",
      "Cell \u001b[0;32mIn[70], line 1\u001b[0m\n\u001b[0;32m----> 1\u001b[0m \u001b[43mmcelog\u001b[49m\u001b[38;5;241m.\u001b[39mhead(\u001b[38;5;241m5\u001b[39m)\n",
      "\u001b[0;31mNameError\u001b[0m: name 'mcelog' is not defined"
     ]
    }
   ],
   "source": [
    "mcelog.head(5)"
   ]
  },
  {
   "cell_type": "code",
   "execution_count": 6,
   "id": "bd7e6c73-ffb6-42f6-8a46-6d4ab3a6009f",
   "metadata": {
    "tags": []
   },
   "outputs": [],
   "source": [
    "def format_date(date):\n",
    "    y = int(date.split(\" \")[0].split(\"-\")[0])\n",
    "    m = int(date.split(\" \")[0].split(\"-\")[1])\n",
    "    d = date.split(\" \")[0].split(\"-\")[2]\n",
    "\n",
    "    yy = \"2020\"\n",
    "    if m <= 3:\n",
    "        yy = \"2019\"\n",
    "    m = (m + 9) % 12\n",
    "    m = 12 if m == 0 else m\n",
    "    mm = \"0\" + str(m) if m <= 9 else str(m)\n",
    "\n",
    "    return f\"{yy}-{mm}-{d} {date.split(' ')[1]}\""
   ]
  },
  {
   "cell_type": "code",
   "execution_count": 7,
   "id": "9fa5a80e-d9ba-42d1-bfa3-e332c63c3a39",
   "metadata": {
    "tags": []
   },
   "outputs": [],
   "source": [
    "mcelog[\"error_time\"] = mcelog[\"error_time\"].apply(format_date)\n",
    "failure[\"failed_time\"] = failure[\"failed_time\"].apply(format_date)"
   ]
  },
  {
   "cell_type": "code",
   "execution_count": 11,
   "id": "93fc4ff2-2008-45cb-8399-5bc058435db7",
   "metadata": {
    "tags": []
   },
   "outputs": [
    {
     "data": {
      "text/html": [
       "<div>\n",
       "<style scoped>\n",
       "    .dataframe tbody tr th:only-of-type {\n",
       "        vertical-align: middle;\n",
       "    }\n",
       "\n",
       "    .dataframe tbody tr th {\n",
       "        vertical-align: top;\n",
       "    }\n",
       "\n",
       "    .dataframe thead th {\n",
       "        text-align: right;\n",
       "    }\n",
       "</style>\n",
       "<table border=\"1\" class=\"dataframe\">\n",
       "  <thead>\n",
       "    <tr style=\"text-align: right;\">\n",
       "      <th></th>\n",
       "      <th>sid</th>\n",
       "      <th>memoryid</th>\n",
       "      <th>rankid</th>\n",
       "      <th>bankid</th>\n",
       "      <th>row</th>\n",
       "      <th>col</th>\n",
       "      <th>error_type</th>\n",
       "      <th>error_time</th>\n",
       "    </tr>\n",
       "  </thead>\n",
       "  <tbody>\n",
       "    <tr>\n",
       "      <th>0</th>\n",
       "      <td>Server_1</td>\n",
       "      <td>10</td>\n",
       "      <td>1</td>\n",
       "      <td>13</td>\n",
       "      <td>3334</td>\n",
       "      <td>808</td>\n",
       "      <td>2</td>\n",
       "      <td>2020-03-14 06:40:59</td>\n",
       "    </tr>\n",
       "    <tr>\n",
       "      <th>1</th>\n",
       "      <td>Server_1</td>\n",
       "      <td>10</td>\n",
       "      <td>1</td>\n",
       "      <td>13</td>\n",
       "      <td>3334</td>\n",
       "      <td>808</td>\n",
       "      <td>2</td>\n",
       "      <td>2020-03-19 04:07:39</td>\n",
       "    </tr>\n",
       "    <tr>\n",
       "      <th>2</th>\n",
       "      <td>Server_1</td>\n",
       "      <td>10</td>\n",
       "      <td>1</td>\n",
       "      <td>13</td>\n",
       "      <td>3334</td>\n",
       "      <td>808</td>\n",
       "      <td>2</td>\n",
       "      <td>2020-03-26 00:32:58</td>\n",
       "    </tr>\n",
       "    <tr>\n",
       "      <th>3</th>\n",
       "      <td>Server_1</td>\n",
       "      <td>10</td>\n",
       "      <td>1</td>\n",
       "      <td>13</td>\n",
       "      <td>3334</td>\n",
       "      <td>808</td>\n",
       "      <td>2</td>\n",
       "      <td>2020-04-06 18:24:57</td>\n",
       "    </tr>\n",
       "    <tr>\n",
       "      <th>4</th>\n",
       "      <td>Server_1</td>\n",
       "      <td>10</td>\n",
       "      <td>1</td>\n",
       "      <td>13</td>\n",
       "      <td>3334</td>\n",
       "      <td>808</td>\n",
       "      <td>2</td>\n",
       "      <td>2020-04-07 17:54:17</td>\n",
       "    </tr>\n",
       "  </tbody>\n",
       "</table>\n",
       "</div>"
      ],
      "text/plain": [
       "        sid  memoryid  rankid  bankid   row  col  error_type  \\\n",
       "0  Server_1        10       1      13  3334  808           2   \n",
       "1  Server_1        10       1      13  3334  808           2   \n",
       "2  Server_1        10       1      13  3334  808           2   \n",
       "3  Server_1        10       1      13  3334  808           2   \n",
       "4  Server_1        10       1      13  3334  808           2   \n",
       "\n",
       "            error_time  \n",
       "0  2020-03-14 06:40:59  \n",
       "1  2020-03-19 04:07:39  \n",
       "2  2020-03-26 00:32:58  \n",
       "3  2020-04-06 18:24:57  \n",
       "4  2020-04-07 17:54:17  "
      ]
     },
     "execution_count": 11,
     "metadata": {},
     "output_type": "execute_result"
    }
   ],
   "source": [
    "mcelog.head(5)"
   ]
  },
  {
   "cell_type": "code",
   "execution_count": 8,
   "id": "4ba2d877-7ca5-41ff-94ad-a65daffc36bf",
   "metadata": {
    "tags": []
   },
   "outputs": [
    {
     "data": {
      "text/html": [
       "<div>\n",
       "<style scoped>\n",
       "    .dataframe tbody tr th:only-of-type {\n",
       "        vertical-align: middle;\n",
       "    }\n",
       "\n",
       "    .dataframe tbody tr th {\n",
       "        vertical-align: top;\n",
       "    }\n",
       "\n",
       "    .dataframe thead th {\n",
       "        text-align: right;\n",
       "    }\n",
       "</style>\n",
       "<table border=\"1\" class=\"dataframe\">\n",
       "  <thead>\n",
       "    <tr style=\"text-align: right;\">\n",
       "      <th></th>\n",
       "      <th>sid</th>\n",
       "      <th>failure_type</th>\n",
       "      <th>failed_time</th>\n",
       "    </tr>\n",
       "  </thead>\n",
       "  <tbody>\n",
       "    <tr>\n",
       "      <th>0</th>\n",
       "      <td>Server_10003</td>\n",
       "      <td>2</td>\n",
       "      <td>2020-04-17 11:11:07</td>\n",
       "    </tr>\n",
       "    <tr>\n",
       "      <th>1</th>\n",
       "      <td>Server_10034</td>\n",
       "      <td>3</td>\n",
       "      <td>2020-05-11 07:35:07</td>\n",
       "    </tr>\n",
       "    <tr>\n",
       "      <th>2</th>\n",
       "      <td>Server_10074</td>\n",
       "      <td>3</td>\n",
       "      <td>2020-05-11 07:37:47</td>\n",
       "    </tr>\n",
       "    <tr>\n",
       "      <th>3</th>\n",
       "      <td>Server_10108</td>\n",
       "      <td>2</td>\n",
       "      <td>2020-04-13 03:51:43</td>\n",
       "    </tr>\n",
       "    <tr>\n",
       "      <th>4</th>\n",
       "      <td>Server_10152</td>\n",
       "      <td>2</td>\n",
       "      <td>2020-03-14 10:23:07</td>\n",
       "    </tr>\n",
       "  </tbody>\n",
       "</table>\n",
       "</div>"
      ],
      "text/plain": [
       "            sid  failure_type          failed_time\n",
       "0  Server_10003             2  2020-04-17 11:11:07\n",
       "1  Server_10034             3  2020-05-11 07:35:07\n",
       "2  Server_10074             3  2020-05-11 07:37:47\n",
       "3  Server_10108             2  2020-04-13 03:51:43\n",
       "4  Server_10152             2  2020-03-14 10:23:07"
      ]
     },
     "execution_count": 8,
     "metadata": {},
     "output_type": "execute_result"
    }
   ],
   "source": [
    "failure.head(5)"
   ]
  },
  {
   "cell_type": "markdown",
   "id": "a43ad4c6-d1b6-4390-878a-677739b05834",
   "metadata": {
    "tags": []
   },
   "source": [
    "# process"
   ]
  },
  {
   "cell_type": "markdown",
   "id": "02ae8eac-f4d8-4cff-93a0-ba79df6581bc",
   "metadata": {
    "tags": []
   },
   "source": [
    "## split to deal, reduce memory"
   ]
  },
  {
   "cell_type": "code",
   "execution_count": 9,
   "id": "60525de0-9223-432c-9030-e6a719aae17e",
   "metadata": {
    "tags": []
   },
   "outputs": [
    {
     "name": "stdout",
     "output_type": "stream",
     "text": [
      "30502\n"
     ]
    }
   ],
   "source": [
    "sid_list = mcelog[\"sid\"].drop_duplicates().to_list()\n",
    "print(len(sid_list))\n",
    "chunk_size = len(sid_list) // 8 \n",
    "chunk_list = [sid_list[i * chunk_size : (i + 1) * chunk_size] for i in range(9)]\n",
    "\n",
    "chunk_one = chunk_list[0]\n",
    "\n",
    "mcelog_one = mcelog[mcelog[\"sid\"].isin(chunk_one)]"
   ]
  },
  {
   "cell_type": "code",
   "execution_count": 10,
   "id": "40ff0f83-cb0f-40c8-8e52-d10a01913aeb",
   "metadata": {
    "tags": []
   },
   "outputs": [
    {
     "data": {
      "text/html": [
       "<div>\n",
       "<style scoped>\n",
       "    .dataframe tbody tr th:only-of-type {\n",
       "        vertical-align: middle;\n",
       "    }\n",
       "\n",
       "    .dataframe tbody tr th {\n",
       "        vertical-align: top;\n",
       "    }\n",
       "\n",
       "    .dataframe thead th {\n",
       "        text-align: right;\n",
       "    }\n",
       "</style>\n",
       "<table border=\"1\" class=\"dataframe\">\n",
       "  <thead>\n",
       "    <tr style=\"text-align: right;\">\n",
       "      <th></th>\n",
       "      <th>sid</th>\n",
       "      <th>memoryid</th>\n",
       "      <th>rankid</th>\n",
       "      <th>bankid</th>\n",
       "      <th>row</th>\n",
       "      <th>col</th>\n",
       "      <th>error_type</th>\n",
       "      <th>error_time</th>\n",
       "    </tr>\n",
       "  </thead>\n",
       "  <tbody>\n",
       "    <tr>\n",
       "      <th>0</th>\n",
       "      <td>Server_1</td>\n",
       "      <td>10</td>\n",
       "      <td>1</td>\n",
       "      <td>13</td>\n",
       "      <td>3334</td>\n",
       "      <td>808</td>\n",
       "      <td>2</td>\n",
       "      <td>2020-03-14 06:40:59</td>\n",
       "    </tr>\n",
       "    <tr>\n",
       "      <th>1</th>\n",
       "      <td>Server_1</td>\n",
       "      <td>10</td>\n",
       "      <td>1</td>\n",
       "      <td>13</td>\n",
       "      <td>3334</td>\n",
       "      <td>808</td>\n",
       "      <td>2</td>\n",
       "      <td>2020-03-19 04:07:39</td>\n",
       "    </tr>\n",
       "    <tr>\n",
       "      <th>2</th>\n",
       "      <td>Server_1</td>\n",
       "      <td>10</td>\n",
       "      <td>1</td>\n",
       "      <td>13</td>\n",
       "      <td>3334</td>\n",
       "      <td>808</td>\n",
       "      <td>2</td>\n",
       "      <td>2020-03-26 00:32:58</td>\n",
       "    </tr>\n",
       "    <tr>\n",
       "      <th>3</th>\n",
       "      <td>Server_1</td>\n",
       "      <td>10</td>\n",
       "      <td>1</td>\n",
       "      <td>13</td>\n",
       "      <td>3334</td>\n",
       "      <td>808</td>\n",
       "      <td>2</td>\n",
       "      <td>2020-04-06 18:24:57</td>\n",
       "    </tr>\n",
       "    <tr>\n",
       "      <th>4</th>\n",
       "      <td>Server_1</td>\n",
       "      <td>10</td>\n",
       "      <td>1</td>\n",
       "      <td>13</td>\n",
       "      <td>3334</td>\n",
       "      <td>808</td>\n",
       "      <td>2</td>\n",
       "      <td>2020-04-07 17:54:17</td>\n",
       "    </tr>\n",
       "  </tbody>\n",
       "</table>\n",
       "</div>"
      ],
      "text/plain": [
       "        sid  memoryid  rankid  bankid   row  col  error_type  \\\n",
       "0  Server_1        10       1      13  3334  808           2   \n",
       "1  Server_1        10       1      13  3334  808           2   \n",
       "2  Server_1        10       1      13  3334  808           2   \n",
       "3  Server_1        10       1      13  3334  808           2   \n",
       "4  Server_1        10       1      13  3334  808           2   \n",
       "\n",
       "            error_time  \n",
       "0  2020-03-14 06:40:59  \n",
       "1  2020-03-19 04:07:39  \n",
       "2  2020-03-26 00:32:58  \n",
       "3  2020-04-06 18:24:57  \n",
       "4  2020-04-07 17:54:17  "
      ]
     },
     "execution_count": 10,
     "metadata": {},
     "output_type": "execute_result"
    }
   ],
   "source": [
    "mcelog_one.head()"
   ]
  },
  {
   "cell_type": "code",
   "execution_count": 11,
   "id": "fdc6fc89-06e6-438a-a07b-fa8cd4d6d2da",
   "metadata": {
    "tags": []
   },
   "outputs": [
    {
     "data": {
      "text/plain": [
       "2001085"
      ]
     },
     "execution_count": 11,
     "metadata": {},
     "output_type": "execute_result"
    }
   ],
   "source": [
    "len(mcelog_one)"
   ]
  },
  {
   "cell_type": "code",
   "execution_count": 18,
   "id": "0acb5840-9569-4ab1-b848-42b7bec65103",
   "metadata": {
    "tags": []
   },
   "outputs": [],
   "source": [
    "mcelog_one.to_csv(os.path.join(CONFIG.PATH_PROCESSED, \"mcelog_one.csv\"))"
   ]
  },
  {
   "cell_type": "markdown",
   "id": "320ef3c4-4625-4b0c-8fbe-ab15c9c29c76",
   "metadata": {},
   "source": [
    "# read one"
   ]
  },
  {
   "cell_type": "code",
   "execution_count": 12,
   "id": "a655683b-65f5-415e-9f62-18f4fe18177d",
   "metadata": {
    "tags": []
   },
   "outputs": [],
   "source": [
    "mcelog_one = cudf.read_csv(os.path.join(CONFIG.PATH_PROCESSED, \"mcelog_one.csv\"))"
   ]
  },
  {
   "cell_type": "code",
   "execution_count": 16,
   "id": "f0a62779-84c0-4614-8b20-d3136fcfc24d",
   "metadata": {
    "tags": []
   },
   "outputs": [],
   "source": [
    "inventory = cudf.read_csv(os.path.join(CONFIG.PATH_RAW, \"ali/inventory.csv\"))"
   ]
  },
  {
   "cell_type": "code",
   "execution_count": 25,
   "id": "70aabb8b-2056-4f03-b93d-898915b7080a",
   "metadata": {
    "tags": []
   },
   "outputs": [],
   "source": [
    "failure = cudf.read_csv(os.path.join(CONFIG.PATH_RAW, \"ali/trouble_tickets.csv\"))"
   ]
  },
  {
   "cell_type": "markdown",
   "id": "380e58c8-ac89-4fda-8a4e-af55c47a5db8",
   "metadata": {},
   "source": [
    "## merge"
   ]
  },
  {
   "cell_type": "code",
   "execution_count": 14,
   "id": "d6eaf01d-120d-424a-b700-cb40ad406a9f",
   "metadata": {
    "tags": []
   },
   "outputs": [],
   "source": [
    "mcelog_one = mcelog_one.sort_values([\"sid\", \"error_time\"])"
   ]
  },
  {
   "cell_type": "code",
   "execution_count": 22,
   "id": "0f95ac54-b9ab-4374-af22-c2db0c992e65",
   "metadata": {
    "tags": []
   },
   "outputs": [],
   "source": [
    "features = mcelog_one\n",
    "\n",
    "features = cudf.merge(features, inventory, on=[\"sid\"], how=\"left\")"
   ]
  },
  {
   "cell_type": "code",
   "execution_count": 34,
   "id": "be467f85-e29b-4890-b2f2-51b18f1aa46c",
   "metadata": {
    "tags": []
   },
   "outputs": [
    {
     "data": {
      "text/html": [
       "<div>\n",
       "<style scoped>\n",
       "    .dataframe tbody tr th:only-of-type {\n",
       "        vertical-align: middle;\n",
       "    }\n",
       "\n",
       "    .dataframe tbody tr th {\n",
       "        vertical-align: top;\n",
       "    }\n",
       "\n",
       "    .dataframe thead th {\n",
       "        text-align: right;\n",
       "    }\n",
       "</style>\n",
       "<table border=\"1\" class=\"dataframe\">\n",
       "  <thead>\n",
       "    <tr style=\"text-align: right;\">\n",
       "      <th></th>\n",
       "      <th>Unnamed: 0</th>\n",
       "      <th>sid</th>\n",
       "      <th>memoryid</th>\n",
       "      <th>rankid</th>\n",
       "      <th>bankid</th>\n",
       "      <th>row</th>\n",
       "      <th>col</th>\n",
       "      <th>error_type</th>\n",
       "      <th>error_time</th>\n",
       "      <th>server_manufacturer</th>\n",
       "      <th>DRAM_model</th>\n",
       "      <th>DIMM_number</th>\n",
       "    </tr>\n",
       "  </thead>\n",
       "  <tbody>\n",
       "    <tr>\n",
       "      <th>0</th>\n",
       "      <td>519626</td>\n",
       "      <td>Server_1003</td>\n",
       "      <td>22</td>\n",
       "      <td>1</td>\n",
       "      <td>14</td>\n",
       "      <td>91060</td>\n",
       "      <td>424</td>\n",
       "      <td>2</td>\n",
       "      <td>2019-11-15 01:04:16</td>\n",
       "      <td>M2</td>\n",
       "      <td>C1</td>\n",
       "      <td>12</td>\n",
       "    </tr>\n",
       "    <tr>\n",
       "      <th>1</th>\n",
       "      <td>519627</td>\n",
       "      <td>Server_1003</td>\n",
       "      <td>22</td>\n",
       "      <td>1</td>\n",
       "      <td>15</td>\n",
       "      <td>51314</td>\n",
       "      <td>464</td>\n",
       "      <td>2</td>\n",
       "      <td>2019-11-15 17:31:27</td>\n",
       "      <td>M2</td>\n",
       "      <td>C1</td>\n",
       "      <td>12</td>\n",
       "    </tr>\n",
       "    <tr>\n",
       "      <th>2</th>\n",
       "      <td>519628</td>\n",
       "      <td>Server_1003</td>\n",
       "      <td>22</td>\n",
       "      <td>1</td>\n",
       "      <td>14</td>\n",
       "      <td>91060</td>\n",
       "      <td>424</td>\n",
       "      <td>2</td>\n",
       "      <td>2019-11-16 00:50:31</td>\n",
       "      <td>M2</td>\n",
       "      <td>C1</td>\n",
       "      <td>12</td>\n",
       "    </tr>\n",
       "    <tr>\n",
       "      <th>3</th>\n",
       "      <td>519629</td>\n",
       "      <td>Server_1003</td>\n",
       "      <td>22</td>\n",
       "      <td>1</td>\n",
       "      <td>14</td>\n",
       "      <td>91060</td>\n",
       "      <td>304</td>\n",
       "      <td>2</td>\n",
       "      <td>2019-11-16 00:50:31</td>\n",
       "      <td>M2</td>\n",
       "      <td>C1</td>\n",
       "      <td>12</td>\n",
       "    </tr>\n",
       "    <tr>\n",
       "      <th>4</th>\n",
       "      <td>519630</td>\n",
       "      <td>Server_1003</td>\n",
       "      <td>22</td>\n",
       "      <td>1</td>\n",
       "      <td>14</td>\n",
       "      <td>91060</td>\n",
       "      <td>288</td>\n",
       "      <td>2</td>\n",
       "      <td>2019-11-16 00:50:31</td>\n",
       "      <td>M2</td>\n",
       "      <td>C1</td>\n",
       "      <td>12</td>\n",
       "    </tr>\n",
       "    <tr>\n",
       "      <th>...</th>\n",
       "      <td>...</td>\n",
       "      <td>...</td>\n",
       "      <td>...</td>\n",
       "      <td>...</td>\n",
       "      <td>...</td>\n",
       "      <td>...</td>\n",
       "      <td>...</td>\n",
       "      <td>...</td>\n",
       "      <td>...</td>\n",
       "      <td>...</td>\n",
       "      <td>...</td>\n",
       "      <td>...</td>\n",
       "    </tr>\n",
       "    <tr>\n",
       "      <th>2001080</th>\n",
       "      <td>519261</td>\n",
       "      <td>Server_998</td>\n",
       "      <td>0</td>\n",
       "      <td>1</td>\n",
       "      <td>9</td>\n",
       "      <td>61045</td>\n",
       "      <td>8</td>\n",
       "      <td>2</td>\n",
       "      <td>2020-02-08 15:30:21</td>\n",
       "      <td>M2</td>\n",
       "      <td>C1</td>\n",
       "      <td>12</td>\n",
       "    </tr>\n",
       "    <tr>\n",
       "      <th>2001081</th>\n",
       "      <td>519262</td>\n",
       "      <td>Server_999</td>\n",
       "      <td>20</td>\n",
       "      <td>1</td>\n",
       "      <td>4</td>\n",
       "      <td>65426</td>\n",
       "      <td>1008</td>\n",
       "      <td>1</td>\n",
       "      <td>2020-03-20 21:38:54</td>\n",
       "      <td>M2</td>\n",
       "      <td>C1</td>\n",
       "      <td>12</td>\n",
       "    </tr>\n",
       "    <tr>\n",
       "      <th>2001082</th>\n",
       "      <td>519263</td>\n",
       "      <td>Server_999</td>\n",
       "      <td>20</td>\n",
       "      <td>1</td>\n",
       "      <td>4</td>\n",
       "      <td>65426</td>\n",
       "      <td>1008</td>\n",
       "      <td>1</td>\n",
       "      <td>2020-04-10 13:51:22</td>\n",
       "      <td>M2</td>\n",
       "      <td>C1</td>\n",
       "      <td>12</td>\n",
       "    </tr>\n",
       "    <tr>\n",
       "      <th>2001083</th>\n",
       "      <td>519264</td>\n",
       "      <td>Server_999</td>\n",
       "      <td>20</td>\n",
       "      <td>1</td>\n",
       "      <td>4</td>\n",
       "      <td>65426</td>\n",
       "      <td>1008</td>\n",
       "      <td>1</td>\n",
       "      <td>2020-04-12 01:03:30</td>\n",
       "      <td>M2</td>\n",
       "      <td>C1</td>\n",
       "      <td>12</td>\n",
       "    </tr>\n",
       "    <tr>\n",
       "      <th>2001084</th>\n",
       "      <td>519265</td>\n",
       "      <td>Server_999</td>\n",
       "      <td>20</td>\n",
       "      <td>1</td>\n",
       "      <td>4</td>\n",
       "      <td>65426</td>\n",
       "      <td>1008</td>\n",
       "      <td>1</td>\n",
       "      <td>2020-04-12 09:49:02</td>\n",
       "      <td>M2</td>\n",
       "      <td>C1</td>\n",
       "      <td>12</td>\n",
       "    </tr>\n",
       "  </tbody>\n",
       "</table>\n",
       "<p>2001085 rows × 12 columns</p>\n",
       "</div>"
      ],
      "text/plain": [
       "         Unnamed: 0          sid  memoryid  rankid  bankid    row   col  \\\n",
       "0            519626  Server_1003        22       1      14  91060   424   \n",
       "1            519627  Server_1003        22       1      15  51314   464   \n",
       "2            519628  Server_1003        22       1      14  91060   424   \n",
       "3            519629  Server_1003        22       1      14  91060   304   \n",
       "4            519630  Server_1003        22       1      14  91060   288   \n",
       "...             ...          ...       ...     ...     ...    ...   ...   \n",
       "2001080      519261   Server_998         0       1       9  61045     8   \n",
       "2001081      519262   Server_999        20       1       4  65426  1008   \n",
       "2001082      519263   Server_999        20       1       4  65426  1008   \n",
       "2001083      519264   Server_999        20       1       4  65426  1008   \n",
       "2001084      519265   Server_999        20       1       4  65426  1008   \n",
       "\n",
       "         error_type           error_time server_manufacturer DRAM_model  \\\n",
       "0                 2  2019-11-15 01:04:16                  M2         C1   \n",
       "1                 2  2019-11-15 17:31:27                  M2         C1   \n",
       "2                 2  2019-11-16 00:50:31                  M2         C1   \n",
       "3                 2  2019-11-16 00:50:31                  M2         C1   \n",
       "4                 2  2019-11-16 00:50:31                  M2         C1   \n",
       "...             ...                  ...                 ...        ...   \n",
       "2001080           2  2020-02-08 15:30:21                  M2         C1   \n",
       "2001081           1  2020-03-20 21:38:54                  M2         C1   \n",
       "2001082           1  2020-04-10 13:51:22                  M2         C1   \n",
       "2001083           1  2020-04-12 01:03:30                  M2         C1   \n",
       "2001084           1  2020-04-12 09:49:02                  M2         C1   \n",
       "\n",
       "         DIMM_number  \n",
       "0                 12  \n",
       "1                 12  \n",
       "2                 12  \n",
       "3                 12  \n",
       "4                 12  \n",
       "...              ...  \n",
       "2001080           12  \n",
       "2001081           12  \n",
       "2001082           12  \n",
       "2001083           12  \n",
       "2001084           12  \n",
       "\n",
       "[2001085 rows x 12 columns]"
      ]
     },
     "execution_count": 34,
     "metadata": {},
     "output_type": "execute_result"
    }
   ],
   "source": [
    "features"
   ]
  },
  {
   "cell_type": "code",
   "execution_count": 26,
   "id": "9b07502e-81e7-45bd-bd8d-84b8b8646d12",
   "metadata": {
    "tags": []
   },
   "outputs": [],
   "source": [
    "failure_ue = failure[failure[\"failure_type\"]==1]"
   ]
  },
  {
   "cell_type": "code",
   "execution_count": 27,
   "id": "5a5254f1-ea8e-4e95-a365-7710313599d5",
   "metadata": {
    "tags": []
   },
   "outputs": [
    {
     "data": {
      "text/html": [
       "<div>\n",
       "<style scoped>\n",
       "    .dataframe tbody tr th:only-of-type {\n",
       "        vertical-align: middle;\n",
       "    }\n",
       "\n",
       "    .dataframe tbody tr th {\n",
       "        vertical-align: top;\n",
       "    }\n",
       "\n",
       "    .dataframe thead th {\n",
       "        text-align: right;\n",
       "    }\n",
       "</style>\n",
       "<table border=\"1\" class=\"dataframe\">\n",
       "  <thead>\n",
       "    <tr style=\"text-align: right;\">\n",
       "      <th></th>\n",
       "      <th>sid</th>\n",
       "      <th>failure_type</th>\n",
       "      <th>failed_time</th>\n",
       "    </tr>\n",
       "  </thead>\n",
       "  <tbody>\n",
       "    <tr>\n",
       "      <th>8</th>\n",
       "      <td>Server_10250</td>\n",
       "      <td>1</td>\n",
       "      <td>0001-01-14 18:16:39</td>\n",
       "    </tr>\n",
       "    <tr>\n",
       "      <th>9</th>\n",
       "      <td>Server_10286</td>\n",
       "      <td>1</td>\n",
       "      <td>0001-01-10 05:13:34</td>\n",
       "    </tr>\n",
       "    <tr>\n",
       "      <th>17</th>\n",
       "      <td>Server_10508</td>\n",
       "      <td>1</td>\n",
       "      <td>0001-06-24 05:03:00</td>\n",
       "    </tr>\n",
       "    <tr>\n",
       "      <th>20</th>\n",
       "      <td>Server_10519</td>\n",
       "      <td>1</td>\n",
       "      <td>0001-06-05 23:35:14</td>\n",
       "    </tr>\n",
       "    <tr>\n",
       "      <th>21</th>\n",
       "      <td>Server_10521</td>\n",
       "      <td>1</td>\n",
       "      <td>0001-08-30 22:47:44</td>\n",
       "    </tr>\n",
       "    <tr>\n",
       "      <th>...</th>\n",
       "      <td>...</td>\n",
       "      <td>...</td>\n",
       "      <td>...</td>\n",
       "    </tr>\n",
       "    <tr>\n",
       "      <th>2994</th>\n",
       "      <td>Server_957</td>\n",
       "      <td>1</td>\n",
       "      <td>0001-05-13 07:38:59</td>\n",
       "    </tr>\n",
       "    <tr>\n",
       "      <th>2996</th>\n",
       "      <td>Server_9597</td>\n",
       "      <td>1</td>\n",
       "      <td>0001-07-08 10:13:56</td>\n",
       "    </tr>\n",
       "    <tr>\n",
       "      <th>2997</th>\n",
       "      <td>Server_9620</td>\n",
       "      <td>1</td>\n",
       "      <td>0001-04-13 09:37:41</td>\n",
       "    </tr>\n",
       "    <tr>\n",
       "      <th>3007</th>\n",
       "      <td>Server_9825</td>\n",
       "      <td>1</td>\n",
       "      <td>0001-02-13 16:58:03</td>\n",
       "    </tr>\n",
       "    <tr>\n",
       "      <th>3009</th>\n",
       "      <td>Server_9829</td>\n",
       "      <td>1</td>\n",
       "      <td>0001-02-05 22:10:30</td>\n",
       "    </tr>\n",
       "  </tbody>\n",
       "</table>\n",
       "<p>567 rows × 3 columns</p>\n",
       "</div>"
      ],
      "text/plain": [
       "               sid  failure_type          failed_time\n",
       "8     Server_10250             1  0001-01-14 18:16:39\n",
       "9     Server_10286             1  0001-01-10 05:13:34\n",
       "17    Server_10508             1  0001-06-24 05:03:00\n",
       "20    Server_10519             1  0001-06-05 23:35:14\n",
       "21    Server_10521             1  0001-08-30 22:47:44\n",
       "...            ...           ...                  ...\n",
       "2994    Server_957             1  0001-05-13 07:38:59\n",
       "2996   Server_9597             1  0001-07-08 10:13:56\n",
       "2997   Server_9620             1  0001-04-13 09:37:41\n",
       "3007   Server_9825             1  0001-02-13 16:58:03\n",
       "3009   Server_9829             1  0001-02-05 22:10:30\n",
       "\n",
       "[567 rows x 3 columns]"
      ]
     },
     "execution_count": 27,
     "metadata": {},
     "output_type": "execute_result"
    }
   ],
   "source": [
    "failure_ue"
   ]
  },
  {
   "cell_type": "code",
   "execution_count": 28,
   "id": "561aaa5d-0e2a-4859-b3a7-ae87fe076924",
   "metadata": {
    "tags": []
   },
   "outputs": [],
   "source": [
    "features_tag = cudf.merge(features, failure_ue, on=[\"sid\"], how=\"left\")\n",
    "features_tag[\"failed_time\"].fillna(\"2023-01-01 00:00:00\", inplace=True)"
   ]
  },
  {
   "cell_type": "code",
   "execution_count": 30,
   "id": "63514b8e-0e02-4ed9-a498-d93479efe3a2",
   "metadata": {
    "tags": []
   },
   "outputs": [
    {
     "data": {
      "text/html": [
       "<div>\n",
       "<style scoped>\n",
       "    .dataframe tbody tr th:only-of-type {\n",
       "        vertical-align: middle;\n",
       "    }\n",
       "\n",
       "    .dataframe tbody tr th {\n",
       "        vertical-align: top;\n",
       "    }\n",
       "\n",
       "    .dataframe thead th {\n",
       "        text-align: right;\n",
       "    }\n",
       "</style>\n",
       "<table border=\"1\" class=\"dataframe\">\n",
       "  <thead>\n",
       "    <tr style=\"text-align: right;\">\n",
       "      <th></th>\n",
       "      <th>Unnamed: 0</th>\n",
       "      <th>sid</th>\n",
       "      <th>memoryid</th>\n",
       "      <th>rankid</th>\n",
       "      <th>bankid</th>\n",
       "      <th>row</th>\n",
       "      <th>col</th>\n",
       "      <th>error_type</th>\n",
       "      <th>error_time</th>\n",
       "      <th>server_manufacturer</th>\n",
       "      <th>DRAM_model</th>\n",
       "      <th>DIMM_number</th>\n",
       "      <th>failure_type</th>\n",
       "      <th>failed_time</th>\n",
       "    </tr>\n",
       "  </thead>\n",
       "  <tbody>\n",
       "    <tr>\n",
       "      <th>0</th>\n",
       "      <td>530325</td>\n",
       "      <td>Server_1036</td>\n",
       "      <td>4</td>\n",
       "      <td>1</td>\n",
       "      <td>12</td>\n",
       "      <td>37362</td>\n",
       "      <td>984</td>\n",
       "      <td>1</td>\n",
       "      <td>2020-02-27 13:21:47</td>\n",
       "      <td>M2</td>\n",
       "      <td>A1</td>\n",
       "      <td>12</td>\n",
       "      <td>&lt;NA&gt;</td>\n",
       "      <td>2023-01-01 00:00:00</td>\n",
       "    </tr>\n",
       "    <tr>\n",
       "      <th>1</th>\n",
       "      <td>530326</td>\n",
       "      <td>Server_1036</td>\n",
       "      <td>4</td>\n",
       "      <td>1</td>\n",
       "      <td>12</td>\n",
       "      <td>37362</td>\n",
       "      <td>984</td>\n",
       "      <td>1</td>\n",
       "      <td>2020-02-27 13:24:01</td>\n",
       "      <td>M2</td>\n",
       "      <td>A1</td>\n",
       "      <td>12</td>\n",
       "      <td>&lt;NA&gt;</td>\n",
       "      <td>2023-01-01 00:00:00</td>\n",
       "    </tr>\n",
       "    <tr>\n",
       "      <th>2</th>\n",
       "      <td>530327</td>\n",
       "      <td>Server_1036</td>\n",
       "      <td>4</td>\n",
       "      <td>1</td>\n",
       "      <td>12</td>\n",
       "      <td>37362</td>\n",
       "      <td>984</td>\n",
       "      <td>1</td>\n",
       "      <td>2020-02-27 13:26:47</td>\n",
       "      <td>M2</td>\n",
       "      <td>A1</td>\n",
       "      <td>12</td>\n",
       "      <td>&lt;NA&gt;</td>\n",
       "      <td>2023-01-01 00:00:00</td>\n",
       "    </tr>\n",
       "    <tr>\n",
       "      <th>3</th>\n",
       "      <td>530328</td>\n",
       "      <td>Server_1036</td>\n",
       "      <td>4</td>\n",
       "      <td>1</td>\n",
       "      <td>12</td>\n",
       "      <td>37362</td>\n",
       "      <td>984</td>\n",
       "      <td>1</td>\n",
       "      <td>2020-02-27 13:31:47</td>\n",
       "      <td>M2</td>\n",
       "      <td>A1</td>\n",
       "      <td>12</td>\n",
       "      <td>&lt;NA&gt;</td>\n",
       "      <td>2023-01-01 00:00:00</td>\n",
       "    </tr>\n",
       "    <tr>\n",
       "      <th>4</th>\n",
       "      <td>530329</td>\n",
       "      <td>Server_1036</td>\n",
       "      <td>4</td>\n",
       "      <td>1</td>\n",
       "      <td>12</td>\n",
       "      <td>37362</td>\n",
       "      <td>984</td>\n",
       "      <td>1</td>\n",
       "      <td>2020-02-27 13:36:47</td>\n",
       "      <td>M2</td>\n",
       "      <td>A1</td>\n",
       "      <td>12</td>\n",
       "      <td>&lt;NA&gt;</td>\n",
       "      <td>2023-01-01 00:00:00</td>\n",
       "    </tr>\n",
       "  </tbody>\n",
       "</table>\n",
       "</div>"
      ],
      "text/plain": [
       "   Unnamed: 0          sid  memoryid  rankid  bankid    row  col  error_type  \\\n",
       "0      530325  Server_1036         4       1      12  37362  984           1   \n",
       "1      530326  Server_1036         4       1      12  37362  984           1   \n",
       "2      530327  Server_1036         4       1      12  37362  984           1   \n",
       "3      530328  Server_1036         4       1      12  37362  984           1   \n",
       "4      530329  Server_1036         4       1      12  37362  984           1   \n",
       "\n",
       "            error_time server_manufacturer DRAM_model  DIMM_number  \\\n",
       "0  2020-02-27 13:21:47                  M2         A1           12   \n",
       "1  2020-02-27 13:24:01                  M2         A1           12   \n",
       "2  2020-02-27 13:26:47                  M2         A1           12   \n",
       "3  2020-02-27 13:31:47                  M2         A1           12   \n",
       "4  2020-02-27 13:36:47                  M2         A1           12   \n",
       "\n",
       "  failure_type          failed_time  \n",
       "0         <NA>  2023-01-01 00:00:00  \n",
       "1         <NA>  2023-01-01 00:00:00  \n",
       "2         <NA>  2023-01-01 00:00:00  \n",
       "3         <NA>  2023-01-01 00:00:00  \n",
       "4         <NA>  2023-01-01 00:00:00  "
      ]
     },
     "execution_count": 30,
     "metadata": {},
     "output_type": "execute_result"
    }
   ],
   "source": [
    "features_tag.head(5)"
   ]
  },
  {
   "cell_type": "code",
   "execution_count": 32,
   "id": "12523412-bdf2-46f3-9564-16fe85ebf44e",
   "metadata": {
    "tags": []
   },
   "outputs": [],
   "source": [
    "features_tag[\"failure_gap\"] = (cudf.to_datetime(features_tag[\"failed_time\"]) - cudf.to_datetime(features_tag[\"error_time\"])).dt.days"
   ]
  },
  {
   "cell_type": "code",
   "execution_count": 63,
   "id": "ac9405c0-6cd8-4595-9357-6c0f6d690784",
   "metadata": {
    "tags": []
   },
   "outputs": [
    {
     "data": {
      "text/html": [
       "<div>\n",
       "<style scoped>\n",
       "    .dataframe tbody tr th:only-of-type {\n",
       "        vertical-align: middle;\n",
       "    }\n",
       "\n",
       "    .dataframe tbody tr th {\n",
       "        vertical-align: top;\n",
       "    }\n",
       "\n",
       "    .dataframe thead th {\n",
       "        text-align: right;\n",
       "    }\n",
       "</style>\n",
       "<table border=\"1\" class=\"dataframe\">\n",
       "  <thead>\n",
       "    <tr style=\"text-align: right;\">\n",
       "      <th></th>\n",
       "      <th>Unnamed: 0</th>\n",
       "      <th>sid</th>\n",
       "      <th>memoryid</th>\n",
       "      <th>rankid</th>\n",
       "      <th>bankid</th>\n",
       "      <th>row</th>\n",
       "      <th>col</th>\n",
       "      <th>error_type</th>\n",
       "      <th>error_time</th>\n",
       "      <th>server_manufacturer</th>\n",
       "      <th>DRAM_model</th>\n",
       "      <th>DIMM_number</th>\n",
       "      <th>failure_type</th>\n",
       "      <th>failed_time</th>\n",
       "      <th>failure_gap</th>\n",
       "    </tr>\n",
       "  </thead>\n",
       "  <tbody>\n",
       "    <tr>\n",
       "      <th>0</th>\n",
       "      <td>530325</td>\n",
       "      <td>Server_1036</td>\n",
       "      <td>4</td>\n",
       "      <td>1</td>\n",
       "      <td>12</td>\n",
       "      <td>37362</td>\n",
       "      <td>984</td>\n",
       "      <td>1</td>\n",
       "      <td>2020-02-27 13:21:47</td>\n",
       "      <td>M2</td>\n",
       "      <td>A1</td>\n",
       "      <td>12</td>\n",
       "      <td>&lt;NA&gt;</td>\n",
       "      <td>2023-01-01 00:00:00</td>\n",
       "      <td>1038</td>\n",
       "    </tr>\n",
       "    <tr>\n",
       "      <th>1</th>\n",
       "      <td>530326</td>\n",
       "      <td>Server_1036</td>\n",
       "      <td>4</td>\n",
       "      <td>1</td>\n",
       "      <td>12</td>\n",
       "      <td>37362</td>\n",
       "      <td>984</td>\n",
       "      <td>1</td>\n",
       "      <td>2020-02-27 13:24:01</td>\n",
       "      <td>M2</td>\n",
       "      <td>A1</td>\n",
       "      <td>12</td>\n",
       "      <td>&lt;NA&gt;</td>\n",
       "      <td>2023-01-01 00:00:00</td>\n",
       "      <td>1038</td>\n",
       "    </tr>\n",
       "    <tr>\n",
       "      <th>2</th>\n",
       "      <td>530327</td>\n",
       "      <td>Server_1036</td>\n",
       "      <td>4</td>\n",
       "      <td>1</td>\n",
       "      <td>12</td>\n",
       "      <td>37362</td>\n",
       "      <td>984</td>\n",
       "      <td>1</td>\n",
       "      <td>2020-02-27 13:26:47</td>\n",
       "      <td>M2</td>\n",
       "      <td>A1</td>\n",
       "      <td>12</td>\n",
       "      <td>&lt;NA&gt;</td>\n",
       "      <td>2023-01-01 00:00:00</td>\n",
       "      <td>1038</td>\n",
       "    </tr>\n",
       "    <tr>\n",
       "      <th>3</th>\n",
       "      <td>530328</td>\n",
       "      <td>Server_1036</td>\n",
       "      <td>4</td>\n",
       "      <td>1</td>\n",
       "      <td>12</td>\n",
       "      <td>37362</td>\n",
       "      <td>984</td>\n",
       "      <td>1</td>\n",
       "      <td>2020-02-27 13:31:47</td>\n",
       "      <td>M2</td>\n",
       "      <td>A1</td>\n",
       "      <td>12</td>\n",
       "      <td>&lt;NA&gt;</td>\n",
       "      <td>2023-01-01 00:00:00</td>\n",
       "      <td>1038</td>\n",
       "    </tr>\n",
       "    <tr>\n",
       "      <th>4</th>\n",
       "      <td>530329</td>\n",
       "      <td>Server_1036</td>\n",
       "      <td>4</td>\n",
       "      <td>1</td>\n",
       "      <td>12</td>\n",
       "      <td>37362</td>\n",
       "      <td>984</td>\n",
       "      <td>1</td>\n",
       "      <td>2020-02-27 13:36:47</td>\n",
       "      <td>M2</td>\n",
       "      <td>A1</td>\n",
       "      <td>12</td>\n",
       "      <td>&lt;NA&gt;</td>\n",
       "      <td>2023-01-01 00:00:00</td>\n",
       "      <td>1038</td>\n",
       "    </tr>\n",
       "  </tbody>\n",
       "</table>\n",
       "</div>"
      ],
      "text/plain": [
       "   Unnamed: 0          sid  memoryid  rankid  bankid    row  col  error_type  \\\n",
       "0      530325  Server_1036         4       1      12  37362  984           1   \n",
       "1      530326  Server_1036         4       1      12  37362  984           1   \n",
       "2      530327  Server_1036         4       1      12  37362  984           1   \n",
       "3      530328  Server_1036         4       1      12  37362  984           1   \n",
       "4      530329  Server_1036         4       1      12  37362  984           1   \n",
       "\n",
       "            error_time server_manufacturer DRAM_model  DIMM_number  \\\n",
       "0  2020-02-27 13:21:47                  M2         A1           12   \n",
       "1  2020-02-27 13:24:01                  M2         A1           12   \n",
       "2  2020-02-27 13:26:47                  M2         A1           12   \n",
       "3  2020-02-27 13:31:47                  M2         A1           12   \n",
       "4  2020-02-27 13:36:47                  M2         A1           12   \n",
       "\n",
       "  failure_type          failed_time  failure_gap  \n",
       "0         <NA>  2023-01-01 00:00:00         1038  \n",
       "1         <NA>  2023-01-01 00:00:00         1038  \n",
       "2         <NA>  2023-01-01 00:00:00         1038  \n",
       "3         <NA>  2023-01-01 00:00:00         1038  \n",
       "4         <NA>  2023-01-01 00:00:00         1038  "
      ]
     },
     "execution_count": 63,
     "metadata": {},
     "output_type": "execute_result"
    }
   ],
   "source": [
    "features_tag.head()"
   ]
  },
  {
   "cell_type": "code",
   "execution_count": 37,
   "id": "165bf2ec-0309-4b3f-affa-9c087eea3948",
   "metadata": {
    "tags": []
   },
   "outputs": [],
   "source": [
    "observation_window = 5 # days, 120h\n",
    "prediction_window = 30 # days\n",
    "\n",
    "row_threshold = 5\n",
    "row_oberservation_window = 168 \n",
    "\n",
    "col_threshold = 5\n",
    "col_oberservation_window = 168 "
   ]
  },
  {
   "cell_type": "code",
   "execution_count": 156,
   "id": "17f35373-60b6-4628-bddf-1670e372f1f0",
   "metadata": {
    "tags": []
   },
   "outputs": [
    {
     "name": "stderr",
     "output_type": "stream",
     "text": [
      " 24%|████████████████████▍                                                                | 918/3812 [17:01<53:38,  1.11s/it]\n"
     ]
    },
    {
     "ename": "KeyboardInterrupt",
     "evalue": "",
     "output_type": "error",
     "traceback": [
      "\u001b[0;31m---------------------------------------------------------------------------\u001b[0m",
      "\u001b[0;31mKeyboardInterrupt\u001b[0m                         Traceback (most recent call last)",
      "Cell \u001b[0;32mIn[156], line 19\u001b[0m\n\u001b[1;32m     17\u001b[0m column_list \u001b[38;5;241m=\u001b[39m features_tag_df[features_tag_df[\u001b[38;5;124m\"\u001b[39m\u001b[38;5;124msid\u001b[39m\u001b[38;5;124m\"\u001b[39m]\u001b[38;5;241m==\u001b[39mhost][column]\u001b[38;5;241m.\u001b[39mto_list()\n\u001b[1;32m     18\u001b[0m new_column_list \u001b[38;5;241m=\u001b[39m [\u001b[38;5;241m0\u001b[39m] \u001b[38;5;241m*\u001b[39m \u001b[38;5;28mlen\u001b[39m(column_list)\n\u001b[0;32m---> 19\u001b[0m \u001b[43mupdate_new_column\u001b[49m\u001b[43m(\u001b[49m\u001b[43mcolumn_list\u001b[49m\u001b[43m,\u001b[49m\u001b[43m \u001b[49m\u001b[43mnew_column_list\u001b[49m\u001b[43m)\u001b[49m\n",
      "Cell \u001b[0;32mIn[156], line 13\u001b[0m, in \u001b[0;36mupdate_new_column\u001b[0;34m(column_list, new_column_list)\u001b[0m\n\u001b[1;32m     11\u001b[0m most_common_value(column_list)\n\u001b[1;32m     12\u001b[0m \u001b[38;5;28;01mfor\u001b[39;00m i \u001b[38;5;129;01min\u001b[39;00m \u001b[38;5;28mrange\u001b[39m(\u001b[38;5;241m1\u001b[39m, \u001b[38;5;28mlen\u001b[39m(column_list)):\n\u001b[0;32m---> 13\u001b[0m     new_column_list[i] \u001b[38;5;241m=\u001b[39m \u001b[43mmost_common_value\u001b[49m\u001b[43m(\u001b[49m\u001b[43mcolumn_list\u001b[49m\u001b[43m[\u001b[49m\u001b[43m:\u001b[49m\u001b[43mi\u001b[49m\u001b[38;5;241;43m+\u001b[39;49m\u001b[38;5;241;43m1\u001b[39;49m\u001b[43m]\u001b[49m\u001b[43m)\u001b[49m\n",
      "Cell \u001b[0;32mIn[156], line 6\u001b[0m, in \u001b[0;36mmost_common_value\u001b[0;34m(arr)\u001b[0m\n\u001b[1;32m      5\u001b[0m \u001b[38;5;28;01mdef\u001b[39;00m \u001b[38;5;21mmost_common_value\u001b[39m(arr):\n\u001b[0;32m----> 6\u001b[0m     counter \u001b[38;5;241m=\u001b[39m \u001b[43mCounter\u001b[49m\u001b[43m(\u001b[49m\u001b[43marr\u001b[49m\u001b[43m)\u001b[49m\n\u001b[1;32m      7\u001b[0m     count_above_threshold \u001b[38;5;241m=\u001b[39m \u001b[38;5;28msum\u001b[39m(\u001b[38;5;241m1\u001b[39m \u001b[38;5;28;01mfor\u001b[39;00m value_count \u001b[38;5;129;01min\u001b[39;00m counter\u001b[38;5;241m.\u001b[39mvalues() \u001b[38;5;28;01mif\u001b[39;00m value_count \u001b[38;5;241m>\u001b[39m threshold)\n",
      "File \u001b[0;32m/opt/conda/lib/python3.10/collections/__init__.py:577\u001b[0m, in \u001b[0;36mCounter.__init__\u001b[0;34m(self, iterable, **kwds)\u001b[0m\n\u001b[1;32m    566\u001b[0m \u001b[38;5;250m\u001b[39m\u001b[38;5;124;03m'''Create a new, empty Counter object.  And if given, count elements\u001b[39;00m\n\u001b[1;32m    567\u001b[0m \u001b[38;5;124;03mfrom an input iterable.  Or, initialize the count from another mapping\u001b[39;00m\n\u001b[1;32m    568\u001b[0m \u001b[38;5;124;03mof elements to their counts.\u001b[39;00m\n\u001b[0;32m   (...)\u001b[0m\n\u001b[1;32m    574\u001b[0m \n\u001b[1;32m    575\u001b[0m \u001b[38;5;124;03m'''\u001b[39;00m\n\u001b[1;32m    576\u001b[0m \u001b[38;5;28msuper\u001b[39m()\u001b[38;5;241m.\u001b[39m\u001b[38;5;21m__init__\u001b[39m()\n\u001b[0;32m--> 577\u001b[0m \u001b[38;5;28;43mself\u001b[39;49m\u001b[38;5;241;43m.\u001b[39;49m\u001b[43mupdate\u001b[49m\u001b[43m(\u001b[49m\u001b[43miterable\u001b[49m\u001b[43m,\u001b[49m\u001b[43m \u001b[49m\u001b[38;5;241;43m*\u001b[39;49m\u001b[38;5;241;43m*\u001b[39;49m\u001b[43mkwds\u001b[49m\u001b[43m)\u001b[49m\n",
      "File \u001b[0;32m/opt/conda/lib/python3.10/collections/__init__.py:670\u001b[0m, in \u001b[0;36mCounter.update\u001b[0;34m(self, iterable, **kwds)\u001b[0m\n\u001b[1;32m    668\u001b[0m             \u001b[38;5;28msuper\u001b[39m()\u001b[38;5;241m.\u001b[39mupdate(iterable)\n\u001b[1;32m    669\u001b[0m     \u001b[38;5;28;01melse\u001b[39;00m:\n\u001b[0;32m--> 670\u001b[0m         \u001b[43m_count_elements\u001b[49m\u001b[43m(\u001b[49m\u001b[38;5;28;43mself\u001b[39;49m\u001b[43m,\u001b[49m\u001b[43m \u001b[49m\u001b[43miterable\u001b[49m\u001b[43m)\u001b[49m\n\u001b[1;32m    671\u001b[0m \u001b[38;5;28;01mif\u001b[39;00m kwds:\n\u001b[1;32m    672\u001b[0m     \u001b[38;5;28mself\u001b[39m\u001b[38;5;241m.\u001b[39mupdate(kwds)\n",
      "\u001b[0;31mKeyboardInterrupt\u001b[0m: "
     ]
    }
   ],
   "source": [
    "\n",
    "features_tag_df = features_tag.to_pandas()\n",
    "\n",
    "column = \"row\"\n",
    "\n",
    "def most_common_value(arr):\n",
    "    counter = Counter(arr)\n",
    "    count_above_threshold = sum(1 for value_count in counter.values() if value_count > threshold)\n",
    "\n",
    "\n",
    "def update_new_column(column_list, new_column_list):\n",
    "    most_common_value(column_list)\n",
    "    for i in range(1, len(column_list)):\n",
    "        new_column_list[i] = most_common_value(column_list[:i+1])\n",
    "    \n",
    "\n",
    "for host in tqdm(hosts):\n",
    "    column_list = features_tag_df[features_tag_df[\"sid\"]==host][column].to_list()\n",
    "    new_column_list = [0] * len(column_list)\n",
    "    update_new_column(column_list, new_column_list)\n",
    "\n"
   ]
  },
  {
   "cell_type": "code",
   "execution_count": 72,
   "id": "6ed10e6a-a770-4a26-b060-da1a5f9da430",
   "metadata": {
    "tags": []
   },
   "outputs": [
    {
     "name": "stdout",
     "output_type": "stream",
     "text": [
      "    A    B\n",
      "0   1  0.0\n",
      "1   2  0.0\n",
      "2   1  0.0\n",
      "3   3  0.0\n",
      "4   2  0.0\n",
      "5   1  1.0\n",
      "6   1  1.0\n",
      "7   3  1.0\n",
      "8   2  2.0\n",
      "9   3  3.0\n",
      "10  3  3.0\n",
      "11  3  3.0\n",
      "12  3  3.0\n",
      "13  3  3.0\n"
     ]
    }
   ],
   "source": [
    "import pandas as pd\n",
    "\n",
    "# 创建示例 DataFrame\n",
    "data = {'A': [1, 2, 1, 3, 2, 1, 1, 3, 2, 3, 3, 3, 3, 3]}\n",
    "df = pd.DataFrame(data)\n",
    "\n",
    "# 自定义函数，用于计算出现次数最多的值\n",
    "def most_common_value(arr):\n",
    "    counts = arr.value_counts()\n",
    "    if counts.empty:\n",
    "        return None\n",
    "    # return counts.idxmax()\n",
    "    return (counts>2).sum()\n",
    "\n",
    "# 使用 expanding() 和 apply() 计算每行之前的数据中出现次数最多的值\n",
    "df['B'] = df['A'].expanding().apply(most_common_value)\n",
    "\n",
    "print(df)\n"
   ]
  },
  {
   "cell_type": "code",
   "execution_count": 159,
   "id": "0db91fe0-acd9-4fbf-891b-1ec367b2e1fe",
   "metadata": {
    "tags": []
   },
   "outputs": [
    {
     "name": "stdout",
     "output_type": "stream",
     "text": [
      "[0, 0, 0, 0, 0, 0, 0, 0, 1, 2, 3, 3]\n"
     ]
    }
   ],
   "source": [
    "\n",
    "column_list = [1,2,3,3,2,1,4,4,3,4,2,2]\n",
    "\n",
    "a = [0]*len(column_list)\n",
    "for i in range(0, len(column_list)):\n",
    "    counter = Counter(column_list[0:i+1])\n",
    "    count_above_threshold = sum(1 for value_count in counter.values() if value_count >= 3)\n",
    "    a[i] = count_above_threshold\n",
    "    \n",
    "print(a)"
   ]
  },
  {
   "cell_type": "code",
   "execution_count": 161,
   "id": "9762e211-d722-49c3-a449-f1bc84f6cf67",
   "metadata": {
    "tags": []
   },
   "outputs": [],
   "source": [
    "mcelog_1 = pd.read_csv(os.path.join(CONFIG.PATH_PROCESSED, \"mcelog_1.csv\"))\n"
   ]
  },
  {
   "cell_type": "code",
   "execution_count": 163,
   "id": "ff361174-7e8a-4e05-8da3-467843d76e89",
   "metadata": {
    "tags": []
   },
   "outputs": [
    {
     "data": {
      "text/plain": [
       "Server_1841    152576\n",
       "Server_1040     59183\n",
       "Server_1665     42184\n",
       "Server_1224     26268\n",
       "Server_1079     21492\n",
       "                ...  \n",
       "Server_1078         1\n",
       "Server_1539         1\n",
       "Server_1799         1\n",
       "Server_1800         1\n",
       "Server_1537         1\n",
       "Name: sid, Length: 953, dtype: int64"
      ]
     },
     "execution_count": 163,
     "metadata": {},
     "output_type": "execute_result"
    }
   ],
   "source": [
    "mcelog_1[\"sid\"].value_counts()"
   ]
  },
  {
   "cell_type": "code",
   "execution_count": 165,
   "id": "d1c58d02-fb66-4278-98b5-acb979652ba3",
   "metadata": {
    "tags": []
   },
   "outputs": [
    {
     "data": {
      "text/plain": [
       "16"
      ]
     },
     "execution_count": 165,
     "metadata": {},
     "output_type": "execute_result"
    }
   ],
   "source": [
    "import multiprocessing\n",
    "multiprocessing.cpu_count()"
   ]
  },
  {
   "cell_type": "code",
   "execution_count": 166,
   "id": "32504a2f-6f0c-40a6-ab8b-aea04ef24e79",
   "metadata": {
    "tags": []
   },
   "outputs": [
    {
     "name": "stdout",
     "output_type": "stream",
     "text": [
      "   A  B\n",
      "0  1  3\n",
      "1  2  4\n",
      "2  1  3\n",
      "3  2  4\n",
      "4  1  3\n",
      "5  2  4\n"
     ]
    }
   ],
   "source": [
    "\n",
    "import pandas as pd\n",
    "\n",
    "df1 = pd.DataFrame({\"A\": [1, 2], \"B\": [3, 4]})\n",
    "df2 = pd.DataFrame({\"A\": [1, 2], \"B\": [3, 4]})\n",
    "df3 = pd.DataFrame({\"A\": [1, 2], \"B\": [3, 4]})\n",
    "\n",
    "# 假设你有一个包含DataFrame的列表\n",
    "dataframe_list = [df1, df2, df3]  # 将你的DataFrame放入列表中\n",
    "\n",
    "# 使用pd.concat()按列合并所有DataFrame\n",
    "merged_dataframe = pd.concat(dataframe_list, axis=0, ignore_index=True)\n",
    "\n",
    "# 打印合并后的DataFrame\n",
    "print(merged_dataframe)\n"
   ]
  },
  {
   "cell_type": "code",
   "execution_count": 13,
   "id": "3fc4ca2f-b56c-40d6-a58f-74fa4d13f928",
   "metadata": {
    "tags": []
   },
   "outputs": [
    {
     "name": "stdout",
     "output_type": "stream",
     "text": [
      "0.09595084190368652\n"
     ]
    }
   ],
   "source": [
    "import cupy as cp\n",
    "import numpy as np\n",
    "import time\n",
    "\n",
    "t1 = time.time()\n",
    "# 创建n个随机数据列表\n",
    "n = 100\n",
    "data_lists = [np.random.randint(0, 10, size=1500) for _ in range(n)]\n",
    "\n",
    "# 将数据列表移动到GPU上\n",
    "data_lists_gpu = [cp.asarray(data) for data in data_lists]\n",
    "\n",
    "# 初始化字典来存储每个列表中每个值的频率\n",
    "value_frequencies = [{} for _ in range(n)]\n",
    "\n",
    "# 计算每个列表中每个值的频率\n",
    "for i in range(len(data_lists_gpu)):\n",
    "    unique_values_gpu = cp.unique(data_lists_gpu[0:i+1])\n",
    "#     unique_values_cpu = cp.asnumpy(unique_values_gpu)\n",
    "#     frequencies_cpu = cp.asnumpy(frequencies_gpu)\n",
    "    \n",
    "#     for value, freq in zip(unique_values_cpu, frequencies_cpu):\n",
    "#         value_frequencies[i][value] = freq\n",
    "\n",
    "# # 打印每个列表中每个值的频率\n",
    "# for i, freq_dict in enumerate(value_frequencies):\n",
    "#     print(f\"List {i} Frequencies:\")\n",
    "#     for value, freq in freq_dict.items():\n",
    "#         print(f\"Value: {value}, Frequency: {freq}\")\n",
    "\n",
    "t2 = time.time()\n",
    "\n",
    "print(t2-t1)"
   ]
  },
  {
   "cell_type": "code",
   "execution_count": 14,
   "id": "b2ae3e0b-c598-49e4-a004-8836be706c86",
   "metadata": {
    "tags": []
   },
   "outputs": [
    {
     "name": "stdout",
     "output_type": "stream",
     "text": [
      "0.009045124053955078\n"
     ]
    }
   ],
   "source": [
    "t1 = time.time()\n",
    "for data_list in data_lists:\n",
    "    a = len(set(data_list))\n",
    "    \n",
    "t2 = time.time()\n",
    "\n",
    "print(t2-t1)"
   ]
  },
  {
   "cell_type": "code",
   "execution_count": 26,
   "id": "7277dcfd-50db-4452-8d1d-f3986cbd6b73",
   "metadata": {
    "tags": []
   },
   "outputs": [
    {
     "name": "stdout",
     "output_type": "stream",
     "text": [
      "4.149005889892578\n"
     ]
    }
   ],
   "source": [
    "import cupy as cp\n",
    "import numpy as np\n",
    "import time\n",
    "\n",
    "t1 = time.time()\n",
    "# 创建n个随机数据列表\n",
    "n = 10000\n",
    "data_lists = np.random.randint(0, 10, size=n)\n",
    "\n",
    "data_lists_gpu = cp.asarray(data_lists)\n",
    "\n",
    "for i in range(len(data_lists_gpu)):\n",
    "    unique = cp.unique(data_lists_gpu[0:i+1])\n",
    "    # print(unique)\n",
    "\n",
    "t2 = time.time()\n",
    "\n",
    "print(t2-t1)"
   ]
  },
  {
   "cell_type": "code",
   "execution_count": 29,
   "id": "e6b63b2d-088c-4b1e-810e-173b3e029a10",
   "metadata": {
    "tags": []
   },
   "outputs": [
    {
     "name": "stdout",
     "output_type": "stream",
     "text": [
      "0.0036466121673583984\n"
     ]
    }
   ],
   "source": [
    "import cupy as cp\n",
    "import numpy as np\n",
    "import time\n",
    "\n",
    "t1 = time.time()\n",
    "# 创建n个随机数据列表\n",
    "n = 10000\n",
    "data_lists = np.random.randint(0, 10, size=n)\n",
    "\n",
    "for i in range(len(data_lists)):\n",
    "    unique = len(data_lists[0:i+1])\n",
    "    # print(unique)\n",
    "\n",
    "t2 = time.time()\n",
    "\n",
    "print(t2-t1)"
   ]
  },
  {
   "cell_type": "code",
   "execution_count": 31,
   "id": "cd933e54-12fb-49b7-b337-b77b0e9c6d80",
   "metadata": {
    "tags": []
   },
   "outputs": [
    {
     "data": {
      "text/plain": [
       "[set(), set(), set(), set(), set()]"
      ]
     },
     "execution_count": 31,
     "metadata": {},
     "output_type": "execute_result"
    }
   ],
   "source": [
    "[set()  for _ in range(5)]"
   ]
  },
  {
   "cell_type": "code",
   "execution_count": 33,
   "id": "b082fdb7-fe55-428a-88a4-b97909a7229c",
   "metadata": {
    "tags": []
   },
   "outputs": [
    {
     "data": {
      "text/plain": [
       "[[0, 0, 0, 0, 0, 0], [0, 0, 0, 0, 0, 0]]"
      ]
     },
     "execution_count": 33,
     "metadata": {},
     "output_type": "execute_result"
    }
   ],
   "source": [
    "[[0] * 6] * 2"
   ]
  },
  {
   "cell_type": "code",
   "execution_count": 38,
   "id": "97ba00e9-3a51-422a-9b1b-a06f5ce23d42",
   "metadata": {
    "tags": []
   },
   "outputs": [
    {
     "name": "stdout",
     "output_type": "stream",
     "text": [
      "2\n"
     ]
    }
   ],
   "source": [
    "a = set()\n",
    "a.add(1)\n",
    "a.add(2)\n",
    "a.add(1)\n",
    "print(len(a))"
   ]
  },
  {
   "cell_type": "code",
   "execution_count": 148,
   "id": "d3c2940f-43dc-49d5-8faf-3838e380537a",
   "metadata": {
    "tags": []
   },
   "outputs": [
    {
     "name": "stdout",
     "output_type": "stream",
     "text": [
      "                     数值列  count\n",
      "日期时间                           \n",
      "2023-09-03 08:00:00    1      1\n",
      "2023-09-03 10:30:00    2      2\n",
      "2023-09-03 12:45:00    3      2\n"
     ]
    }
   ],
   "source": [
    "import cudf\n",
    "\n",
    "# 创建一个示例的cuDF DataFrame，其中包含一个 datetime 列\n",
    "data = {'日期时间': ['2023-09-03 08:00:00', '2023-09-03 10:30:00', '2023-09-03 12:45:00'],\n",
    "        '数值列': [1, 2, 3]}\n",
    "df = cudf.DataFrame(data)\n",
    "\n",
    "# 将 '日期时间' 列转换为 datetime 类型\n",
    "df['日期时间'] = cudf.to_datetime(df['日期时间'])\n",
    "\n",
    "# 将 '日期时间' 列设置为索引\n",
    "df = df.set_index('日期时间')\n",
    "\n",
    "df[\"count\"] = df.rolling(\"3h\").apply(\"count\")\n",
    "\n",
    "# 打印结果\n",
    "print(df)\n"
   ]
  },
  {
   "cell_type": "code",
   "execution_count": 156,
   "id": "3f1d7715-ccbe-4449-be2f-0d71ea60e7c8",
   "metadata": {
    "tags": []
   },
   "outputs": [
    {
     "name": "stdout",
     "output_type": "stream",
     "text": [
      "                     Unnamed: 0.1  Unnamed: 0          sid  memoryid  rankid  \\\n",
      "日期时间                                                                           \n",
      "2019-12-19 04:23:00         24092       24092  Server_1000         8       0   \n",
      "\n",
      "                     bankid    row  col  error_type           error_time  ...  \\\n",
      "日期时间                                                                      ...   \n",
      "2019-12-19 04:23:00       2  29037  320           1  2019-12-19 04:23:00  ...   \n",
      "\n",
      "                    e_row_16  e_row_32  e_col_2  e_col_4  e_col_8  e_col_16  \\\n",
      "日期时间                                                                          \n",
      "2019-12-19 04:23:00        0         0        0        0        0         0   \n",
      "\n",
      "                     e_col_32  e_col_64  row_cnt  col_cnt  \n",
      "日期时间                                                       \n",
      "2019-12-19 04:23:00         0         0        0        0  \n",
      "\n",
      "[1 rows x 28 columns]\n",
      "                             sid  memoryid  rankid  bankid    row  col  \\\n",
      "日期时间                                                                     \n",
      "2019-12-19 04:23:00  Server_1000         8       0       2  29037  320   \n",
      "\n",
      "                     error_type           error_time server_manufacturer  \\\n",
      "日期时间                                                                       \n",
      "2019-12-19 04:23:00           1  2019-12-19 04:23:00                  M2   \n",
      "\n",
      "                    DRAM_model  ...  e_row_32  e_col_2  e_col_4  e_col_8  \\\n",
      "日期时间                            ...                                        \n",
      "2019-12-19 04:23:00         C1  ...         0        0        0        0   \n",
      "\n",
      "                     e_col_16  e_col_32  e_col_64  row_cnt  col_cnt  count  \n",
      "日期时间                                                                        \n",
      "2019-12-19 04:23:00         0         0         0        0        0      1  \n",
      "\n",
      "[1 rows x 27 columns]\n"
     ]
    }
   ],
   "source": [
    "import cudf\n",
    "\n",
    "# 创建一个示例的cuDF DataFrame，其中包含一个 datetime 列\n",
    "data = cudf.read_csv(\"hostone.csv\")\n",
    "df = data\n",
    "\n",
    "# 将 '日期时间' 列转换为 datetime 类型\n",
    "df['日期时间'] = cudf.to_datetime(df['error_time'])\n",
    "df = df.fillna(-1)\n",
    "# 将 '日期时间' 列设置为索引\n",
    "df = df.set_index('日期时间')\n",
    "\n",
    "print(df)\n",
    "\n",
    "# 定义要删除的列名包含的字符串\n",
    "string_to_remove = \"Unname\"\n",
    "\n",
    "# 使用列表解析来选择要保留的列，并使用 drop() 方法删除其他列\n",
    "columns_to_keep = [col_name for col_name in df.columns if string_to_remove not in col_name]\n",
    "df = df[columns_to_keep]\n",
    "\n",
    "df.to_csv(\"hostone1.csv\")\n",
    "\n",
    "# df = df[[\"sid\"]]\n",
    "\n",
    "df[\"count\"] = df[\"sid\"].rolling(\"3h\").apply(\"count\")\n",
    "\n",
    "# 打印结果\n",
    "print(df)\n"
   ]
  },
  {
   "cell_type": "code",
   "execution_count": 165,
   "id": "34341dfb-ccaf-420c-8701-77e6d876fe54",
   "metadata": {
    "tags": []
   },
   "outputs": [
    {
     "name": "stdout",
     "output_type": "stream",
     "text": [
      "631187\n"
     ]
    }
   ],
   "source": [
    "import cudf\n",
    "\n",
    "# 创建一个示例的cuDF DataFrame，其中包含一个 datetime 列\n",
    "df = pd.read_csv(\"df_cudf.csv\")\n",
    "df_cudf = cudf.DataFrame(df)\n",
    "# 打印结果\n",
    "print(len(df_cudf))\n"
   ]
  },
  {
   "cell_type": "code",
   "execution_count": 170,
   "id": "61453936-18ed-4167-96f8-480b32c79b2d",
   "metadata": {
    "tags": []
   },
   "outputs": [],
   "source": [
    "df_cudf[[\"sid\",\"row\",\"col\", \"count\", \"error_time\", \"ce_storm_10\", \"ce_storm_20\", \"ce_storm_30\"]].head(2000).to_csv(\"test.csv\")"
   ]
  },
  {
   "cell_type": "code",
   "execution_count": null,
   "id": "a665a621-42d1-4d60-900e-4204c9fa99b2",
   "metadata": {},
   "outputs": [],
   "source": []
  },
  {
   "cell_type": "code",
   "execution_count": null,
   "id": "2b99a296-60d4-4c2a-bd55-139c7859c77c",
   "metadata": {},
   "outputs": [],
   "source": []
  },
  {
   "cell_type": "code",
   "execution_count": null,
   "id": "f283247e-be28-42e4-ae5e-f70edae58bf9",
   "metadata": {},
   "outputs": [],
   "source": []
  },
  {
   "cell_type": "code",
   "execution_count": null,
   "id": "67658341-d2a3-46ec-8dad-51808d718524",
   "metadata": {},
   "outputs": [],
   "source": []
  },
  {
   "cell_type": "code",
   "execution_count": null,
   "id": "bb5b4356-de95-4d71-a987-0791d444fe0e",
   "metadata": {},
   "outputs": [],
   "source": []
  },
  {
   "cell_type": "code",
   "execution_count": null,
   "id": "efaf71af-a0d4-4f70-a932-2928c8a23d3d",
   "metadata": {},
   "outputs": [],
   "source": []
  },
  {
   "cell_type": "code",
   "execution_count": 101,
   "id": "4bbc13f3-7139-41a9-9ead-cec47879703b",
   "metadata": {
    "tags": []
   },
   "outputs": [
    {
     "name": "stdout",
     "output_type": "stream",
     "text": [
      "           error_time  数值列  count  ce_storm_10  ce_storm_20  ce_storm_24  \\\n",
      "0 2023-09-03 08:00:00    1      1        False        False        False   \n",
      "\n",
      "   ce_storm_30  ce_storm_40  ce_storm_50  \n",
      "0        False        False        False  \n"
     ]
    }
   ],
   "source": [
    "def add_ce_storm_features(df_cudf=None):\n",
    "    df_cudf[\"error_time\"] = cudf.to_datetime(df_cudf[\"error_time\"])\n",
    "    df_cudf = df_cudf.set_index(\"error_time\")\n",
    "    # logging.info(df_cudf.head(5))\n",
    "    df_cudf = df_cudf.fillna(-1)\n",
    "    df_cudf[\"count\"] = df_cudf.rolling(\"3h\").apply(\"count\")\n",
    "    for ce_cnt in [10, 20, 24, 30, 40, 50]:\n",
    "        df_cudf[f\"ce_storm_{ce_cnt}\"] = df_cudf[\"count\"] >= ce_cnt\n",
    "    df_cudf = df_cudf.reset_index()\n",
    "    return df_cudf\n",
    "\n",
    "data = {'error_time': ['2023-09-03 08:00:00'],\n",
    "        '数值列': [1]}\n",
    "df = cudf.DataFrame(data)\n",
    "# df_cudf[\"日期时间\"] = cudf.to_datetime(df_cudf[\"日期时间\"])\n",
    "# df_cudf = df_cudf.set_index(\"日期时间\")\n",
    "# # logging.info(df_cudf.head(5))\n",
    "# df_cudf = df_cudf.fillna(-1)\n",
    "# df_cudf[\"count\"] = df_cudf.rolling(\"3h\").apply(\"count\")\n",
    "# # for ce_cnt in [10, 20, 24, 30, 40, 50]:\n",
    "# #     df_cudf[f\"ce_storm_{ce_cnt}\"] = df_cudf[\"count\"] >= ce_cnt\n",
    "# # # df_cudf = df_cudf.drop(columns=[\"count\"])\n",
    "# print(df_cudf)\n",
    "# df_cudf = df_cudf.reset_index()\n",
    "\n",
    "df_cudf = add_ce_storm_features(df)\n",
    "\n",
    "print(df_cudf)"
   ]
  },
  {
   "cell_type": "code",
   "execution_count": 135,
   "id": "f0b42fe8-7012-41b9-8997-0cec7aaee1d3",
   "metadata": {
    "tags": []
   },
   "outputs": [
    {
     "name": "stdout",
     "output_type": "stream",
     "text": [
      "           error_time            new_time              diff  diff_hour  \\\n",
      "0 2023-09-03 08:00:00 2023-09-03 09:15:00   0 days 01:15:00       1.25   \n",
      "1 2023-09-03 10:30:00 2023-09-03 09:00:00 -1 days +22:30:00     -22.50   \n",
      "2 2023-09-03 12:45:00 2023-09-03 14:30:00   0 days 01:45:00       1.75   \n",
      "\n",
      "   diff_day  ce_count  \n",
      "0         1         2  \n",
      "1        -1         2  \n",
      "2         1         2  \n"
     ]
    }
   ],
   "source": [
    "import cudf\n",
    "\n",
    "# 创建一个示例的cuDF DataFrame，包含两个时间字段\n",
    "data = {'error_time': ['2023-09-03 08:00:00', '2023-09-03 10:30:00', '2023-09-03 12:45:00'],\n",
    "        'new_time': ['2023-09-03 09:15:00', '2023-09-03 09:00:00', '2023-09-03 14:30:00']}\n",
    "df = cudf.DataFrame(data)\n",
    "\n",
    "# 将时间字段转换为datetime类型\n",
    "df['error_time'] = cudf.to_datetime(df['error_time'])\n",
    "df['new_time'] = cudf.to_datetime(df['new_time'])\n",
    "\n",
    "# 计算两个时间字段的差值\n",
    "df['diff'] = df['new_time'] - df['error_time']\n",
    "df[\"diff_hour\"] = (df['diff'].dt.seconds) / 3600\n",
    "df[\"diff_day\"] = df['diff'].dt.days\n",
    "df[\"diff_day\"] = df[\"diff_day\"].apply(lambda x: 1 if x>=0 else -1)\n",
    "# df[\"diff_day\"] = df[\"diff_day\"].astype(int)\n",
    "df[\"diff_hour\"] = df[\"diff_day\"] * df[\"diff_hour\"]\n",
    "df[\"ce_count\"] = len(df[(df['diff_hour'] >= 1) & (df['diff_hour'] <= 2)])\n",
    "# 提取差值中的小时部分\n",
    "\n",
    "# 打印结果\n",
    "print(df)\n"
   ]
  },
  {
   "cell_type": "code",
   "execution_count": 130,
   "id": "321a1868-8e74-49eb-8ae0-8e4f0d70f1e2",
   "metadata": {
    "tags": []
   },
   "outputs": [
    {
     "name": "stdout",
     "output_type": "stream",
     "text": [
      "                 开始时间                结束时间               时间差    aas\n",
      "0 2023-09-03 08:00:00 2023-09-03 09:15:00   0 days 01:15:00   4500\n",
      "1 2023-09-03 10:30:00 2023-09-03 10:00:00 -1 days +23:30:00  84600\n"
     ]
    }
   ],
   "source": [
    "import cudf\n",
    "\n",
    "# 创建一个示例的 cuDF DataFrame，包含两个日期时间列\n",
    "data = {'开始时间': ['2023-09-03 08:00:00', '2023-09-03 10:30:00'],\n",
    "        '结束时间': ['2023-09-03 09:15:00', '2023-09-03 10:00:00']}\n",
    "df = cudf.DataFrame(data)\n",
    "\n",
    "# 将时间字段转换为 datetime 类型\n",
    "df['开始时间'] = cudf.to_datetime(df['开始时间'])\n",
    "df['结束时间'] = cudf.to_datetime(df['结束时间'])\n",
    "\n",
    "# 计算两个时间字段的差值，并提取时间差中的总秒数\n",
    "df['时间差'] = df['结束时间'] - df['开始时间']\n",
    "\n",
    "df[\"aas\"] = df['时间差'].dt.seconds\n",
    "\n",
    "# 打印结果\n",
    "print(df)\n"
   ]
  },
  {
   "cell_type": "code",
   "execution_count": 134,
   "id": "3f1f0040-6aac-475d-9a10-7295886bbd0a",
   "metadata": {
    "tags": []
   },
   "outputs": [
    {
     "name": "stdout",
     "output_type": "stream",
     "text": [
      "True 的个数: 3\n"
     ]
    }
   ],
   "source": [
    "import cudf\n",
    "\n",
    "# 创建一个示例的 cuDF DataFrame，包含布尔值列\n",
    "data = {'布尔列': [True, False, True, False, True]}\n",
    "df = cudf.DataFrame(data)\n",
    "\n",
    "# 统计 '布尔列' 中 True 的个数\n",
    "true_count = df['布尔列'].sum()\n",
    "\n",
    "# 打印结果\n",
    "print(\"True 的个数:\", true_count)\n"
   ]
  },
  {
   "cell_type": "code",
   "execution_count": 7,
   "id": "abfea063-123d-4587-9b71-2744e62dce7c",
   "metadata": {
    "tags": []
   },
   "outputs": [],
   "source": [
    "dataset_idx = [1,2,3,4]"
   ]
  },
  {
   "cell_type": "code",
   "execution_count": 9,
   "id": "3fb5ad20-554b-4e5c-b731-f664168914ba",
   "metadata": {
    "tags": []
   },
   "outputs": [
    {
     "data": {
      "text/plain": [
       "[]"
      ]
     },
     "execution_count": 9,
     "metadata": {},
     "output_type": "execute_result"
    }
   ],
   "source": [
    "dataset_idx[10:]"
   ]
  },
  {
   "cell_type": "code",
   "execution_count": 35,
   "id": "b90af80a-7063-46a2-9dba-c27c1fd2cf33",
   "metadata": {
    "tags": []
   },
   "outputs": [],
   "source": [
    "import pandas as pd\n",
    "\n",
    "train_set = \"/home/rapids/notebooks/workspace/dram/data/processed/train_set.csv\"\n",
    "\n",
    "df = pd.read_csv(train_set)"
   ]
  },
  {
   "cell_type": "code",
   "execution_count": 36,
   "id": "e1ca432f-528f-4bb4-baae-33507d7bf002",
   "metadata": {
    "tags": []
   },
   "outputs": [
    {
     "data": {
      "text/plain": [
       "3812058"
      ]
     },
     "execution_count": 36,
     "metadata": {},
     "output_type": "execute_result"
    }
   ],
   "source": [
    "len(df)"
   ]
  },
  {
   "cell_type": "code",
   "execution_count": 37,
   "id": "8bea0ebe-60d1-4397-bf71-fce5519144ad",
   "metadata": {
    "tags": []
   },
   "outputs": [],
   "source": [
    "aaa = df.isna().any()\n",
    "aaa.to_csv(\"aaa.csv\")"
   ]
  },
  {
   "cell_type": "code",
   "execution_count": 43,
   "id": "30ce4aff-223f-4f9e-8d38-db514a89f5f8",
   "metadata": {
    "tags": []
   },
   "outputs": [],
   "source": [
    "# df.head()\n",
    "\n",
    "aaa = df.isna().any()\n",
    "aaa.to_csv(\"aaa.csv\")\n",
    "\n",
    "bbb = df.fillna(-1)"
   ]
  },
  {
   "cell_type": "code",
   "execution_count": 44,
   "id": "884c128a-f2f4-4f44-8bf6-e6e4fd9694d4",
   "metadata": {
    "tags": []
   },
   "outputs": [],
   "source": [
    "aaa = bbb.isna().any()\n",
    "aaa.to_csv(\"aaa.csv\")"
   ]
  },
  {
   "cell_type": "code",
   "execution_count": 46,
   "id": "1108b00f-8407-4eef-afcd-6a566205613b",
   "metadata": {
    "tags": []
   },
   "outputs": [
    {
     "data": {
      "text/html": [
       "<div>\n",
       "<style scoped>\n",
       "    .dataframe tbody tr th:only-of-type {\n",
       "        vertical-align: middle;\n",
       "    }\n",
       "\n",
       "    .dataframe tbody tr th {\n",
       "        vertical-align: top;\n",
       "    }\n",
       "\n",
       "    .dataframe thead th {\n",
       "        text-align: right;\n",
       "    }\n",
       "</style>\n",
       "<table border=\"1\" class=\"dataframe\">\n",
       "  <thead>\n",
       "    <tr style=\"text-align: right;\">\n",
       "      <th></th>\n",
       "      <th>DIMM_number</th>\n",
       "      <th>e_row_2</th>\n",
       "      <th>e_row_4</th>\n",
       "      <th>e_row_8</th>\n",
       "      <th>e_row_16</th>\n",
       "      <th>e_row_32</th>\n",
       "      <th>e_col_2</th>\n",
       "      <th>e_col_4</th>\n",
       "      <th>e_col_8</th>\n",
       "      <th>e_col_16</th>\n",
       "      <th>...</th>\n",
       "      <th>server_manufacturer_M1</th>\n",
       "      <th>DRAM_model_A1</th>\n",
       "      <th>DRAM_model_A2</th>\n",
       "      <th>DRAM_model_B1</th>\n",
       "      <th>DRAM_model_B3</th>\n",
       "      <th>DRAM_model_C2</th>\n",
       "      <th>DRAM_model_B2</th>\n",
       "      <th>DRAM_model_C1</th>\n",
       "      <th>server_manufacturer_M2</th>\n",
       "      <th>server_manufacturer_M3</th>\n",
       "    </tr>\n",
       "  </thead>\n",
       "  <tbody>\n",
       "    <tr>\n",
       "      <th>0</th>\n",
       "      <td>12</td>\n",
       "      <td>0</td>\n",
       "      <td>0</td>\n",
       "      <td>0</td>\n",
       "      <td>0</td>\n",
       "      <td>0</td>\n",
       "      <td>0</td>\n",
       "      <td>0</td>\n",
       "      <td>0</td>\n",
       "      <td>0</td>\n",
       "      <td>...</td>\n",
       "      <td>1.0</td>\n",
       "      <td>0.0</td>\n",
       "      <td>1.0</td>\n",
       "      <td>0.0</td>\n",
       "      <td>0.0</td>\n",
       "      <td>0.0</td>\n",
       "      <td>NaN</td>\n",
       "      <td>NaN</td>\n",
       "      <td>NaN</td>\n",
       "      <td>NaN</td>\n",
       "    </tr>\n",
       "    <tr>\n",
       "      <th>1</th>\n",
       "      <td>12</td>\n",
       "      <td>0</td>\n",
       "      <td>0</td>\n",
       "      <td>0</td>\n",
       "      <td>0</td>\n",
       "      <td>0</td>\n",
       "      <td>0</td>\n",
       "      <td>0</td>\n",
       "      <td>0</td>\n",
       "      <td>0</td>\n",
       "      <td>...</td>\n",
       "      <td>1.0</td>\n",
       "      <td>0.0</td>\n",
       "      <td>1.0</td>\n",
       "      <td>0.0</td>\n",
       "      <td>0.0</td>\n",
       "      <td>0.0</td>\n",
       "      <td>NaN</td>\n",
       "      <td>NaN</td>\n",
       "      <td>NaN</td>\n",
       "      <td>NaN</td>\n",
       "    </tr>\n",
       "    <tr>\n",
       "      <th>2</th>\n",
       "      <td>12</td>\n",
       "      <td>0</td>\n",
       "      <td>0</td>\n",
       "      <td>0</td>\n",
       "      <td>0</td>\n",
       "      <td>0</td>\n",
       "      <td>0</td>\n",
       "      <td>0</td>\n",
       "      <td>0</td>\n",
       "      <td>0</td>\n",
       "      <td>...</td>\n",
       "      <td>1.0</td>\n",
       "      <td>0.0</td>\n",
       "      <td>1.0</td>\n",
       "      <td>0.0</td>\n",
       "      <td>0.0</td>\n",
       "      <td>0.0</td>\n",
       "      <td>NaN</td>\n",
       "      <td>NaN</td>\n",
       "      <td>NaN</td>\n",
       "      <td>NaN</td>\n",
       "    </tr>\n",
       "    <tr>\n",
       "      <th>3</th>\n",
       "      <td>12</td>\n",
       "      <td>0</td>\n",
       "      <td>0</td>\n",
       "      <td>0</td>\n",
       "      <td>0</td>\n",
       "      <td>0</td>\n",
       "      <td>0</td>\n",
       "      <td>0</td>\n",
       "      <td>0</td>\n",
       "      <td>0</td>\n",
       "      <td>...</td>\n",
       "      <td>1.0</td>\n",
       "      <td>0.0</td>\n",
       "      <td>1.0</td>\n",
       "      <td>0.0</td>\n",
       "      <td>0.0</td>\n",
       "      <td>0.0</td>\n",
       "      <td>NaN</td>\n",
       "      <td>NaN</td>\n",
       "      <td>NaN</td>\n",
       "      <td>NaN</td>\n",
       "    </tr>\n",
       "    <tr>\n",
       "      <th>4</th>\n",
       "      <td>12</td>\n",
       "      <td>0</td>\n",
       "      <td>0</td>\n",
       "      <td>0</td>\n",
       "      <td>0</td>\n",
       "      <td>0</td>\n",
       "      <td>0</td>\n",
       "      <td>0</td>\n",
       "      <td>0</td>\n",
       "      <td>0</td>\n",
       "      <td>...</td>\n",
       "      <td>1.0</td>\n",
       "      <td>0.0</td>\n",
       "      <td>1.0</td>\n",
       "      <td>0.0</td>\n",
       "      <td>0.0</td>\n",
       "      <td>0.0</td>\n",
       "      <td>NaN</td>\n",
       "      <td>NaN</td>\n",
       "      <td>NaN</td>\n",
       "      <td>NaN</td>\n",
       "    </tr>\n",
       "  </tbody>\n",
       "</table>\n",
       "<p>5 rows × 60 columns</p>\n",
       "</div>"
      ],
      "text/plain": [
       "   DIMM_number  e_row_2  e_row_4  e_row_8  e_row_16  e_row_32  e_col_2  \\\n",
       "0           12        0        0        0         0         0        0   \n",
       "1           12        0        0        0         0         0        0   \n",
       "2           12        0        0        0         0         0        0   \n",
       "3           12        0        0        0         0         0        0   \n",
       "4           12        0        0        0         0         0        0   \n",
       "\n",
       "   e_col_4  e_col_8  e_col_16  ...  server_manufacturer_M1  DRAM_model_A1  \\\n",
       "0        0        0         0  ...                     1.0            0.0   \n",
       "1        0        0         0  ...                     1.0            0.0   \n",
       "2        0        0         0  ...                     1.0            0.0   \n",
       "3        0        0         0  ...                     1.0            0.0   \n",
       "4        0        0         0  ...                     1.0            0.0   \n",
       "\n",
       "   DRAM_model_A2  DRAM_model_B1  DRAM_model_B3  DRAM_model_C2  DRAM_model_B2  \\\n",
       "0            1.0            0.0            0.0            0.0            NaN   \n",
       "1            1.0            0.0            0.0            0.0            NaN   \n",
       "2            1.0            0.0            0.0            0.0            NaN   \n",
       "3            1.0            0.0            0.0            0.0            NaN   \n",
       "4            1.0            0.0            0.0            0.0            NaN   \n",
       "\n",
       "   DRAM_model_C1  server_manufacturer_M2  server_manufacturer_M3  \n",
       "0            NaN                     NaN                     NaN  \n",
       "1            NaN                     NaN                     NaN  \n",
       "2            NaN                     NaN                     NaN  \n",
       "3            NaN                     NaN                     NaN  \n",
       "4            NaN                     NaN                     NaN  \n",
       "\n",
       "[5 rows x 60 columns]"
      ]
     },
     "execution_count": 46,
     "metadata": {},
     "output_type": "execute_result"
    }
   ],
   "source": [
    "df.iloc[:, 14:].head()"
   ]
  },
  {
   "cell_type": "code",
   "execution_count": 40,
   "id": "88bce137-192d-4ed6-869c-1078ed58bcd7",
   "metadata": {
    "tags": []
   },
   "outputs": [],
   "source": [
    "asda = df.fillna(-1)"
   ]
  },
  {
   "cell_type": "code",
   "execution_count": 41,
   "id": "7bd6104e-b245-4cf7-98cc-f797de4d6bd0",
   "metadata": {
    "tags": []
   },
   "outputs": [
    {
     "data": {
      "text/html": [
       "<div>\n",
       "<style scoped>\n",
       "    .dataframe tbody tr th:only-of-type {\n",
       "        vertical-align: middle;\n",
       "    }\n",
       "\n",
       "    .dataframe tbody tr th {\n",
       "        vertical-align: top;\n",
       "    }\n",
       "\n",
       "    .dataframe thead th {\n",
       "        text-align: right;\n",
       "    }\n",
       "</style>\n",
       "<table border=\"1\" class=\"dataframe\">\n",
       "  <thead>\n",
       "    <tr style=\"text-align: right;\">\n",
       "      <th></th>\n",
       "      <th>Unnamed: 0.1</th>\n",
       "      <th>error_time</th>\n",
       "      <th>sid</th>\n",
       "      <th>memoryid</th>\n",
       "      <th>rankid</th>\n",
       "      <th>bankid</th>\n",
       "      <th>row</th>\n",
       "      <th>col</th>\n",
       "      <th>error_type</th>\n",
       "      <th>failure_type</th>\n",
       "      <th>...</th>\n",
       "      <th>server_manufacturer_M1</th>\n",
       "      <th>DRAM_model_A1</th>\n",
       "      <th>DRAM_model_A2</th>\n",
       "      <th>DRAM_model_B1</th>\n",
       "      <th>DRAM_model_B3</th>\n",
       "      <th>DRAM_model_C2</th>\n",
       "      <th>DRAM_model_B2</th>\n",
       "      <th>DRAM_model_C1</th>\n",
       "      <th>server_manufacturer_M2</th>\n",
       "      <th>server_manufacturer_M3</th>\n",
       "    </tr>\n",
       "  </thead>\n",
       "  <tbody>\n",
       "    <tr>\n",
       "      <th>0</th>\n",
       "      <td>7</td>\n",
       "      <td>2020-02-15 17:27:29</td>\n",
       "      <td>Server_11438</td>\n",
       "      <td>22</td>\n",
       "      <td>0</td>\n",
       "      <td>7</td>\n",
       "      <td>83915</td>\n",
       "      <td>440</td>\n",
       "      <td>2</td>\n",
       "      <td>-1.0</td>\n",
       "      <td>...</td>\n",
       "      <td>1.0</td>\n",
       "      <td>0.0</td>\n",
       "      <td>1.0</td>\n",
       "      <td>0.0</td>\n",
       "      <td>0.0</td>\n",
       "      <td>0.0</td>\n",
       "      <td>-1.0</td>\n",
       "      <td>-1.0</td>\n",
       "      <td>-1.0</td>\n",
       "      <td>-1.0</td>\n",
       "    </tr>\n",
       "    <tr>\n",
       "      <th>1</th>\n",
       "      <td>29</td>\n",
       "      <td>2020-03-08 15:32:33</td>\n",
       "      <td>Server_11438</td>\n",
       "      <td>22</td>\n",
       "      <td>0</td>\n",
       "      <td>7</td>\n",
       "      <td>83915</td>\n",
       "      <td>440</td>\n",
       "      <td>2</td>\n",
       "      <td>-1.0</td>\n",
       "      <td>...</td>\n",
       "      <td>1.0</td>\n",
       "      <td>0.0</td>\n",
       "      <td>1.0</td>\n",
       "      <td>0.0</td>\n",
       "      <td>0.0</td>\n",
       "      <td>0.0</td>\n",
       "      <td>-1.0</td>\n",
       "      <td>-1.0</td>\n",
       "      <td>-1.0</td>\n",
       "      <td>-1.0</td>\n",
       "    </tr>\n",
       "    <tr>\n",
       "      <th>2</th>\n",
       "      <td>34</td>\n",
       "      <td>2020-03-13 15:06:25</td>\n",
       "      <td>Server_11438</td>\n",
       "      <td>22</td>\n",
       "      <td>0</td>\n",
       "      <td>7</td>\n",
       "      <td>83915</td>\n",
       "      <td>440</td>\n",
       "      <td>2</td>\n",
       "      <td>-1.0</td>\n",
       "      <td>...</td>\n",
       "      <td>1.0</td>\n",
       "      <td>0.0</td>\n",
       "      <td>1.0</td>\n",
       "      <td>0.0</td>\n",
       "      <td>0.0</td>\n",
       "      <td>0.0</td>\n",
       "      <td>-1.0</td>\n",
       "      <td>-1.0</td>\n",
       "      <td>-1.0</td>\n",
       "      <td>-1.0</td>\n",
       "    </tr>\n",
       "    <tr>\n",
       "      <th>3</th>\n",
       "      <td>38</td>\n",
       "      <td>2020-03-17 14:45:32</td>\n",
       "      <td>Server_11438</td>\n",
       "      <td>22</td>\n",
       "      <td>0</td>\n",
       "      <td>7</td>\n",
       "      <td>83915</td>\n",
       "      <td>440</td>\n",
       "      <td>2</td>\n",
       "      <td>-1.0</td>\n",
       "      <td>...</td>\n",
       "      <td>1.0</td>\n",
       "      <td>0.0</td>\n",
       "      <td>1.0</td>\n",
       "      <td>0.0</td>\n",
       "      <td>0.0</td>\n",
       "      <td>0.0</td>\n",
       "      <td>-1.0</td>\n",
       "      <td>-1.0</td>\n",
       "      <td>-1.0</td>\n",
       "      <td>-1.0</td>\n",
       "    </tr>\n",
       "    <tr>\n",
       "      <th>4</th>\n",
       "      <td>47</td>\n",
       "      <td>2020-03-26 13:58:31</td>\n",
       "      <td>Server_11438</td>\n",
       "      <td>22</td>\n",
       "      <td>0</td>\n",
       "      <td>7</td>\n",
       "      <td>83915</td>\n",
       "      <td>440</td>\n",
       "      <td>2</td>\n",
       "      <td>-1.0</td>\n",
       "      <td>...</td>\n",
       "      <td>1.0</td>\n",
       "      <td>0.0</td>\n",
       "      <td>1.0</td>\n",
       "      <td>0.0</td>\n",
       "      <td>0.0</td>\n",
       "      <td>0.0</td>\n",
       "      <td>-1.0</td>\n",
       "      <td>-1.0</td>\n",
       "      <td>-1.0</td>\n",
       "      <td>-1.0</td>\n",
       "    </tr>\n",
       "  </tbody>\n",
       "</table>\n",
       "<p>5 rows × 74 columns</p>\n",
       "</div>"
      ],
      "text/plain": [
       "   Unnamed: 0.1           error_time           sid  memoryid  rankid  bankid  \\\n",
       "0             7  2020-02-15 17:27:29  Server_11438        22       0       7   \n",
       "1            29  2020-03-08 15:32:33  Server_11438        22       0       7   \n",
       "2            34  2020-03-13 15:06:25  Server_11438        22       0       7   \n",
       "3            38  2020-03-17 14:45:32  Server_11438        22       0       7   \n",
       "4            47  2020-03-26 13:58:31  Server_11438        22       0       7   \n",
       "\n",
       "     row  col  error_type  failure_type  ... server_manufacturer_M1  \\\n",
       "0  83915  440           2          -1.0  ...                    1.0   \n",
       "1  83915  440           2          -1.0  ...                    1.0   \n",
       "2  83915  440           2          -1.0  ...                    1.0   \n",
       "3  83915  440           2          -1.0  ...                    1.0   \n",
       "4  83915  440           2          -1.0  ...                    1.0   \n",
       "\n",
       "  DRAM_model_A1  DRAM_model_A2  DRAM_model_B1  DRAM_model_B3  DRAM_model_C2  \\\n",
       "0           0.0            1.0            0.0            0.0            0.0   \n",
       "1           0.0            1.0            0.0            0.0            0.0   \n",
       "2           0.0            1.0            0.0            0.0            0.0   \n",
       "3           0.0            1.0            0.0            0.0            0.0   \n",
       "4           0.0            1.0            0.0            0.0            0.0   \n",
       "\n",
       "   DRAM_model_B2  DRAM_model_C1  server_manufacturer_M2  \\\n",
       "0           -1.0           -1.0                    -1.0   \n",
       "1           -1.0           -1.0                    -1.0   \n",
       "2           -1.0           -1.0                    -1.0   \n",
       "3           -1.0           -1.0                    -1.0   \n",
       "4           -1.0           -1.0                    -1.0   \n",
       "\n",
       "   server_manufacturer_M3  \n",
       "0                    -1.0  \n",
       "1                    -1.0  \n",
       "2                    -1.0  \n",
       "3                    -1.0  \n",
       "4                    -1.0  \n",
       "\n",
       "[5 rows x 74 columns]"
      ]
     },
     "execution_count": 41,
     "metadata": {},
     "output_type": "execute_result"
    }
   ],
   "source": [
    "asda.head()"
   ]
  },
  {
   "cell_type": "code",
   "execution_count": 5,
   "id": "4134918a-cf87-4834-92e0-78e581511075",
   "metadata": {
    "tags": []
   },
   "outputs": [],
   "source": [
    "\n",
    "import xgboost as xgb\n",
    "import pandas as pd"
   ]
  },
  {
   "cell_type": "code",
   "execution_count": 10,
   "id": "aa278718-5a44-4174-9e88-52916025a83a",
   "metadata": {
    "tags": []
   },
   "outputs": [],
   "source": [
    "\n",
    "booster = xgb.Booster()\n",
    "model = booster.load_model(\"/home/rapids/notebooks/workspace/dram/data/model/version1.model\")\n"
   ]
  },
  {
   "cell_type": "code",
   "execution_count": 6,
   "id": "238b789f-ad58-4bcd-b059-016fce80d6ba",
   "metadata": {
    "tags": []
   },
   "outputs": [],
   "source": [
    "test_set = \"/home/rapids/notebooks/workspace/dram/data/processed/train_set.csv\"\n",
    "\n",
    "test_df = pd.read_csv(test_set)"
   ]
  },
  {
   "cell_type": "code",
   "execution_count": 8,
   "id": "7a0f45dd-c5cc-4099-a629-e64c25907281",
   "metadata": {
    "tags": []
   },
   "outputs": [],
   "source": [
    "test_df = test_df.fillna(-1)\n",
    "test_y = test_df[\"failed\"]\n",
    "test_x = test_df.iloc[:, 14:]"
   ]
  },
  {
   "cell_type": "code",
   "execution_count": 9,
   "id": "2ce8f601-059a-4a1a-8fff-93fced37152f",
   "metadata": {
    "tags": []
   },
   "outputs": [],
   "source": [
    "\n",
    "from sklearn.metrics import accuracy_score, precision_score, recall_score"
   ]
  },
  {
   "cell_type": "code",
   "execution_count": 16,
   "id": "bdff54cd-f725-4acd-b496-5c5eaf45c649",
   "metadata": {
    "tags": []
   },
   "outputs": [],
   "source": [
    "d_test_x = xgb.DMatrix(test_x)\n",
    "predictions = booster.predict(d_test_x)\n"
   ]
  },
  {
   "cell_type": "code",
   "execution_count": 17,
   "id": "69a12ac7-7901-46cf-97e0-cb834e79a768",
   "metadata": {
    "tags": []
   },
   "outputs": [
    {
     "data": {
      "text/plain": [
       "array([1.5209501e-03, 1.3324211e-03, 1.3324211e-03, ..., 4.0103674e-05,\n",
       "       4.0103674e-05, 4.0103674e-05], dtype=float32)"
      ]
     },
     "execution_count": 17,
     "metadata": {},
     "output_type": "execute_result"
    }
   ],
   "source": [
    "predictions"
   ]
  },
  {
   "cell_type": "code",
   "execution_count": 19,
   "id": "1bb64ad2-befe-4027-936e-054b0c5e17d0",
   "metadata": {
    "tags": []
   },
   "outputs": [
    {
     "ename": "ValueError",
     "evalue": "Classification metrics can't handle a mix of binary and continuous targets",
     "output_type": "error",
     "traceback": [
      "\u001b[0;31m---------------------------------------------------------------------------\u001b[0m",
      "\u001b[0;31mValueError\u001b[0m                                Traceback (most recent call last)",
      "Cell \u001b[0;32mIn[19], line 1\u001b[0m\n\u001b[0;32m----> 1\u001b[0m precision \u001b[38;5;241m=\u001b[39m \u001b[43mprecision_score\u001b[49m\u001b[43m(\u001b[49m\u001b[43mtest_y\u001b[49m\u001b[43m,\u001b[49m\u001b[43m \u001b[49m\u001b[43mpredictions\u001b[49m\u001b[43m)\u001b[49m\n\u001b[1;32m      2\u001b[0m recall \u001b[38;5;241m=\u001b[39m recall_score(test_y, predictions)\n\u001b[1;32m      4\u001b[0m \u001b[38;5;28mprint\u001b[39m(\u001b[38;5;124m\"\u001b[39m\u001b[38;5;124mprecision \u001b[39m\u001b[38;5;132;01m{}\u001b[39;00m\u001b[38;5;124m\"\u001b[39m\u001b[38;5;241m.\u001b[39mformat(precision))\n",
      "File \u001b[0;32m/opt/conda/lib/python3.10/site-packages/sklearn/metrics/_classification.py:1954\u001b[0m, in \u001b[0;36mprecision_score\u001b[0;34m(y_true, y_pred, labels, pos_label, average, sample_weight, zero_division)\u001b[0m\n\u001b[1;32m   1825\u001b[0m \u001b[38;5;28;01mdef\u001b[39;00m \u001b[38;5;21mprecision_score\u001b[39m(\n\u001b[1;32m   1826\u001b[0m     y_true,\n\u001b[1;32m   1827\u001b[0m     y_pred,\n\u001b[0;32m   (...)\u001b[0m\n\u001b[1;32m   1833\u001b[0m     zero_division\u001b[38;5;241m=\u001b[39m\u001b[38;5;124m\"\u001b[39m\u001b[38;5;124mwarn\u001b[39m\u001b[38;5;124m\"\u001b[39m,\n\u001b[1;32m   1834\u001b[0m ):\n\u001b[1;32m   1835\u001b[0m \u001b[38;5;250m    \u001b[39m\u001b[38;5;124;03m\"\"\"Compute the precision.\u001b[39;00m\n\u001b[1;32m   1836\u001b[0m \n\u001b[1;32m   1837\u001b[0m \u001b[38;5;124;03m    The precision is the ratio ``tp / (tp + fp)`` where ``tp`` is the number of\u001b[39;00m\n\u001b[0;32m   (...)\u001b[0m\n\u001b[1;32m   1952\u001b[0m \u001b[38;5;124;03m    array([0.5, 1. , 1. ])\u001b[39;00m\n\u001b[1;32m   1953\u001b[0m \u001b[38;5;124;03m    \"\"\"\u001b[39;00m\n\u001b[0;32m-> 1954\u001b[0m     p, _, _, _ \u001b[38;5;241m=\u001b[39m \u001b[43mprecision_recall_fscore_support\u001b[49m\u001b[43m(\u001b[49m\n\u001b[1;32m   1955\u001b[0m \u001b[43m        \u001b[49m\u001b[43my_true\u001b[49m\u001b[43m,\u001b[49m\n\u001b[1;32m   1956\u001b[0m \u001b[43m        \u001b[49m\u001b[43my_pred\u001b[49m\u001b[43m,\u001b[49m\n\u001b[1;32m   1957\u001b[0m \u001b[43m        \u001b[49m\u001b[43mlabels\u001b[49m\u001b[38;5;241;43m=\u001b[39;49m\u001b[43mlabels\u001b[49m\u001b[43m,\u001b[49m\n\u001b[1;32m   1958\u001b[0m \u001b[43m        \u001b[49m\u001b[43mpos_label\u001b[49m\u001b[38;5;241;43m=\u001b[39;49m\u001b[43mpos_label\u001b[49m\u001b[43m,\u001b[49m\n\u001b[1;32m   1959\u001b[0m \u001b[43m        \u001b[49m\u001b[43maverage\u001b[49m\u001b[38;5;241;43m=\u001b[39;49m\u001b[43maverage\u001b[49m\u001b[43m,\u001b[49m\n\u001b[1;32m   1960\u001b[0m \u001b[43m        \u001b[49m\u001b[43mwarn_for\u001b[49m\u001b[38;5;241;43m=\u001b[39;49m\u001b[43m(\u001b[49m\u001b[38;5;124;43m\"\u001b[39;49m\u001b[38;5;124;43mprecision\u001b[39;49m\u001b[38;5;124;43m\"\u001b[39;49m\u001b[43m,\u001b[49m\u001b[43m)\u001b[49m\u001b[43m,\u001b[49m\n\u001b[1;32m   1961\u001b[0m \u001b[43m        \u001b[49m\u001b[43msample_weight\u001b[49m\u001b[38;5;241;43m=\u001b[39;49m\u001b[43msample_weight\u001b[49m\u001b[43m,\u001b[49m\n\u001b[1;32m   1962\u001b[0m \u001b[43m        \u001b[49m\u001b[43mzero_division\u001b[49m\u001b[38;5;241;43m=\u001b[39;49m\u001b[43mzero_division\u001b[49m\u001b[43m,\u001b[49m\n\u001b[1;32m   1963\u001b[0m \u001b[43m    \u001b[49m\u001b[43m)\u001b[49m\n\u001b[1;32m   1964\u001b[0m     \u001b[38;5;28;01mreturn\u001b[39;00m p\n",
      "File \u001b[0;32m/opt/conda/lib/python3.10/site-packages/sklearn/metrics/_classification.py:1573\u001b[0m, in \u001b[0;36mprecision_recall_fscore_support\u001b[0;34m(y_true, y_pred, beta, labels, pos_label, average, warn_for, sample_weight, zero_division)\u001b[0m\n\u001b[1;32m   1571\u001b[0m \u001b[38;5;28;01mif\u001b[39;00m beta \u001b[38;5;241m<\u001b[39m \u001b[38;5;241m0\u001b[39m:\n\u001b[1;32m   1572\u001b[0m     \u001b[38;5;28;01mraise\u001b[39;00m \u001b[38;5;167;01mValueError\u001b[39;00m(\u001b[38;5;124m\"\u001b[39m\u001b[38;5;124mbeta should be >=0 in the F-beta score\u001b[39m\u001b[38;5;124m\"\u001b[39m)\n\u001b[0;32m-> 1573\u001b[0m labels \u001b[38;5;241m=\u001b[39m \u001b[43m_check_set_wise_labels\u001b[49m\u001b[43m(\u001b[49m\u001b[43my_true\u001b[49m\u001b[43m,\u001b[49m\u001b[43m \u001b[49m\u001b[43my_pred\u001b[49m\u001b[43m,\u001b[49m\u001b[43m \u001b[49m\u001b[43maverage\u001b[49m\u001b[43m,\u001b[49m\u001b[43m \u001b[49m\u001b[43mlabels\u001b[49m\u001b[43m,\u001b[49m\u001b[43m \u001b[49m\u001b[43mpos_label\u001b[49m\u001b[43m)\u001b[49m\n\u001b[1;32m   1575\u001b[0m \u001b[38;5;66;03m# Calculate tp_sum, pred_sum, true_sum ###\u001b[39;00m\n\u001b[1;32m   1576\u001b[0m samplewise \u001b[38;5;241m=\u001b[39m average \u001b[38;5;241m==\u001b[39m \u001b[38;5;124m\"\u001b[39m\u001b[38;5;124msamples\u001b[39m\u001b[38;5;124m\"\u001b[39m\n",
      "File \u001b[0;32m/opt/conda/lib/python3.10/site-packages/sklearn/metrics/_classification.py:1374\u001b[0m, in \u001b[0;36m_check_set_wise_labels\u001b[0;34m(y_true, y_pred, average, labels, pos_label)\u001b[0m\n\u001b[1;32m   1371\u001b[0m \u001b[38;5;28;01mif\u001b[39;00m average \u001b[38;5;129;01mnot\u001b[39;00m \u001b[38;5;129;01min\u001b[39;00m average_options \u001b[38;5;129;01mand\u001b[39;00m average \u001b[38;5;241m!=\u001b[39m \u001b[38;5;124m\"\u001b[39m\u001b[38;5;124mbinary\u001b[39m\u001b[38;5;124m\"\u001b[39m:\n\u001b[1;32m   1372\u001b[0m     \u001b[38;5;28;01mraise\u001b[39;00m \u001b[38;5;167;01mValueError\u001b[39;00m(\u001b[38;5;124m\"\u001b[39m\u001b[38;5;124maverage has to be one of \u001b[39m\u001b[38;5;124m\"\u001b[39m \u001b[38;5;241m+\u001b[39m \u001b[38;5;28mstr\u001b[39m(average_options))\n\u001b[0;32m-> 1374\u001b[0m y_type, y_true, y_pred \u001b[38;5;241m=\u001b[39m \u001b[43m_check_targets\u001b[49m\u001b[43m(\u001b[49m\u001b[43my_true\u001b[49m\u001b[43m,\u001b[49m\u001b[43m \u001b[49m\u001b[43my_pred\u001b[49m\u001b[43m)\u001b[49m\n\u001b[1;32m   1375\u001b[0m \u001b[38;5;66;03m# Convert to Python primitive type to avoid NumPy type / Python str\u001b[39;00m\n\u001b[1;32m   1376\u001b[0m \u001b[38;5;66;03m# comparison. See https://github.com/numpy/numpy/issues/6784\u001b[39;00m\n\u001b[1;32m   1377\u001b[0m present_labels \u001b[38;5;241m=\u001b[39m unique_labels(y_true, y_pred)\u001b[38;5;241m.\u001b[39mtolist()\n",
      "File \u001b[0;32m/opt/conda/lib/python3.10/site-packages/sklearn/metrics/_classification.py:95\u001b[0m, in \u001b[0;36m_check_targets\u001b[0;34m(y_true, y_pred)\u001b[0m\n\u001b[1;32m     92\u001b[0m     y_type \u001b[38;5;241m=\u001b[39m {\u001b[38;5;124m\"\u001b[39m\u001b[38;5;124mmulticlass\u001b[39m\u001b[38;5;124m\"\u001b[39m}\n\u001b[1;32m     94\u001b[0m \u001b[38;5;28;01mif\u001b[39;00m \u001b[38;5;28mlen\u001b[39m(y_type) \u001b[38;5;241m>\u001b[39m \u001b[38;5;241m1\u001b[39m:\n\u001b[0;32m---> 95\u001b[0m     \u001b[38;5;28;01mraise\u001b[39;00m \u001b[38;5;167;01mValueError\u001b[39;00m(\n\u001b[1;32m     96\u001b[0m         \u001b[38;5;124m\"\u001b[39m\u001b[38;5;124mClassification metrics can\u001b[39m\u001b[38;5;124m'\u001b[39m\u001b[38;5;124mt handle a mix of \u001b[39m\u001b[38;5;132;01m{0}\u001b[39;00m\u001b[38;5;124m and \u001b[39m\u001b[38;5;132;01m{1}\u001b[39;00m\u001b[38;5;124m targets\u001b[39m\u001b[38;5;124m\"\u001b[39m\u001b[38;5;241m.\u001b[39mformat(\n\u001b[1;32m     97\u001b[0m             type_true, type_pred\n\u001b[1;32m     98\u001b[0m         )\n\u001b[1;32m     99\u001b[0m     )\n\u001b[1;32m    101\u001b[0m \u001b[38;5;66;03m# We can't have more than one value on y_type => The set is no more needed\u001b[39;00m\n\u001b[1;32m    102\u001b[0m y_type \u001b[38;5;241m=\u001b[39m y_type\u001b[38;5;241m.\u001b[39mpop()\n",
      "\u001b[0;31mValueError\u001b[0m: Classification metrics can't handle a mix of binary and continuous targets"
     ]
    }
   ],
   "source": [
    "precision = precision_score(test_y, predictions)\n",
    "recall = recall_score(test_y, predictions)\n",
    "\n",
    "print(\"precision {}\".format(precision))\n",
    "print(\"recall {}\".format(recall))"
   ]
  },
  {
   "cell_type": "code",
   "execution_count": 20,
   "id": "da7f5a4e-f11a-467c-8498-6d12240cb8fb",
   "metadata": {
    "tags": []
   },
   "outputs": [],
   "source": [
    "\n",
    "\n",
    "train_dataset = \"/home/rapids/notebooks/workspace/dram/data/processed/train_set.csv\"\n",
    "test_dataset = \"/home/rapids/notebooks/workspace/dram/data/processed/test_set.csv\"\n",
    "\n",
    "train_set= pd.read_csv(train_dataset)\n",
    "test_set= pd.read_csv(test_dataset)"
   ]
  },
  {
   "cell_type": "code",
   "execution_count": 48,
   "id": "42bd5fb5-75a9-46af-8795-1c73c0f1342e",
   "metadata": {
    "tags": []
   },
   "outputs": [],
   "source": [
    "train_set = train_set.fillna(-1)\n",
    "train_x = train_set.iloc[:, 14:64]\n",
    "train_y = train_set[\"failed\"]\n",
    "\n",
    "test_set = test_set.fillna(-1)\n",
    "test_x = test_set.iloc[:, 14:64]\n",
    "test_y = test_set[\"failed\"]"
   ]
  },
  {
   "cell_type": "code",
   "execution_count": 49,
   "id": "a5244f4e-77d0-41c1-88bf-0a7123282b3c",
   "metadata": {
    "tags": []
   },
   "outputs": [
    {
     "data": {
      "text/plain": [
       "Index(['DIMM_number', 'e_row_2', 'e_row_4', 'e_row_8', 'e_row_16', 'e_row_32',\n",
       "       'e_col_2', 'e_col_4', 'e_col_8', 'e_col_16', 'e_col_32', 'e_col_64',\n",
       "       'row_cnt', 'col_cnt', 'count', 'ce_storm_10', 'ce_storm_20',\n",
       "       'ce_storm_24', 'ce_storm_30', 'ce_storm_40', 'ce_storm_50',\n",
       "       'e_bank_2_2', 'e_bank_2_4', 'e_bank_2_8', 'e_bank_2_16', 'e_bank_2_32',\n",
       "       'e_bank_2_64', 'e_bank_4_2', 'e_bank_4_4', 'e_bank_4_8', 'e_bank_4_16',\n",
       "       'e_bank_4_32', 'e_bank_4_64', 'e_bank_8_2', 'e_bank_8_4', 'e_bank_8_8',\n",
       "       'e_bank_8_16', 'e_bank_8_32', 'e_bank_8_64', 'e_bank_16_2',\n",
       "       'e_bank_16_4', 'e_bank_16_8', 'e_bank_16_16', 'e_bank_16_32',\n",
       "       'e_bank_16_64', 'e_bank_32_2', 'e_bank_32_4', 'e_bank_32_8',\n",
       "       'e_bank_32_16', 'e_bank_32_32'],\n",
       "      dtype='object')"
      ]
     },
     "execution_count": 49,
     "metadata": {},
     "output_type": "execute_result"
    }
   ],
   "source": [
    "train_x.columns"
   ]
  },
  {
   "cell_type": "code",
   "execution_count": 47,
   "id": "648979c0-6a50-4455-abb7-9681e930949a",
   "metadata": {
    "tags": []
   },
   "outputs": [
    {
     "data": {
      "text/plain": [
       "Index(['DIMM_number', 'e_row_2', 'e_row_4', 'e_row_8', 'e_row_16', 'e_row_32',\n",
       "       'e_col_2', 'e_col_4', 'e_col_8', 'e_col_16', 'e_col_32', 'e_col_64',\n",
       "       'row_cnt', 'col_cnt', 'count', 'ce_storm_10', 'ce_storm_20',\n",
       "       'ce_storm_24', 'ce_storm_30', 'ce_storm_40', 'ce_storm_50',\n",
       "       'e_bank_2_2', 'e_bank_2_4', 'e_bank_2_8', 'e_bank_2_16', 'e_bank_2_32',\n",
       "       'e_bank_2_64', 'e_bank_4_2', 'e_bank_4_4', 'e_bank_4_8', 'e_bank_4_16',\n",
       "       'e_bank_4_32', 'e_bank_4_64', 'e_bank_8_2', 'e_bank_8_4', 'e_bank_8_8',\n",
       "       'e_bank_8_16', 'e_bank_8_32', 'e_bank_8_64', 'e_bank_16_2',\n",
       "       'e_bank_16_4', 'e_bank_16_8', 'e_bank_16_16', 'e_bank_16_32',\n",
       "       'e_bank_16_64', 'e_bank_32_2', 'e_bank_32_4', 'e_bank_32_8',\n",
       "       'e_bank_32_16', 'e_bank_32_32', 'server_manufacturer_M3'],\n",
       "      dtype='object')"
      ]
     },
     "execution_count": 47,
     "metadata": {},
     "output_type": "execute_result"
    }
   ],
   "source": [
    "test_x.columns"
   ]
  },
  {
   "cell_type": "code",
   "execution_count": 50,
   "id": "f306110a-9508-4510-96e0-26f39fc37574",
   "metadata": {
    "tags": []
   },
   "outputs": [],
   "source": [
    "\n",
    "model = xgb.XGBClassifier()\n",
    "model.fit(train_x, train_y)\n",
    "preds = model.predict(test_x)"
   ]
  },
  {
   "cell_type": "code",
   "execution_count": 55,
   "id": "5fa5fe7e-614e-4542-95ed-ed267a8e12f0",
   "metadata": {
    "tags": []
   },
   "outputs": [
    {
     "data": {
      "text/plain": [
       "450606"
      ]
     },
     "execution_count": 55,
     "metadata": {},
     "output_type": "execute_result"
    }
   ],
   "source": [
    "len(preds)"
   ]
  },
  {
   "cell_type": "code",
   "execution_count": 56,
   "id": "76715d02-1228-427f-ba81-6a9c224af465",
   "metadata": {
    "tags": []
   },
   "outputs": [
    {
     "data": {
      "text/plain": [
       "array([0, 0, 0, ..., 0, 0, 0])"
      ]
     },
     "execution_count": 56,
     "metadata": {},
     "output_type": "execute_result"
    }
   ],
   "source": [
    "preds"
   ]
  },
  {
   "cell_type": "code",
   "execution_count": 52,
   "id": "92dc1aba-ba18-4c58-a5e5-f97f21a36569",
   "metadata": {
    "tags": []
   },
   "outputs": [
    {
     "name": "stdout",
     "output_type": "stream",
     "text": [
      "precision 0.11211211211211211\n",
      "recall 0.00788343774195819\n"
     ]
    }
   ],
   "source": [
    "precision = precision_score(test_y, preds)\n",
    "recall = recall_score(test_y, preds)\n",
    "\n",
    "print(\"precision {}\".format(precision))\n",
    "print(\"recall {}\".format(recall))"
   ]
  },
  {
   "cell_type": "code",
   "execution_count": 57,
   "id": "8453c253-a554-4d7f-8f21-5ee4b292b234",
   "metadata": {
    "tags": []
   },
   "outputs": [],
   "source": [
    "\n",
    "test_validate = test_set.iloc[:, :14]\n",
    "test_validate[\"pred\"] = preds"
   ]
  },
  {
   "cell_type": "code",
   "execution_count": 58,
   "id": "6feff3d4-fbbf-4e43-892a-d2ac4bf0f74a",
   "metadata": {
    "tags": []
   },
   "outputs": [
    {
     "data": {
      "text/html": [
       "<div>\n",
       "<style scoped>\n",
       "    .dataframe tbody tr th:only-of-type {\n",
       "        vertical-align: middle;\n",
       "    }\n",
       "\n",
       "    .dataframe tbody tr th {\n",
       "        vertical-align: top;\n",
       "    }\n",
       "\n",
       "    .dataframe thead th {\n",
       "        text-align: right;\n",
       "    }\n",
       "</style>\n",
       "<table border=\"1\" class=\"dataframe\">\n",
       "  <thead>\n",
       "    <tr style=\"text-align: right;\">\n",
       "      <th></th>\n",
       "      <th>Unnamed: 0.1</th>\n",
       "      <th>error_time</th>\n",
       "      <th>sid</th>\n",
       "      <th>memoryid</th>\n",
       "      <th>rankid</th>\n",
       "      <th>bankid</th>\n",
       "      <th>row</th>\n",
       "      <th>col</th>\n",
       "      <th>error_type</th>\n",
       "      <th>failure_type</th>\n",
       "      <th>failed_time</th>\n",
       "      <th>time_diff</th>\n",
       "      <th>failed</th>\n",
       "      <th>Unnamed: 0</th>\n",
       "      <th>pred</th>\n",
       "    </tr>\n",
       "  </thead>\n",
       "  <tbody>\n",
       "    <tr>\n",
       "      <th>0</th>\n",
       "      <td>7</td>\n",
       "      <td>2019-12-31 03:12:14</td>\n",
       "      <td>Server_29304</td>\n",
       "      <td>6</td>\n",
       "      <td>1</td>\n",
       "      <td>7</td>\n",
       "      <td>71353</td>\n",
       "      <td>552</td>\n",
       "      <td>2</td>\n",
       "      <td>-1.0</td>\n",
       "      <td>2023-01-01 00:00:00</td>\n",
       "      <td>1096 days 20:47:46</td>\n",
       "      <td>0</td>\n",
       "      <td>7</td>\n",
       "      <td>0</td>\n",
       "    </tr>\n",
       "    <tr>\n",
       "      <th>1</th>\n",
       "      <td>29</td>\n",
       "      <td>2020-02-13 16:53:51</td>\n",
       "      <td>Server_29304</td>\n",
       "      <td>6</td>\n",
       "      <td>1</td>\n",
       "      <td>7</td>\n",
       "      <td>71353</td>\n",
       "      <td>552</td>\n",
       "      <td>2</td>\n",
       "      <td>-1.0</td>\n",
       "      <td>2023-01-01 00:00:00</td>\n",
       "      <td>1052 days 07:06:09</td>\n",
       "      <td>0</td>\n",
       "      <td>29</td>\n",
       "      <td>0</td>\n",
       "    </tr>\n",
       "    <tr>\n",
       "      <th>2</th>\n",
       "      <td>34</td>\n",
       "      <td>2020-02-19 15:31:24</td>\n",
       "      <td>Server_29304</td>\n",
       "      <td>6</td>\n",
       "      <td>1</td>\n",
       "      <td>7</td>\n",
       "      <td>71353</td>\n",
       "      <td>552</td>\n",
       "      <td>2</td>\n",
       "      <td>-1.0</td>\n",
       "      <td>2023-01-01 00:00:00</td>\n",
       "      <td>1046 days 08:28:36</td>\n",
       "      <td>0</td>\n",
       "      <td>34</td>\n",
       "      <td>0</td>\n",
       "    </tr>\n",
       "    <tr>\n",
       "      <th>3</th>\n",
       "      <td>38</td>\n",
       "      <td>2020-03-06 11:51:33</td>\n",
       "      <td>Server_29304</td>\n",
       "      <td>6</td>\n",
       "      <td>1</td>\n",
       "      <td>7</td>\n",
       "      <td>71353</td>\n",
       "      <td>552</td>\n",
       "      <td>2</td>\n",
       "      <td>-1.0</td>\n",
       "      <td>2023-01-01 00:00:00</td>\n",
       "      <td>1030 days 12:08:27</td>\n",
       "      <td>0</td>\n",
       "      <td>38</td>\n",
       "      <td>0</td>\n",
       "    </tr>\n",
       "    <tr>\n",
       "      <th>4</th>\n",
       "      <td>47</td>\n",
       "      <td>2020-03-29 06:35:29</td>\n",
       "      <td>Server_29304</td>\n",
       "      <td>6</td>\n",
       "      <td>1</td>\n",
       "      <td>7</td>\n",
       "      <td>71353</td>\n",
       "      <td>552</td>\n",
       "      <td>2</td>\n",
       "      <td>-1.0</td>\n",
       "      <td>2023-01-01 00:00:00</td>\n",
       "      <td>1007 days 17:24:31</td>\n",
       "      <td>0</td>\n",
       "      <td>47</td>\n",
       "      <td>0</td>\n",
       "    </tr>\n",
       "    <tr>\n",
       "      <th>...</th>\n",
       "      <td>...</td>\n",
       "      <td>...</td>\n",
       "      <td>...</td>\n",
       "      <td>...</td>\n",
       "      <td>...</td>\n",
       "      <td>...</td>\n",
       "      <td>...</td>\n",
       "      <td>...</td>\n",
       "      <td>...</td>\n",
       "      <td>...</td>\n",
       "      <td>...</td>\n",
       "      <td>...</td>\n",
       "      <td>...</td>\n",
       "      <td>...</td>\n",
       "      <td>...</td>\n",
       "    </tr>\n",
       "    <tr>\n",
       "      <th>450601</th>\n",
       "      <td>3723584</td>\n",
       "      <td>2020-05-01 19:24:06</td>\n",
       "      <td>Server_30016</td>\n",
       "      <td>18</td>\n",
       "      <td>0</td>\n",
       "      <td>5</td>\n",
       "      <td>28548</td>\n",
       "      <td>1016</td>\n",
       "      <td>2</td>\n",
       "      <td>-1.0</td>\n",
       "      <td>2023-01-01 00:00:00</td>\n",
       "      <td>974 days 04:35:54</td>\n",
       "      <td>0</td>\n",
       "      <td>3723584</td>\n",
       "      <td>0</td>\n",
       "    </tr>\n",
       "    <tr>\n",
       "      <th>450602</th>\n",
       "      <td>3723591</td>\n",
       "      <td>2020-05-01 19:24:11</td>\n",
       "      <td>Server_30016</td>\n",
       "      <td>18</td>\n",
       "      <td>0</td>\n",
       "      <td>5</td>\n",
       "      <td>28555</td>\n",
       "      <td>1016</td>\n",
       "      <td>2</td>\n",
       "      <td>-1.0</td>\n",
       "      <td>2023-01-01 00:00:00</td>\n",
       "      <td>974 days 04:35:49</td>\n",
       "      <td>0</td>\n",
       "      <td>3723591</td>\n",
       "      <td>0</td>\n",
       "    </tr>\n",
       "    <tr>\n",
       "      <th>450603</th>\n",
       "      <td>3723604</td>\n",
       "      <td>2020-05-01 19:24:16</td>\n",
       "      <td>Server_30016</td>\n",
       "      <td>18</td>\n",
       "      <td>0</td>\n",
       "      <td>5</td>\n",
       "      <td>28577</td>\n",
       "      <td>1016</td>\n",
       "      <td>2</td>\n",
       "      <td>-1.0</td>\n",
       "      <td>2023-01-01 00:00:00</td>\n",
       "      <td>974 days 04:35:44</td>\n",
       "      <td>0</td>\n",
       "      <td>3723604</td>\n",
       "      <td>0</td>\n",
       "    </tr>\n",
       "    <tr>\n",
       "      <th>450604</th>\n",
       "      <td>3723629</td>\n",
       "      <td>2020-05-01 19:24:37</td>\n",
       "      <td>Server_30016</td>\n",
       "      <td>18</td>\n",
       "      <td>0</td>\n",
       "      <td>5</td>\n",
       "      <td>28647</td>\n",
       "      <td>1016</td>\n",
       "      <td>2</td>\n",
       "      <td>-1.0</td>\n",
       "      <td>2023-01-01 00:00:00</td>\n",
       "      <td>974 days 04:35:23</td>\n",
       "      <td>0</td>\n",
       "      <td>3723629</td>\n",
       "      <td>0</td>\n",
       "    </tr>\n",
       "    <tr>\n",
       "      <th>450605</th>\n",
       "      <td>3723630</td>\n",
       "      <td>2020-05-01 19:24:37</td>\n",
       "      <td>Server_30016</td>\n",
       "      <td>18</td>\n",
       "      <td>0</td>\n",
       "      <td>5</td>\n",
       "      <td>28642</td>\n",
       "      <td>1016</td>\n",
       "      <td>2</td>\n",
       "      <td>-1.0</td>\n",
       "      <td>2023-01-01 00:00:00</td>\n",
       "      <td>974 days 04:35:23</td>\n",
       "      <td>0</td>\n",
       "      <td>3723630</td>\n",
       "      <td>0</td>\n",
       "    </tr>\n",
       "  </tbody>\n",
       "</table>\n",
       "<p>450606 rows × 15 columns</p>\n",
       "</div>"
      ],
      "text/plain": [
       "        Unnamed: 0.1           error_time           sid  memoryid  rankid  \\\n",
       "0                  7  2019-12-31 03:12:14  Server_29304         6       1   \n",
       "1                 29  2020-02-13 16:53:51  Server_29304         6       1   \n",
       "2                 34  2020-02-19 15:31:24  Server_29304         6       1   \n",
       "3                 38  2020-03-06 11:51:33  Server_29304         6       1   \n",
       "4                 47  2020-03-29 06:35:29  Server_29304         6       1   \n",
       "...              ...                  ...           ...       ...     ...   \n",
       "450601       3723584  2020-05-01 19:24:06  Server_30016        18       0   \n",
       "450602       3723591  2020-05-01 19:24:11  Server_30016        18       0   \n",
       "450603       3723604  2020-05-01 19:24:16  Server_30016        18       0   \n",
       "450604       3723629  2020-05-01 19:24:37  Server_30016        18       0   \n",
       "450605       3723630  2020-05-01 19:24:37  Server_30016        18       0   \n",
       "\n",
       "        bankid    row   col  error_type  failure_type          failed_time  \\\n",
       "0            7  71353   552           2          -1.0  2023-01-01 00:00:00   \n",
       "1            7  71353   552           2          -1.0  2023-01-01 00:00:00   \n",
       "2            7  71353   552           2          -1.0  2023-01-01 00:00:00   \n",
       "3            7  71353   552           2          -1.0  2023-01-01 00:00:00   \n",
       "4            7  71353   552           2          -1.0  2023-01-01 00:00:00   \n",
       "...        ...    ...   ...         ...           ...                  ...   \n",
       "450601       5  28548  1016           2          -1.0  2023-01-01 00:00:00   \n",
       "450602       5  28555  1016           2          -1.0  2023-01-01 00:00:00   \n",
       "450603       5  28577  1016           2          -1.0  2023-01-01 00:00:00   \n",
       "450604       5  28647  1016           2          -1.0  2023-01-01 00:00:00   \n",
       "450605       5  28642  1016           2          -1.0  2023-01-01 00:00:00   \n",
       "\n",
       "                 time_diff  failed  Unnamed: 0  pred  \n",
       "0       1096 days 20:47:46       0           7     0  \n",
       "1       1052 days 07:06:09       0          29     0  \n",
       "2       1046 days 08:28:36       0          34     0  \n",
       "3       1030 days 12:08:27       0          38     0  \n",
       "4       1007 days 17:24:31       0          47     0  \n",
       "...                    ...     ...         ...   ...  \n",
       "450601   974 days 04:35:54       0     3723584     0  \n",
       "450602   974 days 04:35:49       0     3723591     0  \n",
       "450603   974 days 04:35:44       0     3723604     0  \n",
       "450604   974 days 04:35:23       0     3723629     0  \n",
       "450605   974 days 04:35:23       0     3723630     0  \n",
       "\n",
       "[450606 rows x 15 columns]"
      ]
     },
     "execution_count": 58,
     "metadata": {},
     "output_type": "execute_result"
    }
   ],
   "source": [
    "test_validate"
   ]
  },
  {
   "cell_type": "code",
   "execution_count": 61,
   "id": "90db672a-b7e2-497b-890a-c5bea8eb1379",
   "metadata": {
    "tags": []
   },
   "outputs": [],
   "source": [
    "fin_reals = []\n",
    "fin_preds = []\n",
    "for host in test_validate[\"sid\"].drop_duplicates().to_list():\n",
    "    df = test_validate[test_validate[\"sid\"]==host]\n",
    "    tmp = df[df[\"pred\"] == 1]\n",
    "    if (len(tmp)) > 0:\n",
    "        fin_preds.append(1)\n",
    "    else:\n",
    "        fin_preds.append(0)\n",
    "        \n",
    "    if len(test_validate[\"failed_time\"].drop_duplicates().to_list()) == 1:\n",
    "        fin_reals.append(0)\n",
    "    else:\n",
    "        fin_reals.append(1)"
   ]
  },
  {
   "cell_type": "code",
   "execution_count": 62,
   "id": "6ae3f6a1-4246-499d-aada-7f158d960d72",
   "metadata": {
    "tags": []
   },
   "outputs": [
    {
     "name": "stdout",
     "output_type": "stream",
     "text": [
      "precision 1.0\n",
      "recall 0.05046728971962617\n"
     ]
    }
   ],
   "source": [
    "precision = precision_score(fin_reals, fin_preds)\n",
    "recall = recall_score(fin_reals, fin_preds)\n",
    "\n",
    "print(\"precision {}\".format(precision))\n",
    "print(\"recall {}\".format(recall))"
   ]
  },
  {
   "cell_type": "code",
   "execution_count": null,
   "id": "b6080bbb-9387-434e-a395-99e1a4752bad",
   "metadata": {},
   "outputs": [],
   "source": []
  },
  {
   "cell_type": "code",
   "execution_count": null,
   "id": "ed0717d5-f178-4bb9-91bc-ddb05c571ddf",
   "metadata": {},
   "outputs": [],
   "source": []
  },
  {
   "cell_type": "code",
   "execution_count": null,
   "id": "31cf5558-8dfb-4ce4-829d-e2ea4af687bf",
   "metadata": {},
   "outputs": [],
   "source": []
  },
  {
   "cell_type": "code",
   "execution_count": 69,
   "id": "2438f44f-82ac-48bd-92c2-ed849a72bc5e",
   "metadata": {
    "tags": []
   },
   "outputs": [
    {
     "name": "stdout",
     "output_type": "stream",
     "text": [
      "precision 1.0\n",
      "recall 0.019626168224299065\n"
     ]
    }
   ],
   "source": [
    "train_set = train_set.fillna(-1)\n",
    "train_x = train_set[[\"count\",\"e_row_4\",\"e_row_8\", \"row_cnt\"]]\n",
    "train_y = train_set[\"failed\"]\n",
    "\n",
    "test_set = test_set.fillna(-1)\n",
    "test_x = test_set[[\"count\",\"e_row_4\",\"e_row_8\", \"row_cnt\"]]\n",
    "test_y = test_set[\"failed\"]\n",
    "\n",
    "model = xgb.XGBClassifier()\n",
    "model.fit(train_x, train_y)\n",
    "preds = model.predict(test_x)\n",
    "\n",
    "test_validate = test_set.iloc[:, :14]\n",
    "test_validate[\"pred\"] = preds\n",
    "\n",
    "fin_reals = []\n",
    "fin_preds = []\n",
    "for host in test_validate[\"sid\"].drop_duplicates().to_list():\n",
    "    df = test_validate[test_validate[\"sid\"]==host]\n",
    "    tmp = df[df[\"pred\"] == 1]\n",
    "    if (len(tmp)) > 0:\n",
    "        fin_preds.append(1)\n",
    "    else:\n",
    "        fin_preds.append(0)\n",
    "        \n",
    "    if len(test_validate[\"failed_time\"].drop_duplicates().to_list()) == 1:\n",
    "        fin_reals.append(0)\n",
    "    else:\n",
    "        fin_reals.append(1)\n",
    "        \n",
    "precision = precision_score(fin_reals, fin_preds)\n",
    "recall = recall_score(fin_reals, fin_preds)\n",
    "\n",
    "print(\"precision {}\".format(precision))\n",
    "print(\"recall {}\".format(recall))"
   ]
  },
  {
   "cell_type": "code",
   "execution_count": 66,
   "id": "d8cf7a73-314f-4059-9824-b720a9075398",
   "metadata": {
    "tags": []
   },
   "outputs": [
    {
     "data": {
      "text/plain": [
       "count           0.185697\n",
       "e_row_4         0.155286\n",
       "e_row_8         0.144651\n",
       "e_row_16        0.128100\n",
       "row_cnt         0.125334\n",
       "e_col_2         0.121336\n",
       "e_row_2         0.116975\n",
       "e_bank_2_2      0.113426\n",
       "e_row_32        0.110588\n",
       "e_col_4         0.109335\n",
       "col_cnt         0.107293\n",
       "e_bank_32_32    0.104681\n",
       "e_bank_32_8     0.104462\n",
       "e_bank_32_16    0.104381\n",
       "e_bank_2_4      0.103207\n",
       "e_bank_32_4     0.098115\n",
       "e_bank_16_32    0.096141\n",
       "e_bank_16_64    0.094541\n",
       "e_bank_16_16    0.094174\n",
       "e_bank_16_8     0.094003\n",
       "e_bank_32_2     0.091889\n",
       "e_col_64        0.089478\n",
       "e_bank_8_64     0.088857\n",
       "e_col_32        0.087711\n",
       "e_bank_16_4     0.087659\n",
       "e_bank_8_32     0.087479\n",
       "e_bank_2_64     0.086454\n",
       "e_bank_4_64     0.085898\n",
       "e_bank_2_32     0.084159\n",
       "e_bank_4_32     0.082753\n",
       "e_bank_8_16     0.082515\n",
       "e_col_16        0.082463\n",
       "e_bank_8_8      0.081401\n",
       "e_col_8         0.081197\n",
       "e_bank_16_2     0.081177\n",
       "e_bank_2_16     0.077503\n",
       "e_bank_4_16     0.076027\n",
       "e_bank_2_8      0.075824\n",
       "e_bank_8_4      0.075091\n",
       "e_bank_4_8      0.073690\n",
       "e_bank_8_2      0.068795\n",
       "e_bank_4_4      0.066774\n",
       "DIMM_number     0.061513\n",
       "e_bank_4_2      0.060685\n",
       "ce_storm_50     0.035036\n",
       "ce_storm_40     0.024405\n",
       "ce_storm_10     0.019789\n",
       "ce_storm_30     0.011219\n",
       "ce_storm_20     0.003870\n",
       "ce_storm_24     0.002278\n",
       "Name: failed, dtype: float64"
      ]
     },
     "execution_count": 66,
     "metadata": {},
     "output_type": "execute_result"
    }
   ],
   "source": [
    "train_x = train_set.iloc[:, 14:64]\n",
    "train_y = train_set[\"failed\"]\n",
    "\n",
    "numerical_features = pd.concat([train_x, train_y], axis=1)\n",
    "\n",
    "correlations = numerical_features.corr()[\"failed\"]\n",
    "correlations.drop([\"failed\"], inplace=True)\n",
    "correlations = correlations.apply(lambda x: abs(x))\n",
    "correlations = correlations.sort_values(ascending=False)\n",
    "\n",
    "correlations"
   ]
  },
  {
   "cell_type": "code",
   "execution_count": null,
   "id": "59130a0a-d22a-4ab0-9907-e06108e8b736",
   "metadata": {},
   "outputs": [],
   "source": []
  }
 ],
 "metadata": {
  "kernelspec": {
   "display_name": "Python 3 (ipykernel)",
   "language": "python",
   "name": "python3"
  },
  "language_info": {
   "codemirror_mode": {
    "name": "ipython",
    "version": 3
   },
   "file_extension": ".py",
   "mimetype": "text/x-python",
   "name": "python",
   "nbconvert_exporter": "python",
   "pygments_lexer": "ipython3",
   "version": "3.10.12"
  },
  "toc-autonumbering": true
 },
 "nbformat": 4,
 "nbformat_minor": 5
}
