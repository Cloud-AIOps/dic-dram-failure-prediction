{
 "cells": [
  {
   "cell_type": "code",
   "execution_count": 78,
   "id": "5e2c7c23-174f-4be3-8bbf-fe7eafc792f1",
   "metadata": {
    "tags": []
   },
   "outputs": [],
   "source": [
    "import os\n",
    "import re\n",
    "import json\n",
    "\n"
   ]
  },
  {
   "cell_type": "code",
   "execution_count": 2,
   "id": "d3ed6c6f-c023-4fd5-9d8d-e96e8488d4ea",
   "metadata": {
    "tags": []
   },
   "outputs": [],
   "source": [
    "def search_files(directory, includes=[], excludes=[], type=\"file\") -> list:\n",
    "    \"\"\"\n",
    "    :Param\n",
    "    :type: dir | file\n",
    "    \"\"\"\n",
    "    file_list = []\n",
    "    for file in os.listdir(directory):\n",
    "        if all(include in file for include in includes) and all(exclude not in file for exclude in excludes):\n",
    "            absolute_file = os.path.join(directory, file)\n",
    "            if type == \"file\" and os.path.isfile(absolute_file):\n",
    "                file_list.append(absolute_file)\n",
    "            if type == \"dir\" and os.path.isdir(absolute_file):\n",
    "                file_list.append(absolute_file)\n",
    "    return file_list"
   ]
  },
  {
   "cell_type": "code",
   "execution_count": 3,
   "id": "c804087e-80e0-4593-868b-45ce0937eda8",
   "metadata": {
    "tags": []
   },
   "outputs": [],
   "source": [
    "\n",
    "filenames = search_files(\"/home/anichikage/workspace/dram/dram-failure-prediction/data/staging\", includes=[\"ce_dmesg\"])"
   ]
  },
  {
   "cell_type": "code",
   "execution_count": 4,
   "id": "60a8386e-4616-4724-a910-dc67c4bc1800",
   "metadata": {
    "tags": []
   },
   "outputs": [
    {
     "name": "stdout",
     "output_type": "stream",
     "text": [
      "['/home/anichikage/workspace/dram/dram-failure-prediction/data/staging/3.5.2-10.200.105.1-ce_dmesg-20240221.log', '/home/anichikage/workspace/dram/dram-failure-prediction/data/staging/3.5.2-10.200.104.113-ce_dmesg-20240221.log', '/home/anichikage/workspace/dram/dram-failure-prediction/data/staging/3.5.2-10.200.104.111-ce_dmesg-20240221.log', '/home/anichikage/workspace/dram/dram-failure-prediction/data/staging/huabei3-10.3.0.121-ce_dmesg-20240221.log', '/home/anichikage/workspace/dram/dram-failure-prediction/data/staging/huabei3-10.3.0.122-ce_dmesg-20240221.log']\n"
     ]
    }
   ],
   "source": [
    "print(filenames)"
   ]
  },
  {
   "cell_type": "code",
   "execution_count": 5,
   "id": "fcac5abc-fde1-4c0b-bbba-3f787397a3fe",
   "metadata": {
    "tags": []
   },
   "outputs": [],
   "source": [
    "\n",
    "\n",
    "def check_one(filename):\n",
    "    data_list = []\n",
    "    with open(filename, \"r\") as f:\n",
    "        lines = f.readlines()\n",
    "        for line in lines:\n",
    "            if \"row\" in line and \"col\" in line and \"ba\" in line and \"bg\" in line and \"rank\" in line:\n",
    "                d = {}\n",
    "                pattern = r\"socket:(\\d+) imc:(\\d+) rank:(\\d+) bg:(\\d+) ba:(\\d+) row:(\\w+) col:(\\w+)\"\n",
    "                match = re.search(pattern, line)\n",
    "                if match:\n",
    "                    d[\"socket\"] = match.group(1)\n",
    "                    d[\"imc\"] = match.group(2)\n",
    "                    d[\"rank\"] = match.group(3)\n",
    "                    d[\"bg\"] = match.group(4)\n",
    "                    d[\"ba\"] = match.group(5)\n",
    "                    d[\"row\"] = match.group(6)\n",
    "                    d[\"col\"] = match.group(7)\n",
    "                    data_list.append(d)\n",
    "    return data_list\n",
    "    "
   ]
  },
  {
   "cell_type": "code",
   "execution_count": 10,
   "id": "de3fef1a-2058-4b11-be98-6d0632e5a87c",
   "metadata": {
    "tags": []
   },
   "outputs": [
    {
     "name": "stdout",
     "output_type": "stream",
     "text": [
      "1749\n",
      "1415\n",
      "1153\n",
      "220\n",
      "246\n"
     ]
    }
   ],
   "source": [
    "\n",
    "\n",
    "for filename in filenames:\n",
    "    # filename = \"/home/anichikage/workspace/dram/dram-failure-prediction/data/staging/10.200.104.113.dmesg.log\"\n",
    "    # print(filename)\n",
    "    data = check_one(filename)\n",
    "\n",
    "    print(len(data))"
   ]
  },
  {
   "cell_type": "code",
   "execution_count": 7,
   "id": "464ed058-4e0a-4730-ad43-85c67d0990b8",
   "metadata": {
    "tags": []
   },
   "outputs": [
    {
     "data": {
      "text/plain": [
       "{'socket': '1',\n",
       " 'imc': '1',\n",
       " 'rank': '1',\n",
       " 'bg': '3',\n",
       " 'ba': '1',\n",
       " 'row': '5b12',\n",
       " 'col': '2b0'}"
      ]
     },
     "execution_count": 7,
     "metadata": {},
     "output_type": "execute_result"
    }
   ],
   "source": [
    "data[0]"
   ]
  },
  {
   "cell_type": "markdown",
   "id": "ae4bb1f1-e1a8-49ae-8403-2b7b1df52f83",
   "metadata": {},
   "source": [
    "### ce"
   ]
  },
  {
   "cell_type": "code",
   "execution_count": 8,
   "id": "a480e9df-64ae-4309-b526-bf6fdfbaa175",
   "metadata": {
    "tags": []
   },
   "outputs": [
    {
     "ename": "NotADirectoryError",
     "evalue": "[Errno 20] Not a directory: '/home/anichikage/workspace/dram/dram-failure-prediction/data/staging/3.5.2-10.200.104.111-ce_dmesg-20240221.log'",
     "output_type": "error",
     "traceback": [
      "\u001b[0;31m---------------------------------------------------------------------------\u001b[0m",
      "\u001b[0;31mNotADirectoryError\u001b[0m                        Traceback (most recent call last)",
      "Cell \u001b[0;32mIn[8], line 1\u001b[0m\n\u001b[0;32m----> 1\u001b[0m filenames \u001b[38;5;241m=\u001b[39m \u001b[43msearch_files\u001b[49m\u001b[43m(\u001b[49m\u001b[38;5;124;43m\"\u001b[39;49m\u001b[38;5;124;43m/home/anichikage/workspace/dram/dram-failure-prediction/data/staging/3.5.2-10.200.104.111-ce_dmesg-20240221.log\u001b[39;49m\u001b[38;5;124;43m\"\u001b[39;49m\u001b[43m,\u001b[49m\u001b[43m \u001b[49m\u001b[43mincludes\u001b[49m\u001b[38;5;241;43m=\u001b[39;49m\u001b[43m[\u001b[49m\u001b[38;5;124;43m\"\u001b[39;49m\u001b[38;5;124;43mlog\u001b[39;49m\u001b[38;5;124;43m\"\u001b[39;49m\u001b[43m]\u001b[49m\u001b[43m)\u001b[49m\n",
      "Cell \u001b[0;32mIn[2], line 7\u001b[0m, in \u001b[0;36msearch_files\u001b[0;34m(directory, includes, excludes, type)\u001b[0m\n\u001b[1;32m      2\u001b[0m \u001b[38;5;250m\u001b[39m\u001b[38;5;124;03m\"\"\"\u001b[39;00m\n\u001b[1;32m      3\u001b[0m \u001b[38;5;124;03m:Param\u001b[39;00m\n\u001b[1;32m      4\u001b[0m \u001b[38;5;124;03m:type: dir | file\u001b[39;00m\n\u001b[1;32m      5\u001b[0m \u001b[38;5;124;03m\"\"\"\u001b[39;00m\n\u001b[1;32m      6\u001b[0m file_list \u001b[38;5;241m=\u001b[39m []\n\u001b[0;32m----> 7\u001b[0m \u001b[38;5;28;01mfor\u001b[39;00m file \u001b[38;5;129;01min\u001b[39;00m \u001b[43mos\u001b[49m\u001b[38;5;241;43m.\u001b[39;49m\u001b[43mlistdir\u001b[49m\u001b[43m(\u001b[49m\u001b[43mdirectory\u001b[49m\u001b[43m)\u001b[49m:\n\u001b[1;32m      8\u001b[0m     \u001b[38;5;28;01mif\u001b[39;00m \u001b[38;5;28mall\u001b[39m(include \u001b[38;5;129;01min\u001b[39;00m file \u001b[38;5;28;01mfor\u001b[39;00m include \u001b[38;5;129;01min\u001b[39;00m includes) \u001b[38;5;129;01mand\u001b[39;00m \u001b[38;5;28mall\u001b[39m(exclude \u001b[38;5;129;01mnot\u001b[39;00m \u001b[38;5;129;01min\u001b[39;00m file \u001b[38;5;28;01mfor\u001b[39;00m exclude \u001b[38;5;129;01min\u001b[39;00m excludes):\n\u001b[1;32m      9\u001b[0m         absolute_file \u001b[38;5;241m=\u001b[39m os\u001b[38;5;241m.\u001b[39mpath\u001b[38;5;241m.\u001b[39mjoin(directory, file)\n",
      "\u001b[0;31mNotADirectoryError\u001b[0m: [Errno 20] Not a directory: '/home/anichikage/workspace/dram/dram-failure-prediction/data/staging/3.5.2-10.200.104.111-ce_dmesg-20240221.log'"
     ]
    }
   ],
   "source": [
    "filenames = search_files(\"/home/anichikage/workspace/dram/dram-failure-prediction/data/staging/3.5.2-10.200.104.111-ce_dmesg-20240221.log\", includes=[\"log\"])"
   ]
  },
  {
   "cell_type": "code",
   "execution_count": 72,
   "id": "62279d5e-2670-42a6-9a75-ddcc8789f9f5",
   "metadata": {
    "tags": []
   },
   "outputs": [],
   "source": [
    "import numpy as np\n",
    "\n",
    "max_row = 131072\n",
    "max_col = 1024\n",
    "row_block = 32\n",
    "col_block = 16\n",
    "row_section_size = max_row // row_block\n",
    "col_section_size = max_col // col_block\n",
    "\n",
    "ce_list = []\n",
    "\n",
    "def hex_to_decimal(hex_string):\n",
    "    decimal_number = int(hex_string, 16)\n",
    "    return decimal_number\n",
    "\n",
    "def parse_line(line):\n",
    "    pattern = r'row:(\\w+) col:(\\w+)'\n",
    "    match = re.search(pattern, line)\n",
    "    if match:\n",
    "        row = match.group(1)\n",
    "        col = match.group(2)\n",
    "    return hex_to_decimal(row), hex_to_decimal(col)\n",
    "\n",
    "ce_slices = []\n",
    "\n",
    "for filename in filenames:\n",
    "    ce_slice = []\n",
    "    time_slice = []\n",
    "    host_matrix = np.zeros([row_block, col_block])\n",
    "    with open(filename, \"r\") as f:\n",
    "        lines = f.readlines()\n",
    "        for line in lines:\n",
    "            if \"row\" in line and \"col\" in line and \"bg\" in line:\n",
    "                row, col = parse_line(line)\n",
    "                host_matrix[int(row // row_section_size), int(col // col_section_size)] += 1\n",
    "                # data = np.load(host_matrix).astype(np.float32)\n",
    "                data = 2 / (1 + np.exp(-host_matrix)) - 1\n",
    "                ce_slice.append(host_matrix)\n",
    "    # print(len(ce_slice))\n",
    "    # print(ce_slice[50])\n",
    "    for i in range(len(ce_slice)):\n",
    "        ce_slice[i] = 2 / (1 + np.exp(-ce_slice[i])) - 1\n",
    "    # print(ce_slice[50])\n",
    "    ce_slices.append(ce_slice)    "
   ]
  },
  {
   "cell_type": "code",
   "execution_count": 73,
   "id": "b324d55f-c4b6-4c58-8ccd-89b4e5090fc0",
   "metadata": {
    "tags": []
   },
   "outputs": [],
   "source": [
    "\n",
    "\n",
    "for ce_slice in ce_slices:\n",
    "    pass\n",
    "    "
   ]
  },
  {
   "cell_type": "code",
   "execution_count": 70,
   "id": "2948c36a-7238-4d37-abd9-c3df31919cc5",
   "metadata": {
    "tags": []
   },
   "outputs": [],
   "source": [
    "time_slice = ce_slices[0][100]"
   ]
  },
  {
   "cell_type": "code",
   "execution_count": 71,
   "id": "1e9ee92e-e10a-4543-8796-3d4d3effa7f2",
   "metadata": {
    "tags": []
   },
   "outputs": [
    {
     "data": {
      "text/plain": [
       "array([[1.        , 1.        , 1.        , 1.        , 1.        ,\n",
       "        1.        , 1.        , 1.        , 1.        , 1.        ,\n",
       "        1.        , 1.        , 1.        , 1.        , 1.        ,\n",
       "        1.        ],\n",
       "       [0.9981779 , 0.96402758, 0.46211716, 0.9993293 , 0.90514825,\n",
       "        0.        , 0.90514825, 0.90514825, 0.99505475, 0.9866143 ,\n",
       "        0.90514825, 0.96402758, 0.96402758, 0.46211716, 0.99505475,\n",
       "        0.9866143 ],\n",
       "       [0.90514825, 0.90514825, 0.96402758, 0.9981779 , 0.76159416,\n",
       "        0.90514825, 0.90514825, 0.90514825, 0.9866143 , 0.76159416,\n",
       "        0.9866143 , 0.90514825, 0.90514825, 0.        , 0.76159416,\n",
       "        0.        ],\n",
       "       [0.9866143 , 0.99505475, 0.76159416, 0.46211716, 0.46211716,\n",
       "        0.9866143 , 0.99505475, 0.90514825, 0.9866143 , 0.90514825,\n",
       "        0.76159416, 0.96402758, 0.76159416, 0.9981779 , 0.9866143 ,\n",
       "        0.9866143 ],\n",
       "       [0.76159416, 0.9866143 , 0.76159416, 0.90514825, 0.90514825,\n",
       "        0.96402758, 0.        , 0.96402758, 0.9866143 , 0.99505475,\n",
       "        0.46211716, 0.9866143 , 0.90514825, 0.76159416, 0.96402758,\n",
       "        0.46211716],\n",
       "       [0.96402758, 0.9866143 , 0.99505475, 0.9866143 , 0.96402758,\n",
       "        0.96402758, 0.9999092 , 0.90514825, 0.76159416, 0.96402758,\n",
       "        0.46211716, 0.46211716, 0.76159416, 0.46211716, 0.46211716,\n",
       "        0.90514825],\n",
       "       [0.96402758, 0.46211716, 0.90514825, 0.46211716, 0.96402758,\n",
       "        0.9866143 , 0.9866143 , 0.90514825, 0.76159416, 0.46211716,\n",
       "        0.90514825, 0.90514825, 0.9866143 , 0.96402758, 0.76159416,\n",
       "        0.90514825],\n",
       "       [0.99505475, 0.96402758, 0.90514825, 0.90514825, 0.46211716,\n",
       "        0.90514825, 0.76159416, 0.76159416, 0.99505475, 0.46211716,\n",
       "        0.9866143 , 0.99505475, 0.46211716, 0.46211716, 0.99505475,\n",
       "        0.90514825],\n",
       "       [0.90514825, 0.96402758, 0.99505475, 0.9866143 , 0.9866143 ,\n",
       "        0.96402758, 0.46211716, 0.90514825, 0.76159416, 0.76159416,\n",
       "        0.96402758, 0.99505475, 0.        , 0.76159416, 0.76159416,\n",
       "        0.76159416],\n",
       "       [0.        , 0.        , 0.46211716, 0.        , 0.        ,\n",
       "        0.46211716, 0.90514825, 0.        , 0.        , 0.        ,\n",
       "        0.76159416, 0.        , 0.        , 0.76159416, 0.        ,\n",
       "        0.        ],\n",
       "       [0.        , 0.        , 0.        , 0.        , 0.        ,\n",
       "        0.        , 0.        , 0.        , 0.        , 0.        ,\n",
       "        0.        , 0.        , 0.        , 0.        , 0.        ,\n",
       "        0.        ],\n",
       "       [0.        , 0.        , 0.        , 0.        , 0.        ,\n",
       "        0.        , 0.        , 0.        , 0.        , 0.        ,\n",
       "        0.        , 0.        , 0.        , 0.        , 0.        ,\n",
       "        0.        ],\n",
       "       [0.        , 0.        , 0.        , 0.        , 0.        ,\n",
       "        0.        , 0.        , 0.        , 0.        , 0.        ,\n",
       "        0.        , 0.        , 0.        , 0.        , 0.        ,\n",
       "        0.        ],\n",
       "       [0.        , 0.        , 0.        , 0.        , 0.        ,\n",
       "        0.        , 0.        , 0.        , 0.        , 0.        ,\n",
       "        0.        , 0.        , 0.        , 0.        , 0.        ,\n",
       "        0.        ],\n",
       "       [0.        , 0.        , 0.        , 0.        , 0.        ,\n",
       "        0.        , 0.        , 0.        , 0.        , 0.        ,\n",
       "        0.        , 0.        , 0.        , 0.        , 0.        ,\n",
       "        0.        ],\n",
       "       [0.90514825, 0.76159416, 0.76159416, 0.90514825, 0.46211716,\n",
       "        0.96402758, 0.46211716, 0.46211716, 0.46211716, 0.76159416,\n",
       "        0.90514825, 0.        , 0.76159416, 0.        , 0.96402758,\n",
       "        0.9866143 ],\n",
       "       [0.        , 0.        , 0.        , 0.        , 0.        ,\n",
       "        0.        , 0.        , 0.        , 0.        , 0.        ,\n",
       "        0.        , 0.        , 0.        , 0.        , 0.        ,\n",
       "        0.        ],\n",
       "       [0.        , 0.        , 0.        , 0.        , 0.        ,\n",
       "        0.        , 0.        , 0.        , 0.        , 0.        ,\n",
       "        0.        , 0.        , 0.        , 0.        , 0.        ,\n",
       "        0.        ],\n",
       "       [0.        , 0.        , 0.        , 0.        , 0.        ,\n",
       "        0.        , 0.        , 0.        , 0.        , 0.        ,\n",
       "        0.        , 0.        , 0.        , 0.        , 0.        ,\n",
       "        0.        ],\n",
       "       [0.        , 0.        , 0.        , 0.        , 0.        ,\n",
       "        0.        , 0.        , 0.        , 0.        , 0.        ,\n",
       "        0.        , 0.        , 0.        , 0.        , 0.        ,\n",
       "        0.        ],\n",
       "       [0.        , 0.        , 0.        , 0.        , 0.        ,\n",
       "        0.        , 0.        , 0.        , 0.        , 0.        ,\n",
       "        0.        , 0.        , 0.        , 0.        , 0.        ,\n",
       "        0.        ],\n",
       "       [0.        , 0.        , 0.        , 0.        , 0.        ,\n",
       "        0.        , 0.        , 0.        , 0.        , 0.        ,\n",
       "        0.        , 0.        , 0.        , 0.        , 0.        ,\n",
       "        0.        ],\n",
       "       [0.        , 0.        , 0.        , 0.        , 0.        ,\n",
       "        0.        , 0.        , 0.        , 0.        , 0.        ,\n",
       "        0.        , 0.        , 0.        , 0.        , 0.        ,\n",
       "        0.        ],\n",
       "       [0.        , 0.        , 0.        , 0.        , 0.        ,\n",
       "        0.        , 0.        , 0.        , 0.        , 0.        ,\n",
       "        0.        , 0.        , 0.        , 0.        , 0.        ,\n",
       "        0.        ],\n",
       "       [0.        , 0.        , 0.        , 0.        , 0.        ,\n",
       "        0.        , 0.        , 0.        , 0.        , 0.        ,\n",
       "        0.        , 0.        , 0.        , 0.        , 0.        ,\n",
       "        0.        ],\n",
       "       [0.        , 0.        , 0.        , 0.        , 0.        ,\n",
       "        0.        , 0.        , 0.        , 0.        , 0.        ,\n",
       "        0.        , 0.        , 0.        , 0.        , 0.        ,\n",
       "        0.        ],\n",
       "       [0.        , 0.        , 0.        , 0.        , 0.        ,\n",
       "        0.        , 0.        , 0.        , 0.        , 0.        ,\n",
       "        0.        , 0.        , 0.        , 0.        , 0.        ,\n",
       "        0.        ],\n",
       "       [0.        , 0.        , 0.        , 0.        , 0.        ,\n",
       "        0.        , 0.        , 0.        , 0.        , 0.        ,\n",
       "        0.        , 0.        , 0.        , 0.        , 0.        ,\n",
       "        0.        ],\n",
       "       [0.        , 0.        , 0.        , 0.        , 0.        ,\n",
       "        0.        , 0.        , 0.        , 0.        , 0.        ,\n",
       "        0.        , 0.        , 0.        , 0.        , 0.        ,\n",
       "        0.        ],\n",
       "       [0.        , 0.        , 0.        , 0.        , 0.        ,\n",
       "        0.        , 0.        , 0.        , 0.        , 0.        ,\n",
       "        0.        , 0.        , 0.        , 0.        , 0.        ,\n",
       "        0.        ],\n",
       "       [0.        , 0.        , 0.        , 0.        , 0.        ,\n",
       "        0.        , 0.        , 0.        , 0.        , 0.        ,\n",
       "        0.        , 0.        , 0.        , 0.        , 0.        ,\n",
       "        0.        ],\n",
       "       [0.        , 0.        , 0.        , 0.        , 0.        ,\n",
       "        0.        , 0.        , 0.        , 0.        , 0.        ,\n",
       "        0.        , 0.        , 0.        , 0.        , 0.        ,\n",
       "        0.        ]])"
      ]
     },
     "execution_count": 71,
     "metadata": {},
     "output_type": "execute_result"
    }
   ],
   "source": [
    "time_slice"
   ]
  },
  {
   "cell_type": "code",
   "execution_count": 15,
   "id": "d1cfb878-97f6-4e8f-9248-f0d584fcf46b",
   "metadata": {
    "tags": []
   },
   "outputs": [],
   "source": [
    "import torch\n",
    "\n",
    "import torch\n",
    "import torch.nn as nn\n",
    "import torch.optim as optim\n",
    "import numpy as np\n",
    "import torch.nn as nn\n",
    "import torch.nn.functional as F\n",
    "from torchinfo import summary\n",
    "from torch.utils.data import DataLoader, TensorDataset, Dataset, SubsetRandomSampler\n",
    "from sklearn.metrics import precision_score, recall_score, f1_score, confusion_matrix\n",
    "from gradcam import GradCAM\n",
    "import matplotlib.pyplot as plt\n",
    "\n",
    "import model as md\n",
    "import config as CONFIG\n",
    "import utils"
   ]
  },
  {
   "cell_type": "code",
   "execution_count": 17,
   "id": "109e26ba-6f4d-4496-9490-ad9316e0624c",
   "metadata": {},
   "outputs": [
    {
     "data": {
      "text/plain": [
       "<All keys matched successfully>"
      ]
     },
     "execution_count": 17,
     "metadata": {},
     "output_type": "execute_result"
    }
   ],
   "source": [
    "\n",
    "\n",
    "model = md.ResNet4_32x16(conv1_kernel_size=9, conv2_kernel_size=5, \\\n",
    "                                  conv3_kernel_size=3, conv4_kernel_size=3)\n",
    "model.load_state_dict(torch.load(os.path.join(CONFIG.PATH_MODEL, \"resnet-ConvRule-model-0.1.pth\")))"
   ]
  },
  {
   "cell_type": "code",
   "execution_count": 19,
   "id": "0dfd0a40-6e51-46b1-9966-4b90930e7c41",
   "metadata": {
    "tags": []
   },
   "outputs": [
    {
     "data": {
      "text/plain": [
       "ResNet4_32x16(\n",
       "  (conv1): Conv2d(1, 32, kernel_size=(3, 3), stride=(1, 1), padding=(1, 1), bias=False)\n",
       "  (bn1): BatchNorm2d(32, eps=1e-05, momentum=0.1, affine=True, track_running_stats=True)\n",
       "  (relu): ReLU(inplace=True)\n",
       "  (layer1): Sequential(\n",
       "    (0): BasicResNetBlock(\n",
       "      (conv1): Conv2d(32, 32, kernel_size=(9, 9), stride=(1, 1), padding=(4, 4), bias=False)\n",
       "      (bn1): BatchNorm2d(32, eps=1e-05, momentum=0.1, affine=True, track_running_stats=True)\n",
       "      (relu): ReLU(inplace=True)\n",
       "      (conv2): Conv2d(32, 32, kernel_size=(3, 3), stride=(1, 1), padding=(1, 1), bias=False)\n",
       "      (bn2): BatchNorm2d(32, eps=1e-05, momentum=0.1, affine=True, track_running_stats=True)\n",
       "      (shortcut): Sequential()\n",
       "    )\n",
       "    (1): BasicResNetBlock(\n",
       "      (conv1): Conv2d(32, 32, kernel_size=(9, 9), stride=(1, 1), padding=(4, 4), bias=False)\n",
       "      (bn1): BatchNorm2d(32, eps=1e-05, momentum=0.1, affine=True, track_running_stats=True)\n",
       "      (relu): ReLU(inplace=True)\n",
       "      (conv2): Conv2d(32, 32, kernel_size=(3, 3), stride=(1, 1), padding=(1, 1), bias=False)\n",
       "      (bn2): BatchNorm2d(32, eps=1e-05, momentum=0.1, affine=True, track_running_stats=True)\n",
       "      (shortcut): Sequential()\n",
       "    )\n",
       "  )\n",
       "  (layer2): Sequential(\n",
       "    (0): BasicResNetBlock(\n",
       "      (conv1): Conv2d(32, 64, kernel_size=(5, 5), stride=(1, 1), padding=(2, 2), bias=False)\n",
       "      (bn1): BatchNorm2d(64, eps=1e-05, momentum=0.1, affine=True, track_running_stats=True)\n",
       "      (relu): ReLU(inplace=True)\n",
       "      (conv2): Conv2d(64, 64, kernel_size=(3, 3), stride=(1, 1), padding=(1, 1), bias=False)\n",
       "      (bn2): BatchNorm2d(64, eps=1e-05, momentum=0.1, affine=True, track_running_stats=True)\n",
       "      (shortcut): Sequential(\n",
       "        (0): Conv2d(32, 64, kernel_size=(1, 1), stride=(1, 1), bias=False)\n",
       "        (1): BatchNorm2d(64, eps=1e-05, momentum=0.1, affine=True, track_running_stats=True)\n",
       "      )\n",
       "    )\n",
       "    (1): BasicResNetBlock(\n",
       "      (conv1): Conv2d(64, 64, kernel_size=(5, 5), stride=(1, 1), padding=(2, 2), bias=False)\n",
       "      (bn1): BatchNorm2d(64, eps=1e-05, momentum=0.1, affine=True, track_running_stats=True)\n",
       "      (relu): ReLU(inplace=True)\n",
       "      (conv2): Conv2d(64, 64, kernel_size=(3, 3), stride=(1, 1), padding=(1, 1), bias=False)\n",
       "      (bn2): BatchNorm2d(64, eps=1e-05, momentum=0.1, affine=True, track_running_stats=True)\n",
       "      (shortcut): Sequential()\n",
       "    )\n",
       "  )\n",
       "  (layer3): Sequential(\n",
       "    (0): BasicResNetBlock(\n",
       "      (conv1): Conv2d(64, 128, kernel_size=(3, 3), stride=(1, 1), padding=(1, 1), bias=False)\n",
       "      (bn1): BatchNorm2d(128, eps=1e-05, momentum=0.1, affine=True, track_running_stats=True)\n",
       "      (relu): ReLU(inplace=True)\n",
       "      (conv2): Conv2d(128, 128, kernel_size=(3, 3), stride=(1, 1), padding=(1, 1), bias=False)\n",
       "      (bn2): BatchNorm2d(128, eps=1e-05, momentum=0.1, affine=True, track_running_stats=True)\n",
       "      (shortcut): Sequential(\n",
       "        (0): Conv2d(64, 128, kernel_size=(1, 1), stride=(1, 1), bias=False)\n",
       "        (1): BatchNorm2d(128, eps=1e-05, momentum=0.1, affine=True, track_running_stats=True)\n",
       "      )\n",
       "    )\n",
       "    (1): BasicResNetBlock(\n",
       "      (conv1): Conv2d(128, 128, kernel_size=(3, 3), stride=(1, 1), padding=(1, 1), bias=False)\n",
       "      (bn1): BatchNorm2d(128, eps=1e-05, momentum=0.1, affine=True, track_running_stats=True)\n",
       "      (relu): ReLU(inplace=True)\n",
       "      (conv2): Conv2d(128, 128, kernel_size=(3, 3), stride=(1, 1), padding=(1, 1), bias=False)\n",
       "      (bn2): BatchNorm2d(128, eps=1e-05, momentum=0.1, affine=True, track_running_stats=True)\n",
       "      (shortcut): Sequential()\n",
       "    )\n",
       "  )\n",
       "  (layer4): Sequential(\n",
       "    (0): BasicResNetBlock(\n",
       "      (conv1): Conv2d(128, 256, kernel_size=(3, 3), stride=(1, 1), padding=(1, 1), bias=False)\n",
       "      (bn1): BatchNorm2d(256, eps=1e-05, momentum=0.1, affine=True, track_running_stats=True)\n",
       "      (relu): ReLU(inplace=True)\n",
       "      (conv2): Conv2d(256, 256, kernel_size=(3, 3), stride=(1, 1), padding=(1, 1), bias=False)\n",
       "      (bn2): BatchNorm2d(256, eps=1e-05, momentum=0.1, affine=True, track_running_stats=True)\n",
       "      (shortcut): Sequential(\n",
       "        (0): Conv2d(128, 256, kernel_size=(1, 1), stride=(1, 1), bias=False)\n",
       "        (1): BatchNorm2d(256, eps=1e-05, momentum=0.1, affine=True, track_running_stats=True)\n",
       "      )\n",
       "    )\n",
       "    (1): BasicResNetBlock(\n",
       "      (conv1): Conv2d(256, 256, kernel_size=(3, 3), stride=(1, 1), padding=(1, 1), bias=False)\n",
       "      (bn1): BatchNorm2d(256, eps=1e-05, momentum=0.1, affine=True, track_running_stats=True)\n",
       "      (relu): ReLU(inplace=True)\n",
       "      (conv2): Conv2d(256, 256, kernel_size=(3, 3), stride=(1, 1), padding=(1, 1), bias=False)\n",
       "      (bn2): BatchNorm2d(256, eps=1e-05, momentum=0.1, affine=True, track_running_stats=True)\n",
       "      (shortcut): Sequential()\n",
       "    )\n",
       "  )\n",
       "  (avg_pool): AdaptiveAvgPool2d(output_size=(1, 1))\n",
       "  (fc): Linear(in_features=256, out_features=2, bias=True)\n",
       ")"
      ]
     },
     "execution_count": 19,
     "metadata": {},
     "output_type": "execute_result"
    }
   ],
   "source": [
    "model.to(torch.device(\"cpu\"))\n",
    "model.eval()"
   ]
  },
  {
   "cell_type": "code",
   "execution_count": 59,
   "id": "e6c98498-4e71-4019-8b0e-a66ad1d7db07",
   "metadata": {
    "tags": []
   },
   "outputs": [],
   "source": [
    "device = torch.device(\"cpu\")\n",
    "\n",
    "batch_size = 1\n",
    "\n",
    "real_data = np.array([[time_slice]]).astype(np.float32)\n",
    "real_label = np.array([0])\n",
    "\n",
    "real_dataset = utils.CustomDataset(real_data, real_label)\n",
    "real_loader = DataLoader(real_dataset, batch_size=batch_size, shuffle=False)\n"
   ]
  },
  {
   "cell_type": "code",
   "execution_count": 79,
   "id": "57bb2488-2d55-409f-acc3-1301a5ce7340",
   "metadata": {
    "tags": []
   },
   "outputs": [
    {
     "data": {
      "text/plain": [
       "(1, 1, 32, 16)"
      ]
     },
     "execution_count": 79,
     "metadata": {},
     "output_type": "execute_result"
    }
   ],
   "source": [
    "real_data.shape"
   ]
  },
  {
   "cell_type": "code",
   "execution_count": 80,
   "id": "2e9c9a02-bfdd-4052-8197-0e66b972f42b",
   "metadata": {
    "tags": []
   },
   "outputs": [
    {
     "data": {
      "text/plain": [
       "(1,)"
      ]
     },
     "execution_count": 80,
     "metadata": {},
     "output_type": "execute_result"
    }
   ],
   "source": [
    "real_label.shape"
   ]
  },
  {
   "cell_type": "code",
   "execution_count": 60,
   "id": "040b8f7a-27be-49c2-badb-557c9d8e09a4",
   "metadata": {
    "tags": []
   },
   "outputs": [
    {
     "data": {
      "text/plain": [
       "(2873, 1, 32, 16)"
      ]
     },
     "execution_count": 60,
     "metadata": {},
     "output_type": "execute_result"
    }
   ],
   "source": [
    "feats = np.load(os.path.join(CONFIG.PATH_PROCESSED, f\"train_feats_32x16.npy\")).astype(np.float32)\n",
    "\n",
    "feats.shape"
   ]
  },
  {
   "cell_type": "code",
   "execution_count": 61,
   "id": "487c21a2-05e0-43f2-a414-0cf15f44e86f",
   "metadata": {
    "tags": []
   },
   "outputs": [
    {
     "data": {
      "text/plain": [
       "array([0., 1., 0., ..., 0., 0., 0.], dtype=float32)"
      ]
     },
     "execution_count": 61,
     "metadata": {},
     "output_type": "execute_result"
    }
   ],
   "source": [
    "labels = np.load(os.path.join(CONFIG.PATH_PROCESSED, f\"train_labels_32x16.npy\")).astype(np.float32)\n",
    "\n",
    "labels.shape\n",
    "\n",
    "labels"
   ]
  },
  {
   "cell_type": "code",
   "execution_count": 62,
   "id": "5218c257-0698-4f50-a62d-1605f1940e8a",
   "metadata": {
    "tags": []
   },
   "outputs": [
    {
     "data": {
      "text/plain": [
       "(1,)"
      ]
     },
     "execution_count": 62,
     "metadata": {},
     "output_type": "execute_result"
    }
   ],
   "source": [
    "real_data.shape\n",
    "real_label.shape"
   ]
  },
  {
   "cell_type": "code",
   "execution_count": 66,
   "id": "65fc466f-0222-433e-8921-a699b829df57",
   "metadata": {
    "tags": []
   },
   "outputs": [
    {
     "name": "stdout",
     "output_type": "stream",
     "text": [
      "tensor([0])\n"
     ]
    }
   ],
   "source": [
    "\n",
    "\n",
    "for batch in real_loader:\n",
    "    inputs, labels = batch[\"data\"].to(device), batch[\"label\"].to(device)\n",
    "    outputs = model(inputs)\n",
    "    _, predicted = torch.max(outputs.data, 1)\n",
    "    print(predicted)"
   ]
  },
  {
   "cell_type": "code",
   "execution_count": 67,
   "id": "b0d8e519-5aab-440a-b0dc-67c76468f583",
   "metadata": {
    "tags": []
   },
   "outputs": [
    {
     "data": {
      "text/plain": [
       "tensor([0])"
      ]
     },
     "execution_count": 67,
     "metadata": {},
     "output_type": "execute_result"
    }
   ],
   "source": [
    "predicted"
   ]
  },
  {
   "cell_type": "code",
   "execution_count": 76,
   "id": "bf05af38-1c0d-408e-bead-992d0af82329",
   "metadata": {
    "tags": []
   },
   "outputs": [
    {
     "name": "stderr",
     "output_type": "stream",
     "text": [
      "100%|█████████████████████████████████████████████████████████████████████████████████████████████| 1749/1749 [00:16<00:00, 103.62it/s]\n"
     ]
    }
   ],
   "source": [
    "from tqdm import tqdm\n",
    "\n",
    "for ce_slice_one_node in ce_slices:\n",
    "    ces = []\n",
    "    for ce in tqdm(ce_slice_one_node):\n",
    "        real_data = np.array([[ce]]).astype(np.float32)\n",
    "        real_label = np.array([0])\n",
    "\n",
    "        real_dataset = utils.CustomDataset(real_data, real_label)\n",
    "        real_loader = DataLoader(real_dataset, batch_size=batch_size, shuffle=False)\n",
    "\n",
    "        for batch in real_loader:\n",
    "            inputs, labels = batch[\"data\"].to(device), batch[\"label\"].to(device)\n",
    "            outputs = model(inputs)\n",
    "            _, predicted = torch.max(outputs.data, 1)\n",
    "            if predicted == 1:\n",
    "                ces.append(ce)\n",
    "                \n",
    "    "
   ]
  },
  {
   "cell_type": "code",
   "execution_count": 77,
   "id": "7e77210b-966b-4a37-bc14-c62e3ced6923",
   "metadata": {
    "tags": []
   },
   "outputs": [
    {
     "data": {
      "text/plain": [
       "0"
      ]
     },
     "execution_count": 77,
     "metadata": {},
     "output_type": "execute_result"
    }
   ],
   "source": [
    "len(ces)"
   ]
  },
  {
   "cell_type": "code",
   "execution_count": null,
   "id": "60bf92b2-fce7-422a-8903-2814440750f5",
   "metadata": {},
   "outputs": [],
   "source": []
  }
 ],
 "metadata": {
  "kernelspec": {
   "display_name": "dram-py310",
   "language": "python",
   "name": "dram-py310"
  },
  "language_info": {
   "codemirror_mode": {
    "name": "ipython",
    "version": 3
   },
   "file_extension": ".py",
   "mimetype": "text/x-python",
   "name": "python",
   "nbconvert_exporter": "python",
   "pygments_lexer": "ipython3",
   "version": "3.10.12"
  }
 },
 "nbformat": 4,
 "nbformat_minor": 5
}
