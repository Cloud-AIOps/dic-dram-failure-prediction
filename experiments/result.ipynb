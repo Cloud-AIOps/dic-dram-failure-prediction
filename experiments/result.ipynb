{
 "cells": [
  {
   "cell_type": "code",
   "execution_count": 36,
   "id": "5fb559f7-b8e7-4e49-9541-f365680afef1",
   "metadata": {
    "tags": []
   },
   "outputs": [],
   "source": [
    "import os\n",
    "import pandas as pd\n",
    "from tqdm import tqdm\n",
    "import numpy as np\n",
    "import warnings\n",
    "from sklearn.metrics import accuracy_score, precision_score, recall_score\n",
    "\n",
    "import config as CONFIG\n",
    "warnings.filterwarnings(\"ignore\")"
   ]
  },
  {
   "cell_type": "code",
   "execution_count": 10,
   "id": "537b59f0-c3ff-4234-9ffd-ec3ced11fd4c",
   "metadata": {
    "tags": []
   },
   "outputs": [
    {
     "name": "stderr",
     "output_type": "stream",
     "text": [
      "  0%|                                                                                               | 0/1906 [00:00<?, ?it/s]\n"
     ]
    }
   ],
   "source": [
    "lens = []\n",
    "reals = []\n",
    "preds = []\n",
    "\n",
    "for i in range(0, 31):\n",
    "    if i == 22:\n",
    "        continue\n",
    "    df = pd.read_csv(os.path.join(CONFIG.PATH_PROCESSED, f\"mcelog_{i}.csv\"))\n",
    "    df = df.fillna(-1)\n",
    "    hosts = df[\"sid\"].drop_duplicates().to_list()\n",
    "    for host in tqdm(hosts):\n",
    "        host_df = df[df[\"sid\"] == host]\n",
    "        lens.append(len(host_df))\n",
    "        \n",
    "        if host_df[\"failure_type\"].sum() < 0:\n",
    "            reals.append(0)\n",
    "        else:\n",
    "            reals.append(1)\n",
    "            \n",
    "        break\n",
    "            \n",
    "    break"
   ]
  },
  {
   "cell_type": "code",
   "execution_count": 13,
   "id": "a37ad716-b787-4248-b705-27d8f218041d",
   "metadata": {
    "tags": []
   },
   "outputs": [
    {
     "name": "stderr",
     "output_type": "stream",
     "text": [
      "100%|████████████████████████████████████████████████████████████████████████████████████| 1906/1906 [04:07<00:00,  7.69it/s]\n"
     ]
    }
   ],
   "source": [
    "for host in tqdm(hosts):\n",
    "        host_df = df[df[\"sid\"] == host]\n",
    "        lens.append(len(host_df))\n",
    "        \n",
    "        if host_df[\"failure_type\"].sum() < 0:\n",
    "            reals.append(0)\n",
    "        else:\n",
    "            reals.append(1)"
   ]
  },
  {
   "cell_type": "code",
   "execution_count": null,
   "id": "11d1ff5e-8e49-4dfe-9bc5-dea29e1d8469",
   "metadata": {
    "tags": []
   },
   "outputs": [],
   "source": []
  },
  {
   "cell_type": "code",
   "execution_count": 21,
   "id": "a3629d00-721d-4af1-a34d-117f4ff0fa9e",
   "metadata": {
    "tags": []
   },
   "outputs": [],
   "source": [
    "alllens = []\n",
    "allreals = []\n",
    "allpreds = []\n",
    "\n",
    "for i in range(0, 31):\n",
    "    if i == 22:\n",
    "        continue\n",
    "    lens = np.load(f\"__lens_{i}.npy\")\n",
    "    reals = np.load(f\"__reals_{i}.npy\")\n",
    "    alllens.extend(lens.tolist())\n",
    "    allreals.extend(reals.tolist())\n"
   ]
  },
  {
   "cell_type": "code",
   "execution_count": 23,
   "id": "cef02925-44f2-4b87-bb2d-eb7fb779c308",
   "metadata": {
    "tags": []
   },
   "outputs": [
    {
     "data": {
      "text/plain": [
       "30264"
      ]
     },
     "execution_count": 23,
     "metadata": {},
     "output_type": "execute_result"
    }
   ],
   "source": [
    "len(allreals)"
   ]
  },
  {
   "cell_type": "code",
   "execution_count": 52,
   "id": "cd115de0-edb3-4d63-a7d6-11bc42ad1b98",
   "metadata": {
    "tags": []
   },
   "outputs": [
    {
     "data": {
      "text/plain": [
       "566"
      ]
     },
     "execution_count": 52,
     "metadata": {},
     "output_type": "execute_result"
    }
   ],
   "source": [
    "sum(allreals)"
   ]
  },
  {
   "cell_type": "code",
   "execution_count": 54,
   "id": "c7545bae-bab2-47de-a88f-c3c0c29559b6",
   "metadata": {
    "tags": []
   },
   "outputs": [
    {
     "data": {
      "text/plain": [
       "40554753"
      ]
     },
     "execution_count": 54,
     "metadata": {},
     "output_type": "execute_result"
    }
   ],
   "source": [
    "sum(alllens)"
   ]
  },
  {
   "cell_type": "code",
   "execution_count": 26,
   "id": "3e294058-8c83-441d-b748-13962e4ed5a7",
   "metadata": {
    "tags": []
   },
   "outputs": [
    {
     "name": "stderr",
     "output_type": "stream",
     "text": [
      "100%|████████████████████████████████████████████████████████████████████████████████████████| 70/70 [00:08<00:00,  8.02it/s]\n"
     ]
    }
   ],
   "source": [
    "d = {}\n",
    "\n",
    "for threshold in tqdm(range(0, 7000, 100)):\n",
    "    allpreds = []\n",
    "    for i in range(len(alllens)):\n",
    "        if alllens[i] >= threshold:\n",
    "            allpreds.append(1)\n",
    "        else:\n",
    "            allpreds.append(0)\n",
    "    precision = precision_score(allreals, allpreds)\n",
    "    recall = recall_score(allreals, allpreds)\n",
    "    d[threshold] = [precision, recall]"
   ]
  },
  {
   "cell_type": "code",
   "execution_count": 27,
   "id": "4f5bec33-a167-4c82-8364-f4d6a0f4bb36",
   "metadata": {
    "tags": []
   },
   "outputs": [
    {
     "data": {
      "text/plain": [
       "{0: [0.018702088289717155, 1.0],\n",
       " 100: [0.029104343124887366, 0.5706713780918727],\n",
       " 200: [0.029500932835820896, 0.4469964664310954],\n",
       " 300: [0.03228371501272265, 0.3586572438162544],\n",
       " 400: [0.03023418385180007, 0.30565371024734983],\n",
       " 500: [0.028697149416491294, 0.26501766784452296],\n",
       " 600: [0.026954177897574125, 0.22968197879858657],\n",
       " 700: [0.024939306996248068, 0.19964664310954064],\n",
       " 800: [0.02363507445048452, 0.17667844522968199],\n",
       " 900: [0.024138798089011818, 0.1696113074204947],\n",
       " 1000: [0.023630504833512353, 0.15547703180212014],\n",
       " 1100: [0.021609326130224624, 0.13427561837455831],\n",
       " 1200: [0.020964360587002098, 0.12367491166077739],\n",
       " 1300: [0.02126309108219613, 0.11837455830388692],\n",
       " 1400: [0.020819341840161182, 0.10954063604240283],\n",
       " 1500: [0.020480225988700564, 0.10247349823321555],\n",
       " 1600: [0.01845699520118125, 0.08833922261484099],\n",
       " 1700: [0.01794771751853297, 0.0812720848056537],\n",
       " 1800: [0.016549441456350848, 0.0706713780918728],\n",
       " 1900: [0.016810540663334848, 0.06537102473498234],\n",
       " 2000: [0.018458197611292075, 0.06007067137809187],\n",
       " 2100: [0.026690391459074734, 0.053003533568904596],\n",
       " 2200: [0.026119402985074626, 0.04946996466431095],\n",
       " 2300: [0.02274975272007913, 0.04063604240282685],\n",
       " 2400: [0.02079002079002079, 0.0353356890459364],\n",
       " 2500: [0.01818181818181818, 0.030035335689045935],\n",
       " 2600: [0.018660812294182216, 0.030035335689045935],\n",
       " 2700: [0.016930022573363433, 0.026501766784452298],\n",
       " 2800: [0.016203703703703703, 0.024734982332155476],\n",
       " 2900: [0.015402843601895734, 0.022968197879858657],\n",
       " 3000: [0.014687882496940025, 0.02120141342756184],\n",
       " 3100: [0.012755102040816327, 0.0176678445229682],\n",
       " 3200: [0.010666666666666666, 0.014134275618374558],\n",
       " 3300: [0.007267441860465116, 0.0088339222614841],\n",
       " 3400: [0.006015037593984963, 0.007067137809187279],\n",
       " 3500: [0.006172839506172839, 0.007067137809187279],\n",
       " 3600: [0.00644122383252818, 0.007067137809187279],\n",
       " 3700: [0.005136986301369863, 0.00530035335689046],\n",
       " 3800: [0.0056179775280898875, 0.00530035335689046],\n",
       " 3900: [0.006160164271047228, 0.00530035335689046],\n",
       " 4000: [0.006741573033707865, 0.00530035335689046],\n",
       " 4100: [0.007371007371007371, 0.00530035335689046],\n",
       " 4200: [0.0076726342710997444, 0.00530035335689046],\n",
       " 4300: [0.008108108108108109, 0.00530035335689046],\n",
       " 4400: [0.009316770186335404, 0.00530035335689046],\n",
       " 4500: [0.00946372239747634, 0.00530035335689046],\n",
       " 4600: [0.00974025974025974, 0.00530035335689046],\n",
       " 4700: [0.01, 0.00530035335689046],\n",
       " 4800: [0.010169491525423728, 0.00530035335689046],\n",
       " 4900: [0.010344827586206896, 0.00530035335689046],\n",
       " 5000: [0.01048951048951049, 0.00530035335689046],\n",
       " 5100: [0.010676156583629894, 0.00530035335689046],\n",
       " 5200: [0.01090909090909091, 0.00530035335689046],\n",
       " 5300: [0.011152416356877323, 0.00530035335689046],\n",
       " 5400: [0.011320754716981131, 0.00530035335689046],\n",
       " 5500: [0.007633587786259542, 0.0035335689045936395],\n",
       " 5600: [0.007782101167315175, 0.0035335689045936395],\n",
       " 5700: [0.007905138339920948, 0.0035335689045936395],\n",
       " 5800: [0.007936507936507936, 0.0035335689045936395],\n",
       " 5900: [0.008032128514056224, 0.0035335689045936395],\n",
       " 6000: [0.00816326530612245, 0.0035335689045936395],\n",
       " 6100: [0.00823045267489712, 0.0035335689045936395],\n",
       " 6200: [0.004166666666666667, 0.0017667844522968198],\n",
       " 6300: [0.004219409282700422, 0.0017667844522968198],\n",
       " 6400: [0.00425531914893617, 0.0017667844522968198],\n",
       " 6500: [0.004291845493562232, 0.0017667844522968198],\n",
       " 6600: [0.0, 0.0],\n",
       " 6700: [0.0, 0.0],\n",
       " 6800: [0.0, 0.0],\n",
       " 6900: [0.0, 0.0]}"
      ]
     },
     "execution_count": 27,
     "metadata": {},
     "output_type": "execute_result"
    }
   ],
   "source": [
    "d"
   ]
  },
  {
   "cell_type": "code",
   "execution_count": 46,
   "id": "c91838a9-5df9-4fc9-8c80-c66cc789bd27",
   "metadata": {
    "tags": []
   },
   "outputs": [
    {
     "name": "stderr",
     "output_type": "stream",
     "text": [
      "findfont: Generic family 'sans-serif' not found because none of the following families were found: \n",
      "findfont: Generic family 'sans-serif' not found because none of the following families were found: \n",
      "findfont: Generic family 'sans-serif' not found because none of the following families were found: \n",
      "findfont: Generic family 'sans-serif' not found because none of the following families were found: \n",
      "findfont: Generic family 'sans-serif' not found because none of the following families were found: \n",
      "findfont: Generic family 'sans-serif' not found because none of the following families were found: \n",
      "findfont: Generic family 'sans-serif' not found because none of the following families were found: \n",
      "findfont: Generic family 'sans-serif' not found because none of the following families were found: \n",
      "findfont: Generic family 'sans-serif' not found because none of the following families were found: \n",
      "findfont: Generic family 'sans-serif' not found because none of the following families were found: \n",
      "findfont: Generic family 'sans-serif' not found because none of the following families were found: \n",
      "findfont: Generic family 'sans-serif' not found because none of the following families were found: \n",
      "findfont: Generic family 'sans-serif' not found because none of the following families were found: \n",
      "findfont: Generic family 'sans-serif' not found because none of the following families were found: \n",
      "findfont: Generic family 'sans-serif' not found because none of the following families were found: \n",
      "findfont: Generic family 'sans-serif' not found because none of the following families were found: \n",
      "findfont: Generic family 'sans-serif' not found because none of the following families were found: \n",
      "findfont: Generic family 'sans-serif' not found because none of the following families were found: \n",
      "findfont: Generic family 'sans-serif' not found because none of the following families were found: \n",
      "findfont: Generic family 'sans-serif' not found because none of the following families were found: \n",
      "findfont: Generic family 'sans-serif' not found because none of the following families were found: \n",
      "findfont: Generic family 'sans-serif' not found because none of the following families were found: \n",
      "findfont: Generic family 'sans-serif' not found because none of the following families were found: \n",
      "findfont: Generic family 'sans-serif' not found because none of the following families were found: \n",
      "findfont: Generic family 'sans-serif' not found because none of the following families were found: \n",
      "findfont: Generic family 'sans-serif' not found because none of the following families were found: \n",
      "findfont: Generic family 'sans-serif' not found because none of the following families were found: \n",
      "findfont: Generic family 'sans-serif' not found because none of the following families were found: \n",
      "findfont: Generic family 'sans-serif' not found because none of the following families were found: \n",
      "findfont: Generic family 'sans-serif' not found because none of the following families were found: \n",
      "findfont: Generic family 'sans-serif' not found because none of the following families were found: \n",
      "findfont: Generic family 'sans-serif' not found because none of the following families were found: \n",
      "findfont: Generic family 'sans-serif' not found because none of the following families were found: \n",
      "findfont: Generic family 'sans-serif' not found because none of the following families were found: \n",
      "findfont: Generic family 'sans-serif' not found because none of the following families were found: \n",
      "findfont: Generic family 'sans-serif' not found because none of the following families were found: \n",
      "findfont: Generic family 'sans-serif' not found because none of the following families were found: \n",
      "findfont: Generic family 'sans-serif' not found because none of the following families were found: \n",
      "findfont: Generic family 'sans-serif' not found because none of the following families were found: \n",
      "findfont: Generic family 'sans-serif' not found because none of the following families were found: \n",
      "findfont: Generic family 'sans-serif' not found because none of the following families were found: \n",
      "findfont: Generic family 'sans-serif' not found because none of the following families were found: \n",
      "findfont: Generic family 'sans-serif' not found because none of the following families were found: \n",
      "findfont: Generic family 'sans-serif' not found because none of the following families were found: \n",
      "findfont: Generic family 'sans-serif' not found because none of the following families were found: \n",
      "findfont: Generic family 'sans-serif' not found because none of the following families were found: \n",
      "findfont: Generic family 'sans-serif' not found because none of the following families were found: \n",
      "findfont: Generic family 'sans-serif' not found because none of the following families were found: \n",
      "findfont: Generic family 'sans-serif' not found because none of the following families were found: \n",
      "findfont: Generic family 'sans-serif' not found because none of the following families were found: \n",
      "findfont: Generic family 'sans-serif' not found because none of the following families were found: \n",
      "findfont: Generic family 'sans-serif' not found because none of the following families were found: \n",
      "findfont: Generic family 'sans-serif' not found because none of the following families were found: \n",
      "findfont: Generic family 'sans-serif' not found because none of the following families were found: \n",
      "findfont: Generic family 'sans-serif' not found because none of the following families were found: \n",
      "findfont: Generic family 'sans-serif' not found because none of the following families were found: \n",
      "findfont: Generic family 'sans-serif' not found because none of the following families were found: \n",
      "findfont: Generic family 'sans-serif' not found because none of the following families were found: \n",
      "findfont: Generic family 'sans-serif' not found because none of the following families were found: \n",
      "findfont: Generic family 'sans-serif' not found because none of the following families were found: \n",
      "findfont: Generic family 'sans-serif' not found because none of the following families were found: \n",
      "findfont: Generic family 'sans-serif' not found because none of the following families were found: \n",
      "findfont: Generic family 'sans-serif' not found because none of the following families were found: \n",
      "findfont: Generic family 'sans-serif' not found because none of the following families were found: \n",
      "findfont: Generic family 'sans-serif' not found because none of the following families were found: \n",
      "findfont: Generic family 'sans-serif' not found because none of the following families were found: \n",
      "findfont: Generic family 'sans-serif' not found because none of the following families were found: \n",
      "findfont: Generic family 'sans-serif' not found because none of the following families were found: \n",
      "findfont: Generic family 'sans-serif' not found because none of the following families were found: \n",
      "findfont: Generic family 'sans-serif' not found because none of the following families were found: \n",
      "findfont: Generic family 'sans-serif' not found because none of the following families were found: \n",
      "findfont: Generic family 'sans-serif' not found because none of the following families were found: \n",
      "findfont: Generic family 'sans-serif' not found because none of the following families were found: \n",
      "findfont: Generic family 'sans-serif' not found because none of the following families were found: \n",
      "findfont: Generic family 'sans-serif' not found because none of the following families were found: \n",
      "findfont: Generic family 'sans-serif' not found because none of the following families were found: \n",
      "findfont: Generic family 'sans-serif' not found because none of the following families were found: \n",
      "findfont: Generic family 'sans-serif' not found because none of the following families were found: \n",
      "findfont: Generic family 'sans-serif' not found because none of the following families were found: \n",
      "findfont: Generic family 'sans-serif' not found because none of the following families were found: \n",
      "findfont: Generic family 'sans-serif' not found because none of the following families were found: \n",
      "findfont: Generic family 'sans-serif' not found because none of the following families were found: \n",
      "findfont: Generic family 'sans-serif' not found because none of the following families were found: \n",
      "findfont: Generic family 'sans-serif' not found because none of the following families were found: \n",
      "findfont: Generic family 'sans-serif' not found because none of the following families were found: \n",
      "findfont: Generic family 'sans-serif' not found because none of the following families were found: \n",
      "findfont: Generic family 'sans-serif' not found because none of the following families were found: \n",
      "findfont: Generic family 'sans-serif' not found because none of the following families were found: \n",
      "findfont: Generic family 'sans-serif' not found because none of the following families were found: \n",
      "findfont: Generic family 'sans-serif' not found because none of the following families were found: \n",
      "findfont: Generic family 'sans-serif' not found because none of the following families were found: \n",
      "findfont: Generic family 'sans-serif' not found because none of the following families were found: \n",
      "findfont: Generic family 'sans-serif' not found because none of the following families were found: \n",
      "findfont: Generic family 'sans-serif' not found because none of the following families were found: \n",
      "findfont: Generic family 'sans-serif' not found because none of the following families were found: \n",
      "findfont: Generic family 'sans-serif' not found because none of the following families were found: \n",
      "findfont: Generic family 'sans-serif' not found because none of the following families were found: \n",
      "findfont: Generic family 'sans-serif' not found because none of the following families were found: \n",
      "findfont: Generic family 'sans-serif' not found because none of the following families were found: \n",
      "findfont: Generic family 'sans-serif' not found because none of the following families were found: \n",
      "findfont: Generic family 'sans-serif' not found because none of the following families were found: \n",
      "findfont: Generic family 'sans-serif' not found because none of the following families were found: \n",
      "findfont: Generic family 'sans-serif' not found because none of the following families were found: \n",
      "findfont: Generic family 'sans-serif' not found because none of the following families were found: \n",
      "findfont: Generic family 'sans-serif' not found because none of the following families were found: \n",
      "findfont: Generic family 'sans-serif' not found because none of the following families were found: \n",
      "findfont: Generic family 'sans-serif' not found because none of the following families were found: \n",
      "findfont: Generic family 'sans-serif' not found because none of the following families were found: \n",
      "findfont: Generic family 'sans-serif' not found because none of the following families were found: \n",
      "findfont: Generic family 'sans-serif' not found because none of the following families were found: \n",
      "findfont: Generic family 'sans-serif' not found because none of the following families were found: \n",
      "findfont: Generic family 'sans-serif' not found because none of the following families were found: \n",
      "findfont: Generic family 'sans-serif' not found because none of the following families were found: \n",
      "findfont: Generic family 'sans-serif' not found because none of the following families were found: \n",
      "findfont: Generic family 'sans-serif' not found because none of the following families were found: \n",
      "findfont: Generic family 'sans-serif' not found because none of the following families were found: \n",
      "findfont: Generic family 'sans-serif' not found because none of the following families were found: \n",
      "findfont: Generic family 'sans-serif' not found because none of the following families were found: \n",
      "findfont: Generic family 'sans-serif' not found because none of the following families were found: \n",
      "findfont: Generic family 'sans-serif' not found because none of the following families were found: \n",
      "findfont: Generic family 'sans-serif' not found because none of the following families were found: \n",
      "findfont: Generic family 'sans-serif' not found because none of the following families were found: \n",
      "findfont: Generic family 'sans-serif' not found because none of the following families were found: \n",
      "findfont: Generic family 'sans-serif' not found because none of the following families were found: \n",
      "findfont: Generic family 'sans-serif' not found because none of the following families were found: \n",
      "findfont: Generic family 'sans-serif' not found because none of the following families were found: \n",
      "findfont: Generic family 'sans-serif' not found because none of the following families were found: \n",
      "findfont: Generic family 'sans-serif' not found because none of the following families were found: \n",
      "findfont: Generic family 'sans-serif' not found because none of the following families were found: \n",
      "findfont: Generic family 'sans-serif' not found because none of the following families were found: \n",
      "findfont: Generic family 'sans-serif' not found because none of the following families were found: \n",
      "findfont: Generic family 'sans-serif' not found because none of the following families were found: \n",
      "findfont: Generic family 'sans-serif' not found because none of the following families were found: \n",
      "findfont: Generic family 'sans-serif' not found because none of the following families were found: \n",
      "findfont: Generic family 'sans-serif' not found because none of the following families were found: \n",
      "findfont: Generic family 'sans-serif' not found because none of the following families were found: \n",
      "findfont: Generic family 'sans-serif' not found because none of the following families were found: \n",
      "findfont: Generic family 'sans-serif' not found because none of the following families were found: \n",
      "findfont: Generic family 'sans-serif' not found because none of the following families were found: \n",
      "findfont: Generic family 'sans-serif' not found because none of the following families were found: \n",
      "findfont: Generic family 'sans-serif' not found because none of the following families were found: \n",
      "findfont: Generic family 'sans-serif' not found because none of the following families were found: \n",
      "findfont: Generic family 'sans-serif' not found because none of the following families were found: \n",
      "findfont: Generic family 'sans-serif' not found because none of the following families were found: \n",
      "findfont: Generic family 'sans-serif' not found because none of the following families were found: \n"
     ]
    },
    {
     "data": {
      "image/png": "[encoded data removed]",
      "text/plain": [
       "<Figure size 1000x600 with 1 Axes>"
      ]
     },
     "metadata": {},
     "output_type": "display_data"
    }
   ],
   "source": [
    "import matplotlib.pyplot as plt\n",
    "warnings.filterwarnings(\"ignore\")\n",
    "data = d\n",
    "\n",
    "keys = list(data.keys())\n",
    "values = list(data.values())\n",
    "y1 = [val[0] for val in values]\n",
    "y2 = [val[1] for val in values]\n",
    "\n",
    "plt.figure(figsize=(10, 6))  # 设置图形大小\n",
    "\n",
    "plt.bar(keys, y1, width=50, label='precision', align='center', color='blue')\n",
    "plt.bar(keys, y2, width=50, label='recall', align='edge', color='orange', alpha=0.7)\n",
    "\n",
    "plt.xlabel('threshold')\n",
    "plt.ylabel('value')\n",
    "plt.title('PAPER [SRDS 2022] - dataset')\n",
    "plt.legend()\n",
    "plt.savefig(\"PAPER[SRDS-2022].png\")\n",
    "plt.show()\n",
    "# plt.savefig(\"PAPER[SRDS-2022].png\")"
   ]
  },
  {
   "cell_type": "code",
   "execution_count": 49,
   "id": "84e8c5e9-08d8-42ea-9c8f-c67d74b776c3",
   "metadata": {
    "tags": []
   },
   "outputs": [],
   "source": [
    "\n",
    "\n",
    "\n",
    "d_ali = {}\n",
    "\n",
    "with open(\"ali.txt\", \"r\") as f:\n",
    "    lines = f.readlines()\n",
    "    for line in lines:\n",
    "        line = line.replace(\"\\n\", \"\")\n",
    "        line_list = line.split(\"\\t\")\n",
    "        k = int(line_list[0].split(\":\")[1].replace(\" \", \"\").replace(\",\",\"\"))\n",
    "        v1 = float(line_list[1].split(\":\")[1].replace(\" \", \"\").replace(\",\",\"\"))\n",
    "        v2 = float(line_list[2].split(\":\")[1].replace(\" \", \"\").replace(\",\",\"\"))\n",
    "        d_ali[k] = [v1, v2]"
   ]
  },
  {
   "cell_type": "code",
   "execution_count": 50,
   "id": "12b4fdf2-fca7-487f-bd0d-c6a365c80113",
   "metadata": {
    "tags": []
   },
   "outputs": [
    {
     "data": {
      "text/plain": [
       "{200: [0.13191489361702127, 0.6846625766871166],\n",
       " 100: [0.11265490048817124, 0.7361963190184049],\n",
       " 300: [0.14034931384779897, 0.6441717791411042],\n",
       " 400: [0.14432239761402488, 0.6085889570552148],\n",
       " 500: [0.14622758964143426, 0.5764417177914111],\n",
       " 600: [0.14687276527861817, 0.5460122699386503],\n",
       " 700: [0.1465205098953425, 0.5177914110429448],\n",
       " 800: [0.14575855331909673, 0.4920245398773006],\n",
       " 900: [0.14467368421052632, 0.4684389911383776],\n",
       " 1000: [0.14312721543914927, 0.44588957055214723],\n",
       " 1100: [0.1413075780089153, 0.42431678750697155],\n",
       " 1200: [0.1390985398885519, 0.4032719836400818],\n",
       " 1300: [0.137023196310137, 0.38414346389806514],\n",
       " 1400: [0.13503308052283364, 0.36669588080631027],\n",
       " 1500: [0.13308280017392385, 0.3505112474437628],\n",
       " 1600: [0.13132645718397698, 0.33588957055214724],\n",
       " 1700: [0.12963715529753267, 0.32233850595452906],\n",
       " 1800: [0.12810685904300287, 0.30988411724608045],\n",
       " 1900: [0.12679031992536904, 0.2984178237003552],\n",
       " 2000: [0.12581519551273448, 0.2876073619631902],\n",
       " 2100: [0.12585836625394384, 0.2773590417762197],\n",
       " 2200: [0.12582226065990512, 0.26776352481873955],\n",
       " 2300: [0.1257843696520251, 0.2587890104027741],\n",
       " 2400: [0.1256802546462676, 0.25030674846625767],\n",
       " 2500: [0.12560067122625918, 0.24245398773006135],\n",
       " 2600: [0.12548179871520343, 0.23506370929683812],\n",
       " 2700: [0.12536523237519667, 0.2281299704612588],\n",
       " 2800: [0.12520739951957605, 0.22156003505696759],\n",
       " 2900: [0.125049125564944, 0.21540088851279882],\n",
       " 3000: [0.12489642735292684, 0.20961145194274028],\n",
       " 3100: [0.12470975232198142, 0.20407678606768256],\n",
       " 3200: [0.12453772633398973, 0.19884969325153373],\n",
       " 3300: [0.12435294959566805, 0.19382784904257297],\n",
       " 3400: [0.1241675159386628, 0.18906531937928545],\n",
       " 3500: [0.12398426643427468, 0.1845398773006135],\n",
       " 3600: [0.12380015919838928, 0.18023176550783912],\n",
       " 3700: [0.12365854226319342, 0.17615652462278228],\n",
       " 3800: [0.12357572950440018, 0.17229577010009686],\n",
       " 3900: [0.12358203449229918, 0.16863300298883122],\n",
       " 4000: [0.12361098356139223, 0.16515337423312884],\n",
       " 4100: [0.12364226749902815, 0.1618135567858746],\n",
       " 4200: [0.12369302262010524, 0.1586327782646801],\n",
       " 4300: [0.12376024148339802, 0.1555999429305179],\n",
       " 4400: [0.12389420575126134, 0.15270496374790854],\n",
       " 4500: [0.12403572878603329, 0.14993865030674847],\n",
       " 4600: [0.12418756325199595, 0.14729261136303015],\n",
       " 4700: [0.12432165762210162, 0.1447330635687247],\n",
       " 4800: [0.1244577612808014, 0.142280163599182],\n",
       " 4900: [0.12459864430966822, 0.1399273819957431],\n",
       " 5000: [0.12474428533309614, 0.1376687116564417],\n",
       " 5100: [0.12489189488856858, 0.13549861662456394],\n",
       " 5200: [0.12501935112900014, 0.13338839075035394],\n",
       " 5300: [0.12513510532701003, 0.1313346452135664],\n",
       " 5400: [0.1252557699500561, 0.1293569643262895],\n",
       " 5500: [0.12537582022077381, 0.12745119910764083],\n",
       " 5600: [0.12550350262697021, 0.12561349693251533],\n",
       " 5700: [0.12563329839273235, 0.12384027553546442],\n",
       " 5800: [0.12574889435960002, 0.1221070446371906],\n",
       " 5900: [0.1258694140149539, 0.12043256732868877],\n",
       " 6000: [0.12597042113024245, 0.11879345603271983],\n",
       " 6100: [0.12607369263722712, 0.11720808609071709],\n",
       " 6200: [0.12617921982600436, 0.1156738571145854],\n",
       " 6300: [0.12628699435661053, 0.11418833382023566],\n",
       " 6400: [0.12637823199432588, 0.11273006134969325],\n",
       " 6500: [0.12645576407506703, 0.1112977819726286],\n",
       " 6600: [0.12653297091368276, 0.10990890500092954],\n",
       " 6700: [0.12659660814216755, 0.10854317370204193],\n",
       " 6800: [0.1266599876366892, 0.10721761097076868],\n",
       " 6900: [0.12672311095983663, 0.10593047034764826]}"
      ]
     },
     "execution_count": 50,
     "metadata": {},
     "output_type": "execute_result"
    }
   ],
   "source": [
    "d_ali"
   ]
  },
  {
   "cell_type": "code",
   "execution_count": 51,
   "id": "4f7c531b-e47a-4d11-818c-7e57b6debfad",
   "metadata": {
    "tags": []
   },
   "outputs": [
    {
     "name": "stderr",
     "output_type": "stream",
     "text": [
      "findfont: Generic family 'sans-serif' not found because none of the following families were found: \n",
      "findfont: Generic family 'sans-serif' not found because none of the following families were found: \n",
      "findfont: Generic family 'sans-serif' not found because none of the following families were found: \n",
      "findfont: Generic family 'sans-serif' not found because none of the following families were found: \n",
      "findfont: Generic family 'sans-serif' not found because none of the following families were found: \n",
      "findfont: Generic family 'sans-serif' not found because none of the following families were found: \n",
      "findfont: Generic family 'sans-serif' not found because none of the following families were found: \n",
      "findfont: Generic family 'sans-serif' not found because none of the following families were found: \n",
      "findfont: Generic family 'sans-serif' not found because none of the following families were found: \n",
      "findfont: Generic family 'sans-serif' not found because none of the following families were found: \n",
      "findfont: Generic family 'sans-serif' not found because none of the following families were found: \n",
      "findfont: Generic family 'sans-serif' not found because none of the following families were found: \n",
      "findfont: Generic family 'sans-serif' not found because none of the following families were found: \n",
      "findfont: Generic family 'sans-serif' not found because none of the following families were found: \n",
      "findfont: Generic family 'sans-serif' not found because none of the following families were found: \n",
      "findfont: Generic family 'sans-serif' not found because none of the following families were found: \n",
      "findfont: Generic family 'sans-serif' not found because none of the following families were found: \n",
      "findfont: Generic family 'sans-serif' not found because none of the following families were found: \n",
      "findfont: Generic family 'sans-serif' not found because none of the following families were found: \n",
      "findfont: Generic family 'sans-serif' not found because none of the following families were found: \n",
      "findfont: Generic family 'sans-serif' not found because none of the following families were found: \n",
      "findfont: Generic family 'sans-serif' not found because none of the following families were found: \n",
      "findfont: Generic family 'sans-serif' not found because none of the following families were found: \n",
      "findfont: Generic family 'sans-serif' not found because none of the following families were found: \n",
      "findfont: Generic family 'sans-serif' not found because none of the following families were found: \n",
      "findfont: Generic family 'sans-serif' not found because none of the following families were found: \n",
      "findfont: Generic family 'sans-serif' not found because none of the following families were found: \n",
      "findfont: Generic family 'sans-serif' not found because none of the following families were found: \n",
      "findfont: Generic family 'sans-serif' not found because none of the following families were found: \n",
      "findfont: Generic family 'sans-serif' not found because none of the following families were found: \n",
      "findfont: Generic family 'sans-serif' not found because none of the following families were found: \n",
      "findfont: Generic family 'sans-serif' not found because none of the following families were found: \n",
      "findfont: Generic family 'sans-serif' not found because none of the following families were found: \n",
      "findfont: Generic family 'sans-serif' not found because none of the following families were found: \n",
      "findfont: Generic family 'sans-serif' not found because none of the following families were found: \n",
      "findfont: Generic family 'sans-serif' not found because none of the following families were found: \n",
      "findfont: Generic family 'sans-serif' not found because none of the following families were found: \n",
      "findfont: Generic family 'sans-serif' not found because none of the following families were found: \n",
      "findfont: Generic family 'sans-serif' not found because none of the following families were found: \n",
      "findfont: Generic family 'sans-serif' not found because none of the following families were found: \n",
      "findfont: Generic family 'sans-serif' not found because none of the following families were found: \n",
      "findfont: Generic family 'sans-serif' not found because none of the following families were found: \n",
      "findfont: Generic family 'sans-serif' not found because none of the following families were found: \n",
      "findfont: Generic family 'sans-serif' not found because none of the following families were found: \n",
      "findfont: Generic family 'sans-serif' not found because none of the following families were found: \n",
      "findfont: Generic family 'sans-serif' not found because none of the following families were found: \n",
      "findfont: Generic family 'sans-serif' not found because none of the following families were found: \n",
      "findfont: Generic family 'sans-serif' not found because none of the following families were found: \n",
      "findfont: Generic family 'sans-serif' not found because none of the following families were found: \n",
      "findfont: Generic family 'sans-serif' not found because none of the following families were found: \n",
      "findfont: Generic family 'sans-serif' not found because none of the following families were found: \n",
      "findfont: Generic family 'sans-serif' not found because none of the following families were found: \n",
      "findfont: Generic family 'sans-serif' not found because none of the following families were found: \n",
      "findfont: Generic family 'sans-serif' not found because none of the following families were found: \n",
      "findfont: Generic family 'sans-serif' not found because none of the following families were found: \n",
      "findfont: Generic family 'sans-serif' not found because none of the following families were found: \n",
      "findfont: Generic family 'sans-serif' not found because none of the following families were found: \n",
      "findfont: Generic family 'sans-serif' not found because none of the following families were found: \n",
      "findfont: Generic family 'sans-serif' not found because none of the following families were found: \n",
      "findfont: Generic family 'sans-serif' not found because none of the following families were found: \n",
      "findfont: Generic family 'sans-serif' not found because none of the following families were found: \n",
      "findfont: Generic family 'sans-serif' not found because none of the following families were found: \n",
      "findfont: Generic family 'sans-serif' not found because none of the following families were found: \n",
      "findfont: Generic family 'sans-serif' not found because none of the following families were found: \n",
      "findfont: Generic family 'sans-serif' not found because none of the following families were found: \n",
      "findfont: Generic family 'sans-serif' not found because none of the following families were found: \n",
      "findfont: Generic family 'sans-serif' not found because none of the following families were found: \n",
      "findfont: Generic family 'sans-serif' not found because none of the following families were found: \n",
      "findfont: Generic family 'sans-serif' not found because none of the following families were found: \n",
      "findfont: Generic family 'sans-serif' not found because none of the following families were found: \n",
      "findfont: Generic family 'sans-serif' not found because none of the following families were found: \n",
      "findfont: Generic family 'sans-serif' not found because none of the following families were found: \n",
      "findfont: Generic family 'sans-serif' not found because none of the following families were found: \n",
      "findfont: Generic family 'sans-serif' not found because none of the following families were found: \n",
      "findfont: Generic family 'sans-serif' not found because none of the following families were found: \n",
      "findfont: Generic family 'sans-serif' not found because none of the following families were found: \n",
      "findfont: Generic family 'sans-serif' not found because none of the following families were found: \n",
      "findfont: Generic family 'sans-serif' not found because none of the following families were found: \n",
      "findfont: Generic family 'sans-serif' not found because none of the following families were found: \n",
      "findfont: Generic family 'sans-serif' not found because none of the following families were found: \n",
      "findfont: Generic family 'sans-serif' not found because none of the following families were found: \n",
      "findfont: Generic family 'sans-serif' not found because none of the following families were found: \n",
      "findfont: Generic family 'sans-serif' not found because none of the following families were found: \n",
      "findfont: Generic family 'sans-serif' not found because none of the following families were found: \n",
      "findfont: Generic family 'sans-serif' not found because none of the following families were found: \n",
      "findfont: Generic family 'sans-serif' not found because none of the following families were found: \n",
      "findfont: Generic family 'sans-serif' not found because none of the following families were found: \n",
      "findfont: Generic family 'sans-serif' not found because none of the following families were found: \n",
      "findfont: Generic family 'sans-serif' not found because none of the following families were found: \n",
      "findfont: Generic family 'sans-serif' not found because none of the following families were found: \n",
      "findfont: Generic family 'sans-serif' not found because none of the following families were found: \n",
      "findfont: Generic family 'sans-serif' not found because none of the following families were found: \n",
      "findfont: Generic family 'sans-serif' not found because none of the following families were found: \n",
      "findfont: Generic family 'sans-serif' not found because none of the following families were found: \n",
      "findfont: Generic family 'sans-serif' not found because none of the following families were found: \n",
      "findfont: Generic family 'sans-serif' not found because none of the following families were found: \n",
      "findfont: Generic family 'sans-serif' not found because none of the following families were found: \n",
      "findfont: Generic family 'sans-serif' not found because none of the following families were found: \n",
      "findfont: Generic family 'sans-serif' not found because none of the following families were found: \n",
      "findfont: Generic family 'sans-serif' not found because none of the following families were found: \n",
      "findfont: Generic family 'sans-serif' not found because none of the following families were found: \n",
      "findfont: Generic family 'sans-serif' not found because none of the following families were found: \n",
      "findfont: Generic family 'sans-serif' not found because none of the following families were found: \n",
      "findfont: Generic family 'sans-serif' not found because none of the following families were found: \n",
      "findfont: Generic family 'sans-serif' not found because none of the following families were found: \n",
      "findfont: Generic family 'sans-serif' not found because none of the following families were found: \n",
      "findfont: Generic family 'sans-serif' not found because none of the following families were found: \n",
      "findfont: Generic family 'sans-serif' not found because none of the following families were found: \n",
      "findfont: Generic family 'sans-serif' not found because none of the following families were found: \n",
      "findfont: Generic family 'sans-serif' not found because none of the following families were found: \n",
      "findfont: Generic family 'sans-serif' not found because none of the following families were found: \n",
      "findfont: Generic family 'sans-serif' not found because none of the following families were found: \n",
      "findfont: Generic family 'sans-serif' not found because none of the following families were found: \n",
      "findfont: Generic family 'sans-serif' not found because none of the following families were found: \n",
      "findfont: Generic family 'sans-serif' not found because none of the following families were found: \n",
      "findfont: Generic family 'sans-serif' not found because none of the following families were found: \n",
      "findfont: Generic family 'sans-serif' not found because none of the following families were found: \n",
      "findfont: Generic family 'sans-serif' not found because none of the following families were found: \n",
      "findfont: Generic family 'sans-serif' not found because none of the following families were found: \n",
      "findfont: Generic family 'sans-serif' not found because none of the following families were found: \n",
      "findfont: Generic family 'sans-serif' not found because none of the following families were found: \n",
      "findfont: Generic family 'sans-serif' not found because none of the following families were found: \n",
      "findfont: Generic family 'sans-serif' not found because none of the following families were found: \n",
      "findfont: Generic family 'sans-serif' not found because none of the following families were found: \n",
      "findfont: Generic family 'sans-serif' not found because none of the following families were found: \n",
      "findfont: Generic family 'sans-serif' not found because none of the following families were found: \n",
      "findfont: Generic family 'sans-serif' not found because none of the following families were found: \n",
      "findfont: Generic family 'sans-serif' not found because none of the following families were found: \n",
      "findfont: Generic family 'sans-serif' not found because none of the following families were found: \n",
      "findfont: Generic family 'sans-serif' not found because none of the following families were found: \n",
      "findfont: Generic family 'sans-serif' not found because none of the following families were found: \n",
      "findfont: Generic family 'sans-serif' not found because none of the following families were found: \n",
      "findfont: Generic family 'sans-serif' not found because none of the following families were found: \n",
      "findfont: Generic family 'sans-serif' not found because none of the following families were found: \n",
      "findfont: Generic family 'sans-serif' not found because none of the following families were found: \n",
      "findfont: Generic family 'sans-serif' not found because none of the following families were found: \n",
      "findfont: Generic family 'sans-serif' not found because none of the following families were found: \n",
      "findfont: Generic family 'sans-serif' not found because none of the following families were found: \n",
      "findfont: Generic family 'sans-serif' not found because none of the following families were found: \n",
      "findfont: Generic family 'sans-serif' not found because none of the following families were found: \n",
      "findfont: Generic family 'sans-serif' not found because none of the following families were found: \n",
      "findfont: Generic family 'sans-serif' not found because none of the following families were found: \n",
      "findfont: Generic family 'sans-serif' not found because none of the following families were found: \n",
      "findfont: Generic family 'sans-serif' not found because none of the following families were found: \n",
      "findfont: Generic family 'sans-serif' not found because none of the following families were found: \n",
      "findfont: Generic family 'sans-serif' not found because none of the following families were found: \n",
      "findfont: Generic family 'sans-serif' not found because none of the following families were found: \n",
      "findfont: Generic family 'sans-serif' not found because none of the following families were found: \n",
      "findfont: Generic family 'sans-serif' not found because none of the following families were found: \n",
      "findfont: Generic family 'sans-serif' not found because none of the following families were found: \n",
      "findfont: Generic family 'sans-serif' not found because none of the following families were found: \n",
      "findfont: Generic family 'sans-serif' not found because none of the following families were found: \n",
      "findfont: Generic family 'sans-serif' not found because none of the following families were found: \n",
      "findfont: Generic family 'sans-serif' not found because none of the following families were found: \n",
      "findfont: Generic family 'sans-serif' not found because none of the following families were found: \n"
     ]
    },
    {
     "data": {
      "image/png": "[encoded data removed]",
      "text/plain": [
       "<Figure size 1000x600 with 1 Axes>"
      ]
     },
     "metadata": {},
     "output_type": "display_data"
    }
   ],
   "source": [
    "import matplotlib.pyplot as plt\n",
    "warnings.filterwarnings(\"ignore\")\n",
    "data = d_ali\n",
    "\n",
    "keys = list(data.keys())\n",
    "values = list(data.values())\n",
    "y1 = [val[0] for val in values]\n",
    "y2 = [val[1] for val in values]\n",
    "\n",
    "plt.figure(figsize=(10, 6))  # 设置图形大小\n",
    "\n",
    "plt.bar(keys, y1, width=50, label='precision', align='center', color='blue')\n",
    "plt.bar(keys, y2, width=50, label='recall', align='edge', color='orange', alpha=0.7)\n",
    "\n",
    "plt.xlabel('threshold')\n",
    "plt.ylabel('value')\n",
    "plt.title('ALIBABA - dataset')\n",
    "plt.legend()\n",
    "plt.savefig(\"alibaba.png\")\n",
    "plt.show()\n",
    "# plt.savefig(\"PAPER[SRDS-2022].png\")"
   ]
  },
  {
   "cell_type": "code",
   "execution_count": null,
   "id": "67f8072c-c5f3-4842-a7ab-aa5dc0865617",
   "metadata": {},
   "outputs": [],
   "source": []
  }
 ],
 "metadata": {
  "kernelspec": {
   "display_name": "Python 3 (ipykernel)",
   "language": "python",
   "name": "python3"
  },
  "language_info": {
   "codemirror_mode": {
    "name": "ipython",
    "version": 3
   },
   "file_extension": ".py",
   "mimetype": "text/x-python",
   "name": "python",
   "nbconvert_exporter": "python",
   "pygments_lexer": "ipython3",
   "version": "3.10.12"
  }
 },
 "nbformat": 4,
 "nbformat_minor": 5
}
